{
  "nbformat": 4,
  "nbformat_minor": 0,
  "metadata": {
    "colab": {
      "provenance": [],
      "collapsed_sections": [],
      "authorship_tag": "ABX9TyPMFre+Bu+s+RYzAGlKa9D2",
      "include_colab_link": true
    },
    "kernelspec": {
      "name": "python3",
      "display_name": "Python 3"
    },
    "language_info": {
      "name": "python"
    },
    "widgets": {
      "application/vnd.jupyter.widget-state+json": {
        "b35856a43f4b4c94ae7af196243e1752": {
          "model_module": "@jupyter-widgets/controls",
          "model_name": "HBoxModel",
          "model_module_version": "1.5.0",
          "state": {
            "_dom_classes": [],
            "_model_module": "@jupyter-widgets/controls",
            "_model_module_version": "1.5.0",
            "_model_name": "HBoxModel",
            "_view_count": null,
            "_view_module": "@jupyter-widgets/controls",
            "_view_module_version": "1.5.0",
            "_view_name": "HBoxView",
            "box_style": "",
            "children": [
              "IPY_MODEL_ac7689a09df04402964a006aacefee62",
              "IPY_MODEL_135bbab84856407785720ce92e6a23c1",
              "IPY_MODEL_80341bcecb414fb38d24831e086f7323"
            ],
            "layout": "IPY_MODEL_87ab0ab2caaa43d4b5fc1dd9d9642517"
          }
        },
        "ac7689a09df04402964a006aacefee62": {
          "model_module": "@jupyter-widgets/controls",
          "model_name": "HTMLModel",
          "model_module_version": "1.5.0",
          "state": {
            "_dom_classes": [],
            "_model_module": "@jupyter-widgets/controls",
            "_model_module_version": "1.5.0",
            "_model_name": "HTMLModel",
            "_view_count": null,
            "_view_module": "@jupyter-widgets/controls",
            "_view_module_version": "1.5.0",
            "_view_name": "HTMLView",
            "description": "",
            "description_tooltip": null,
            "layout": "IPY_MODEL_56dcd1cc881a48a4b9e473b5adc47e43",
            "placeholder": "​",
            "style": "IPY_MODEL_07b58df17ecb4baf9add68dc1dde92a7",
            "value": "Dl Completed...: 100%"
          }
        },
        "135bbab84856407785720ce92e6a23c1": {
          "model_module": "@jupyter-widgets/controls",
          "model_name": "FloatProgressModel",
          "model_module_version": "1.5.0",
          "state": {
            "_dom_classes": [],
            "_model_module": "@jupyter-widgets/controls",
            "_model_module_version": "1.5.0",
            "_model_name": "FloatProgressModel",
            "_view_count": null,
            "_view_module": "@jupyter-widgets/controls",
            "_view_module_version": "1.5.0",
            "_view_name": "ProgressView",
            "bar_style": "success",
            "description": "",
            "description_tooltip": null,
            "layout": "IPY_MODEL_0857da5e8fb64525a2e799118f63ea52",
            "max": 4,
            "min": 0,
            "orientation": "horizontal",
            "style": "IPY_MODEL_188335309ce84786bfa14c98c457794e",
            "value": 4
          }
        },
        "80341bcecb414fb38d24831e086f7323": {
          "model_module": "@jupyter-widgets/controls",
          "model_name": "HTMLModel",
          "model_module_version": "1.5.0",
          "state": {
            "_dom_classes": [],
            "_model_module": "@jupyter-widgets/controls",
            "_model_module_version": "1.5.0",
            "_model_name": "HTMLModel",
            "_view_count": null,
            "_view_module": "@jupyter-widgets/controls",
            "_view_module_version": "1.5.0",
            "_view_name": "HTMLView",
            "description": "",
            "description_tooltip": null,
            "layout": "IPY_MODEL_2545adc8c6574d4785f6cba663dece5e",
            "placeholder": "​",
            "style": "IPY_MODEL_996162bbe20242c9b910e9b15a6be170",
            "value": " 4/4 [00:00&lt;00:00, 12.06 file/s]"
          }
        },
        "87ab0ab2caaa43d4b5fc1dd9d9642517": {
          "model_module": "@jupyter-widgets/base",
          "model_name": "LayoutModel",
          "model_module_version": "1.2.0",
          "state": {
            "_model_module": "@jupyter-widgets/base",
            "_model_module_version": "1.2.0",
            "_model_name": "LayoutModel",
            "_view_count": null,
            "_view_module": "@jupyter-widgets/base",
            "_view_module_version": "1.2.0",
            "_view_name": "LayoutView",
            "align_content": null,
            "align_items": null,
            "align_self": null,
            "border": null,
            "bottom": null,
            "display": null,
            "flex": null,
            "flex_flow": null,
            "grid_area": null,
            "grid_auto_columns": null,
            "grid_auto_flow": null,
            "grid_auto_rows": null,
            "grid_column": null,
            "grid_gap": null,
            "grid_row": null,
            "grid_template_areas": null,
            "grid_template_columns": null,
            "grid_template_rows": null,
            "height": null,
            "justify_content": null,
            "justify_items": null,
            "left": null,
            "margin": null,
            "max_height": null,
            "max_width": null,
            "min_height": null,
            "min_width": null,
            "object_fit": null,
            "object_position": null,
            "order": null,
            "overflow": null,
            "overflow_x": null,
            "overflow_y": null,
            "padding": null,
            "right": null,
            "top": null,
            "visibility": null,
            "width": null
          }
        },
        "56dcd1cc881a48a4b9e473b5adc47e43": {
          "model_module": "@jupyter-widgets/base",
          "model_name": "LayoutModel",
          "model_module_version": "1.2.0",
          "state": {
            "_model_module": "@jupyter-widgets/base",
            "_model_module_version": "1.2.0",
            "_model_name": "LayoutModel",
            "_view_count": null,
            "_view_module": "@jupyter-widgets/base",
            "_view_module_version": "1.2.0",
            "_view_name": "LayoutView",
            "align_content": null,
            "align_items": null,
            "align_self": null,
            "border": null,
            "bottom": null,
            "display": null,
            "flex": null,
            "flex_flow": null,
            "grid_area": null,
            "grid_auto_columns": null,
            "grid_auto_flow": null,
            "grid_auto_rows": null,
            "grid_column": null,
            "grid_gap": null,
            "grid_row": null,
            "grid_template_areas": null,
            "grid_template_columns": null,
            "grid_template_rows": null,
            "height": null,
            "justify_content": null,
            "justify_items": null,
            "left": null,
            "margin": null,
            "max_height": null,
            "max_width": null,
            "min_height": null,
            "min_width": null,
            "object_fit": null,
            "object_position": null,
            "order": null,
            "overflow": null,
            "overflow_x": null,
            "overflow_y": null,
            "padding": null,
            "right": null,
            "top": null,
            "visibility": null,
            "width": null
          }
        },
        "07b58df17ecb4baf9add68dc1dde92a7": {
          "model_module": "@jupyter-widgets/controls",
          "model_name": "DescriptionStyleModel",
          "model_module_version": "1.5.0",
          "state": {
            "_model_module": "@jupyter-widgets/controls",
            "_model_module_version": "1.5.0",
            "_model_name": "DescriptionStyleModel",
            "_view_count": null,
            "_view_module": "@jupyter-widgets/base",
            "_view_module_version": "1.2.0",
            "_view_name": "StyleView",
            "description_width": ""
          }
        },
        "0857da5e8fb64525a2e799118f63ea52": {
          "model_module": "@jupyter-widgets/base",
          "model_name": "LayoutModel",
          "model_module_version": "1.2.0",
          "state": {
            "_model_module": "@jupyter-widgets/base",
            "_model_module_version": "1.2.0",
            "_model_name": "LayoutModel",
            "_view_count": null,
            "_view_module": "@jupyter-widgets/base",
            "_view_module_version": "1.2.0",
            "_view_name": "LayoutView",
            "align_content": null,
            "align_items": null,
            "align_self": null,
            "border": null,
            "bottom": null,
            "display": null,
            "flex": null,
            "flex_flow": null,
            "grid_area": null,
            "grid_auto_columns": null,
            "grid_auto_flow": null,
            "grid_auto_rows": null,
            "grid_column": null,
            "grid_gap": null,
            "grid_row": null,
            "grid_template_areas": null,
            "grid_template_columns": null,
            "grid_template_rows": null,
            "height": null,
            "justify_content": null,
            "justify_items": null,
            "left": null,
            "margin": null,
            "max_height": null,
            "max_width": null,
            "min_height": null,
            "min_width": null,
            "object_fit": null,
            "object_position": null,
            "order": null,
            "overflow": null,
            "overflow_x": null,
            "overflow_y": null,
            "padding": null,
            "right": null,
            "top": null,
            "visibility": null,
            "width": null
          }
        },
        "188335309ce84786bfa14c98c457794e": {
          "model_module": "@jupyter-widgets/controls",
          "model_name": "ProgressStyleModel",
          "model_module_version": "1.5.0",
          "state": {
            "_model_module": "@jupyter-widgets/controls",
            "_model_module_version": "1.5.0",
            "_model_name": "ProgressStyleModel",
            "_view_count": null,
            "_view_module": "@jupyter-widgets/base",
            "_view_module_version": "1.2.0",
            "_view_name": "StyleView",
            "bar_color": null,
            "description_width": ""
          }
        },
        "2545adc8c6574d4785f6cba663dece5e": {
          "model_module": "@jupyter-widgets/base",
          "model_name": "LayoutModel",
          "model_module_version": "1.2.0",
          "state": {
            "_model_module": "@jupyter-widgets/base",
            "_model_module_version": "1.2.0",
            "_model_name": "LayoutModel",
            "_view_count": null,
            "_view_module": "@jupyter-widgets/base",
            "_view_module_version": "1.2.0",
            "_view_name": "LayoutView",
            "align_content": null,
            "align_items": null,
            "align_self": null,
            "border": null,
            "bottom": null,
            "display": null,
            "flex": null,
            "flex_flow": null,
            "grid_area": null,
            "grid_auto_columns": null,
            "grid_auto_flow": null,
            "grid_auto_rows": null,
            "grid_column": null,
            "grid_gap": null,
            "grid_row": null,
            "grid_template_areas": null,
            "grid_template_columns": null,
            "grid_template_rows": null,
            "height": null,
            "justify_content": null,
            "justify_items": null,
            "left": null,
            "margin": null,
            "max_height": null,
            "max_width": null,
            "min_height": null,
            "min_width": null,
            "object_fit": null,
            "object_position": null,
            "order": null,
            "overflow": null,
            "overflow_x": null,
            "overflow_y": null,
            "padding": null,
            "right": null,
            "top": null,
            "visibility": null,
            "width": null
          }
        },
        "996162bbe20242c9b910e9b15a6be170": {
          "model_module": "@jupyter-widgets/controls",
          "model_name": "DescriptionStyleModel",
          "model_module_version": "1.5.0",
          "state": {
            "_model_module": "@jupyter-widgets/controls",
            "_model_module_version": "1.5.0",
            "_model_name": "DescriptionStyleModel",
            "_view_count": null,
            "_view_module": "@jupyter-widgets/base",
            "_view_module_version": "1.2.0",
            "_view_name": "StyleView",
            "description_width": ""
          }
        }
      }
    }
  },
  "cells": [
    {
      "cell_type": "markdown",
      "metadata": {
        "id": "view-in-github",
        "colab_type": "text"
      },
      "source": [
        "<a href=\"https://colab.research.google.com/github/VanessaRivas2000/Programacion-III/blob/main/Practicas_Teoricas.ipynb\" target=\"_parent\"><img src=\"https://colab.research.google.com/assets/colab-badge.svg\" alt=\"Open In Colab\"/></a>"
      ]
    },
    {
      "cell_type": "code",
      "source": [
        "print(\"Hola Mundo\", \"Bienvendos a Programacion Computacional III, con Python\")\n",
        "print(\"Mi nombre es: \", \"Vanessa Rivas\")"
      ],
      "metadata": {
        "colab": {
          "base_uri": "https://localhost:8080/"
        },
        "id": "91lGJ7wt_k7J",
        "outputId": "2437179e-b4c0-4071-9379-ddf06321e5eb"
      },
      "execution_count": null,
      "outputs": [
        {
          "output_type": "stream",
          "name": "stdout",
          "text": [
            "Hola Mundo Bienvendos a Programacion Computacional III, con Python\n",
            "Mi nombre es:  Vanessa Rivas\n"
          ]
        }
      ]
    },
    {
      "cell_type": "code",
      "source": [
        "nombre = \"Vanessa Rivas\"\n",
        "print(\"Hola \", nombre, type(nombre))\n",
        "nombre = 21\n",
        "print(\"Tu edad es: \", nombre + 2, type(nombre))"
      ],
      "metadata": {
        "colab": {
          "base_uri": "https://localhost:8080/"
        },
        "id": "UoRITVUI_37A",
        "outputId": "1a015566-29de-4afe-961e-b743201b3ba3"
      },
      "execution_count": null,
      "outputs": [
        {
          "output_type": "stream",
          "name": "stdout",
          "text": [
            "Hola  Vanessa Rivas <class 'str'>\n",
            "Tu edad es:  23 <class 'int'>\n"
          ]
        }
      ]
    },
    {
      "cell_type": "code",
      "source": [
        "nombre = \"Vanessa Rivas\"\n",
        "print(\"Tu nombre es: \", nombre, \"Longuitud de tu nombre: \", len(nombre), \"Iniciales: \", nombre[0],nombre[8])"
      ],
      "metadata": {
        "colab": {
          "base_uri": "https://localhost:8080/"
        },
        "id": "_Gb7drmcAhhC",
        "outputId": "20da5e76-61ea-4580-aade-080378aef08a"
      },
      "execution_count": null,
      "outputs": [
        {
          "output_type": "stream",
          "name": "stdout",
          "text": [
            "Tu nombre es:  Vanessa Rivas Longuitud de tu nombre:  13 Iniciales:  V R\n"
          ]
        }
      ]
    },
    {
      "cell_type": "code",
      "execution_count": null,
      "metadata": {
        "colab": {
          "base_uri": "https://localhost:8080/"
        },
        "id": "CqiBCy0GeQ4m",
        "outputId": "7d66e344-798e-4441-9bc4-a59e09ceca64"
      },
      "outputs": [
        {
          "output_type": "stream",
          "name": "stdout",
          "text": [
            "la suma de num1:  5 + num2: 4.6 es igual a: 9.6\n"
          ]
        }
      ],
      "source": [
        "num1 = 5\n",
        "num2 = 4.6\n",
        "resp = num1 + num2\n",
        "print(\"la suma de num1: \", num1, \"+ num2:\", num2, \"es igual a:\",resp)"
      ]
    },
    {
      "cell_type": "code",
      "source": [
        "num3 = 15\n",
        "num4 =7\n",
        "resp = num3 - num4\n",
        "print(\"la resta de num3: \", num3, \"- num4:\", num4, \"es igual a:\",resp)"
      ],
      "metadata": {
        "colab": {
          "base_uri": "https://localhost:8080/"
        },
        "id": "4ZXA00G7kl_v",
        "outputId": "58fa1e72-16b4-4b05-9224-fcf0e3e8ab2f"
      },
      "execution_count": null,
      "outputs": [
        {
          "output_type": "stream",
          "name": "stdout",
          "text": [
            "la resta de num3:  15 - num4: 7 es igual a: 8\n"
          ]
        }
      ]
    },
    {
      "cell_type": "code",
      "source": [
        "num1 = float(input(\"ingrese un numero entero:\"))\n",
        "num2 = float(input(\"ingrese otro Num decimal:\"))\n",
        "resp = num1 + num2\n",
        "print(\"suma\", resp, type(resp))"
      ],
      "metadata": {
        "colab": {
          "base_uri": "https://localhost:8080/"
        },
        "id": "dfmt-E4Ulm-P",
        "outputId": "6ec6999c-e0d2-4b87-a436-dcafd53fdaa3"
      },
      "execution_count": null,
      "outputs": [
        {
          "output_type": "stream",
          "name": "stdout",
          "text": [
            "ingrese un numero entero:20\n",
            "ingrese otro Num decimal:2\n",
            "suma 22.0 <class 'float'>\n"
          ]
        }
      ]
    },
    {
      "cell_type": "code",
      "source": [
        "num3 = float(input(\"ingrese un numero entero:\"))\n",
        "num4 = float(input(\"ingrese un numero decimal:\"))\n",
        "resp = num3 * num4\n",
        "print(\"multiplicacion\", resp, type(resp))\n"
      ],
      "metadata": {
        "colab": {
          "base_uri": "https://localhost:8080/"
        },
        "id": "WPCqOvYHn4ou",
        "outputId": "22e68e1c-8e65-4389-d8a3-ec061b3126a6"
      },
      "execution_count": null,
      "outputs": [
        {
          "output_type": "stream",
          "name": "stdout",
          "text": [
            "ingrese un numero entero:25\n",
            "ingrese un numero decimal:2\n",
            "multiplicacion 50.0 <class 'float'>\n"
          ]
        }
      ]
    },
    {
      "cell_type": "code",
      "source": [
        "nombre = input(\"Dime tu nombre:\")\n",
        "print(nombre, type(nombre), len(nombre))\n",
        "\n",
        "print(nombre[0], nombre[1], nombre[2], nombre[3], nombre[4], nombre[5], nombre[6])\n"
      ],
      "metadata": {
        "colab": {
          "base_uri": "https://localhost:8080/"
        },
        "id": "Ro_0RSdmn4nk",
        "outputId": "8666dd9b-a48c-4dfe-8775-732f20299d45"
      },
      "execution_count": null,
      "outputs": [
        {
          "output_type": "stream",
          "name": "stdout",
          "text": [
            "Dime tu nombre:Vanessa\n",
            "Vanessa <class 'str'> 7\n",
            "V a n e s s a\n"
          ]
        }
      ]
    },
    {
      "cell_type": "code",
      "source": [
        "resp = 4 - 4 * 6 /2 + 1\n",
        "print(resp)"
      ],
      "metadata": {
        "colab": {
          "base_uri": "https://localhost:8080/"
        },
        "id": "ZOnBRfjos_Fc",
        "outputId": "a5b06cd5-2655-45c8-a0f2-cef0e70afcee"
      },
      "execution_count": null,
      "outputs": [
        {
          "output_type": "stream",
          "name": "stdout",
          "text": [
            "-7.0\n"
          ]
        }
      ]
    },
    {
      "cell_type": "code",
      "source": [
        "gustaProgramacion = True #False\n",
        "print(\"Te gusta programar:\", gustaProgramacion)\n",
        "\n",
        "gustaDiseño = False\n",
        "print(\"Te gusta diseñar:\", gustaDiseño)"
      ],
      "metadata": {
        "colab": {
          "base_uri": "https://localhost:8080/"
        },
        "id": "Sww8mnDYuB8t",
        "outputId": "205ba5da-ee69-4a7c-cb48-a83e2c808896"
      },
      "execution_count": null,
      "outputs": [
        {
          "output_type": "stream",
          "name": "stdout",
          "text": [
            "Te gusta programar: True\n",
            "Te gusta diseñar: False\n"
          ]
        }
      ]
    },
    {
      "cell_type": "code",
      "source": [
        "def suma(num1, num2):\n",
        "  return num1 + num2\n",
        "print(\"la suma de 5 + 7 =\", suma(5,7))"
      ],
      "metadata": {
        "colab": {
          "base_uri": "https://localhost:8080/"
        },
        "id": "C8jf0NiJwHBA",
        "outputId": "406c3656-435e-41e5-a4b2-c2d4e6ceb13b"
      },
      "execution_count": null,
      "outputs": [
        {
          "output_type": "stream",
          "name": "stdout",
          "text": [
            "la suma de 5 + 7 = 12\n"
          ]
        }
      ]
    },
    {
      "cell_type": "code",
      "source": [
        "def suma(num1, num2):\n",
        "  return num1 + num2\n",
        "  num1 = float(input(\"Dime un numero:\"))\n",
        "  num2 = float(input(\"Dime otro numero\"))\n",
        "  print(\"La suma es:\", suma)(num1, num2)"
      ],
      "metadata": {
        "id": "9nfegvjzw1-7"
      },
      "execution_count": null,
      "outputs": []
    },
    {
      "cell_type": "code",
      "source": [
        "c = 27"
      ],
      "metadata": {
        "id": "z-BF8z85mOba"
      },
      "execution_count": null,
      "outputs": []
    },
    {
      "cell_type": "code",
      "source": [
        "def convertirCaF(c):\n",
        "  return c*9/5 + 32"
      ],
      "metadata": {
        "id": "bs6nLycVmhVG"
      },
      "execution_count": null,
      "outputs": []
    },
    {
      "cell_type": "code",
      "source": [
        "print(\"Celsius a F: \", convertirCaF(c))"
      ],
      "metadata": {
        "colab": {
          "base_uri": "https://localhost:8080/"
        },
        "id": "d3KkC1fSo3gL",
        "outputId": "a4926ac2-59a9-478c-bd7e-d772a8374158"
      },
      "execution_count": null,
      "outputs": [
        {
          "output_type": "stream",
          "name": "stdout",
          "text": [
            "Celsius a F:  80.6\n"
          ]
        }
      ]
    },
    {
      "cell_type": "code",
      "source": [
        "gradosCiudades = [27, 30, 32, 35, 40, 45]"
      ],
      "metadata": {
        "id": "EI0mLVx5poYg"
      },
      "execution_count": null,
      "outputs": []
    },
    {
      "cell_type": "code",
      "source": [
        "print(gradosCiudades, \"Respuesta: \", list(map(convertirCaF, gradosCiudades)))"
      ],
      "metadata": {
        "colab": {
          "base_uri": "https://localhost:8080/"
        },
        "id": "qZ8-jsYPqKmR",
        "outputId": "eb03b153-4041-47a7-998c-b923a1f7935e"
      },
      "execution_count": null,
      "outputs": [
        {
          "output_type": "stream",
          "name": "stdout",
          "text": [
            "[27, 30, 32, 35, 40, 45] Respuesta:  [80.6, 86.0, 89.6, 95.0, 104.0, 113.0]\n"
          ]
        }
      ]
    },
    {
      "cell_type": "code",
      "source": [
        "c=27\n",
        "def convertirFaC(c):\n",
        "  return (c-32)*0.55555\n",
        "  "
      ],
      "metadata": {
        "id": "7a20rt46rNrl"
      },
      "execution_count": null,
      "outputs": []
    },
    {
      "cell_type": "code",
      "source": [
        "print(\"Fahrenheit a C: \", convertirFaC(c))"
      ],
      "metadata": {
        "colab": {
          "base_uri": "https://localhost:8080/"
        },
        "id": "KkjqCzthsKSt",
        "outputId": "986e2c66-fa68-4c9b-b206-029cd590b21f"
      },
      "execution_count": null,
      "outputs": [
        {
          "output_type": "stream",
          "name": "stdout",
          "text": [
            "Fahrenheit a C:  -2.77775\n"
          ]
        }
      ]
    },
    {
      "cell_type": "code",
      "source": [
        "gradosCiudades = [27, 30, 32, 35, 40, 45]"
      ],
      "metadata": {
        "id": "_9QcIfYZs_5k"
      },
      "execution_count": null,
      "outputs": []
    },
    {
      "cell_type": "code",
      "source": [
        "print(gradosCiudades, \"Respuesta: \", list(map(convertirFaC, gradosCiudades)))"
      ],
      "metadata": {
        "colab": {
          "base_uri": "https://localhost:8080/"
        },
        "id": "fCSgkAo3t-dh",
        "outputId": "7f7ad37a-bb97-4ea9-9c71-ec3a8b030868"
      },
      "execution_count": null,
      "outputs": [
        {
          "output_type": "stream",
          "name": "stdout",
          "text": [
            "[27, 30, 32, 35, 40, 45] Respuesta:  [-2.77775, -1.1111, 0.0, 1.66665, 4.4444, 7.22215]\n"
          ]
        }
      ]
    },
    {
      "cell_type": "code",
      "source": [
        "c=80.6\n",
        "def convertirFaC(c):\n",
        "  return(c-32)*0.55555"
      ],
      "metadata": {
        "id": "M6F-80I0uRNM"
      },
      "execution_count": null,
      "outputs": []
    },
    {
      "cell_type": "code",
      "source": [
        "print(\"Fahrenheit a C: \", convertirFaC(c))"
      ],
      "metadata": {
        "colab": {
          "base_uri": "https://localhost:8080/"
        },
        "id": "7NJu9VfFvLIW",
        "outputId": "cc109b3f-78de-4dc0-dafe-d60e79c7b71b"
      },
      "execution_count": null,
      "outputs": [
        {
          "output_type": "stream",
          "name": "stdout",
          "text": [
            "Fahrenheit a C:  26.999729999999996\n"
          ]
        }
      ]
    },
    {
      "cell_type": "code",
      "source": [
        "gradosCiudades = [-2.77775, -1.1111, 0.0, 1.66665, 4.4444, 7.22215]\n"
      ],
      "metadata": {
        "id": "M1RSajOzvYmt"
      },
      "execution_count": null,
      "outputs": []
    },
    {
      "cell_type": "code",
      "source": [
        "print(gradosCiudades, \"Respuesta: \", list(map(convertirFaC, gradosCiudades)))"
      ],
      "metadata": {
        "colab": {
          "base_uri": "https://localhost:8080/"
        },
        "id": "R5KcYh51vysM",
        "outputId": "3ec548ef-1dd3-4f9b-fd9f-9ce5c67dfc0e"
      },
      "execution_count": null,
      "outputs": [
        {
          "output_type": "stream",
          "name": "stdout",
          "text": [
            "[-2.77775, -1.1111, 0.0, 1.66665, 4.4444, 7.22215] Respuesta:  [-19.320779012499997, -18.394871605, -17.7776, -16.8516925925, -15.30851358, -13.7653345675]\n"
          ]
        }
      ]
    },
    {
      "cell_type": "code",
      "source": [
        "gradosK = [300.0, 303.0, 308.0, 313.0, 218.0]\n",
        "gradosC = lambda c:(c-273.15)\n",
        "c = list(map(gradosC, gradosK))"
      ],
      "metadata": {
        "id": "e-Ak8uQLwsPQ"
      },
      "execution_count": null,
      "outputs": []
    },
    {
      "cell_type": "code",
      "source": [
        "print(c)"
      ],
      "metadata": {
        "colab": {
          "base_uri": "https://localhost:8080/"
        },
        "id": "TGwyZl3tyfn3",
        "outputId": "e2ad8f83-5309-4d9e-ac28-b2513a16744a"
      },
      "execution_count": null,
      "outputs": [
        {
          "output_type": "stream",
          "name": "stdout",
          "text": [
            "[26.850000000000023, 29.850000000000023, 34.85000000000002, 39.85000000000002, -55.14999999999998]\n"
          ]
        }
      ]
    },
    {
      "cell_type": "code",
      "source": [
        "gradosF = lambda F:F * 9/5 + 32\n",
        "grados = float(input(\"Ingrese un numero\"))\n",
        "print(\"Grados: \", gradosF(grados))"
      ],
      "metadata": {
        "colab": {
          "base_uri": "https://localhost:8080/"
        },
        "id": "xzhekLXSz_wn",
        "outputId": "7c13c372-cb87-47ce-8936-c992d58ca744"
      },
      "execution_count": null,
      "outputs": [
        {
          "output_type": "stream",
          "name": "stdout",
          "text": [
            "Ingrese un numero20\n",
            "Grados:  68.0\n"
          ]
        }
      ]
    },
    {
      "cell_type": "code",
      "source": [
        "edades = (2,5,12,18,65,100) #La tupla es inmutable, es decir, no podemos cambiar su valor y se declara con parentesis pero se usa corchetes"
      ],
      "metadata": {
        "id": "vP8EetAPq2xZ"
      },
      "execution_count": null,
      "outputs": []
    },
    {
      "cell_type": "code",
      "source": [
        "print( edades, \"La edad de bebe es la mejor: \", edades[0])"
      ],
      "metadata": {
        "colab": {
          "base_uri": "https://localhost:8080/"
        },
        "id": "4-hOUj37rZc_",
        "outputId": "0a9bccb8-5ef0-4922-f69c-1490b42ae9d4"
      },
      "execution_count": null,
      "outputs": [
        {
          "output_type": "stream",
          "name": "stdout",
          "text": [
            "(2, 5, 12, 18, 65, 100) La edad de bebe es la mejor:  2\n"
          ]
        }
      ]
    },
    {
      "cell_type": "code",
      "source": [
        "print(\"Edades: \", edades, \"Responsabilidades: \", tuple(filter(lambda e:e>=18, edades)))"
      ],
      "metadata": {
        "colab": {
          "base_uri": "https://localhost:8080/"
        },
        "id": "K5LhdmK7rZbQ",
        "outputId": "d474bd16-f9ed-4189-d477-0b4f37e37c5a"
      },
      "execution_count": null,
      "outputs": [
        {
          "output_type": "stream",
          "name": "stdout",
          "text": [
            "Edades:  (2, 5, 12, 18, 65, 100) Responsabilidades:  (18, 65, 100)\n"
          ]
        }
      ]
    },
    {
      "cell_type": "code",
      "source": [
        "print(\"Edades: \", edades, \"Al cuadrado: \", tuple(map(lambda n:n**2, edades)))"
      ],
      "metadata": {
        "colab": {
          "base_uri": "https://localhost:8080/"
        },
        "id": "6tXL9seBsMYP",
        "outputId": "2b6c3b1b-34f6-4fc2-9fae-0a08d6b0e7a4"
      },
      "execution_count": null,
      "outputs": [
        {
          "output_type": "stream",
          "name": "stdout",
          "text": [
            "Edades:  (2, 5, 12, 18, 65, 100) Al cuadrado:  (4, 25, 144, 324, 4225, 10000)\n"
          ]
        }
      ]
    },
    {
      "cell_type": "code",
      "source": [
        "notas = [6,8,10] # Listas, son mutables, es decir, podemos cambiar sus valores y se declaran y usan con corchetes.\n",
        "print(\"Notas originales: \", notas)"
      ],
      "metadata": {
        "colab": {
          "base_uri": "https://localhost:8080/"
        },
        "id": "YdIZtuBbtIN-",
        "outputId": "e5ad7f2c-eb0e-4be6-fb8d-4713a47e64db"
      },
      "execution_count": null,
      "outputs": [
        {
          "output_type": "stream",
          "name": "stdout",
          "text": [
            "Notas originales:  [6, 8, 10]\n"
          ]
        }
      ]
    },
    {
      "cell_type": "code",
      "source": [
        "notas[0]=9\n",
        "print(\"Notas: \", notas)"
      ],
      "metadata": {
        "colab": {
          "base_uri": "https://localhost:8080/"
        },
        "id": "J5akwKrdtf2t",
        "outputId": "32204e7c-e7d6-4841-ab21-702f343048de"
      },
      "execution_count": null,
      "outputs": [
        {
          "output_type": "stream",
          "name": "stdout",
          "text": [
            "Notas:  [9, 8, 10]\n"
          ]
        }
      ]
    },
    {
      "cell_type": "code",
      "source": [
        "notasprogra = [\n",
        "    [9,8,10],#C1\n",
        "    [10,6,9], #C2\n",
        "    [10,9,10], #C3\n",
        "]\n",
        "print(notasprogra)"
      ],
      "metadata": {
        "colab": {
          "base_uri": "https://localhost:8080/"
        },
        "id": "WsXCS-Iftuol",
        "outputId": "dda64275-786e-4b02-d8f5-415544e71cde"
      },
      "execution_count": null,
      "outputs": [
        {
          "output_type": "stream",
          "name": "stdout",
          "text": [
            "[[9, 8, 10], [10, 6, 9], [10, 9, 10]]\n"
          ]
        }
      ]
    },
    {
      "cell_type": "code",
      "source": [
        "print(\"Lab2 de C1\", notasprogra[0][1])"
      ],
      "metadata": {
        "colab": {
          "base_uri": "https://localhost:8080/"
        },
        "id": "EzQXSz9kudd1",
        "outputId": "1f6e2a23-b56e-4c5f-827a-a176ede81620"
      },
      "execution_count": null,
      "outputs": [
        {
          "output_type": "stream",
          "name": "stdout",
          "text": [
            "Lab2 de C1 8\n"
          ]
        }
      ]
    },
    {
      "cell_type": "code",
      "source": [
        "notas = [\n",
        "[ #Progra III\n",
        " [9,8,[8,9]], #C1\n",
        " [10,6,9], #C2\n",
        " [10,9,10], #C3\n",
        "],\n",
        "[ #Estadistica\n",
        " [5,7,10], #C1\n",
        " [9,8,9], #C2\n",
        " [10,10,10], #C3\n",
        "],\n",
        "[ #BD\n",
        " [7,8,9], #C1\n",
        " [9,8,7], #C2\n",
        " [10,9,10], #C3\n",
        "],\n",
        "[ #Ingles\n",
        " [8,9,10], #C1\n",
        " [9,10,9], #C2\n",
        " [10,10,10], #C3\n",
        "],\n",
        "[ #Circuito Digital\n",
        " [5,8,7], #C1\n",
        " [8,7,9], #C2\n",
        " [9,10,9], #C3\n",
        "]\n",
        "]\n",
        "import functools\n",
        "print(\"Lab1 de Estadistica en C1\", notas[1][0][0], \"Nota de Parcial C1 de Progra III: \", functools.reduce(lambda a,b: a + b, notas[0][0][2])/2)"
      ],
      "metadata": {
        "colab": {
          "base_uri": "https://localhost:8080/"
        },
        "id": "x_Yxlypy7kmC",
        "outputId": "d2bd9500-f919-4af8-8e23-446e66030a45"
      },
      "execution_count": null,
      "outputs": [
        {
          "output_type": "stream",
          "name": "stdout",
          "text": [
            "Lab1 de Estadistica en C1 5 Nota de Parcial C1 de Progra III:  8.5\n"
          ]
        }
      ]
    },
    {
      "cell_type": "code",
      "source": [
        "#diccionarios (JSON): Se declaran con llaves pero se usan con corchetes\n",
        "misNotas = {\n",
        "    \"Programa III\":{\n",
        "        \"C1\": {\n",
        "          \"Lab1\":9,\"Lab2\":8, \"Parcial\":{\"ParteI\":8, \"ParteII\":9}\n",
        "        },\n",
        "        \"C2\":{\n",
        "          \"Lab1\":10,\"Lab2\":6, \"Parcial\":9\n",
        "        },\n",
        "        \"C3\":{\n",
        "          \"Lab1\":10,\"Lab2\":6, \"Parcial\":9\n",
        "        }\n",
        "    },\"Estadistica\":{\n",
        "        \"C1\": {\n",
        "          \"Lab1\":5,\"Lab2\":7, \"Parcial\":10\n",
        "        },\n",
        "        \"C2\":{\n",
        "          \"Lab1\":9,\"Lab2\":8, \"Parcial\":9\n",
        "        },\n",
        "        \"C3\":{\n",
        "          \"Lab1\":10,\"Lab2\":10, \"Parcial\":10\n",
        "        }\n",
        "    }, \"BD\":{\n",
        "        \"C1\": {\n",
        "          \"Lab1\":7,\"Lab2\":8, \"Parcial\":9\n",
        "        },\n",
        "        \"C2\":{\n",
        "          \"Lab1\":9,\"Lab2\":8, \"Parcial\":7\n",
        "        },\n",
        "        \"C3\":{\n",
        "          \"Lab1\":10,\"Lab2\":9, \"Parcial\":10\n",
        "        }\n",
        "    }, \"Ingles\":{\n",
        "        \"C1\": {\n",
        "          \"Lab1\":8,\"Lab2\":9, \"Parcial\":10\n",
        "        },\n",
        "        \"C2\":{\n",
        "          \"Lab1\":9,\"Lab2\":10, \"Parcial\":9\n",
        "        },\n",
        "        \"C3\":{\n",
        "          \"Lab1\":10,\"Lab2\":10, \"Parcial\":10\n",
        "        }\n",
        "    }, \"Circuitos Digitales\":{\n",
        "        \"C1\": {\n",
        "          \"Lab1\":5,\"Lab2\":8, \"Parcial\":7\n",
        "        },\n",
        "        \"C2\":{\n",
        "          \"Lab1\":8,\"Lab2\":7, \"Parcial\":9\n",
        "        },\n",
        "        \"C3\":{\n",
        "          \"Lab1\":9,\"Lab2\":10, \"Parcial\":9\n",
        "        }\n",
        "    }\n",
        "}\n",
        "print(\"Lab1 en C1 de Estadistica: \", misNotas[\"Estadistica\"][\"C1\"][\"Lab1\"])\n",
        "misNotas[\"Estadistica\"][\"C1\"][\"Lab1\"] = float(input(\"Lab1: \"))\n",
        "print(\"Lab1 en C1 de Estadistica: \", misNotas[\"Estadistica\"][\"C1\"][\"Lab1\"])"
      ],
      "metadata": {
        "colab": {
          "base_uri": "https://localhost:8080/"
        },
        "id": "St4NmByA-GIJ",
        "outputId": "c961f4a3-3950-460d-e883-53e0baf2d867"
      },
      "execution_count": null,
      "outputs": [
        {
          "output_type": "stream",
          "name": "stdout",
          "text": [
            "Lab1 en C1 de Estadistica:  5\n",
            "Lab1: 9.5\n",
            "Lab1 en C1 de Estadistica:  9.5\n"
          ]
        }
      ]
    },
    {
      "cell_type": "code",
      "source": [
        "edad = int(input(\"Dime tu edad: \"))\n",
        "if(edad<=2):\n",
        "  print(\"Eres un bebe\")\n",
        "elif(edad<12):\n",
        "  print(\"Eres un niño\")\n",
        "elif( edad<18 ):\n",
        "  print(\"Eres un adolescente\")\n",
        "elif( edad<=55 ):\n",
        "  print(\"Eres un adulto joven\")\n",
        "elif(edad<=65):\n",
        "  print(\"Eres un Adulto\")\n",
        "elif(edad<=85):\n",
        "  print(\"Eres un adulto mayor\")\n",
        "elif(edad<=130):\n",
        "  print(\"Larga vidad...\")\n",
        "else:\n",
        "  print(\"Edad incorrecto\")\n",
        "print(\"Termino\")"
      ],
      "metadata": {
        "colab": {
          "base_uri": "https://localhost:8080/"
        },
        "id": "OBawFg7JjKiI",
        "outputId": "4fdc580f-f909-44aa-e82c-f19afb0cb975"
      },
      "execution_count": null,
      "outputs": [
        {
          "output_type": "stream",
          "name": "stdout",
          "text": [
            "Dime tu edad: 23\n",
            "Eres un adulto joven\n",
            "Termino\n"
          ]
        }
      ]
    },
    {
      "cell_type": "code",
      "source": [
        "#hacer un programa que genera la tabla de multiplicar de x numero ingreso por el usuario\n",
        "nt = int(input(\"Dime la tabla de multiplicar a generar: \"))\n",
        "i=1\n",
        "while i<=10:\n",
        "  print( nt,\"X\",i,\"=\", nt*i )\n",
        "  i+=1"
      ],
      "metadata": {
        "colab": {
          "base_uri": "https://localhost:8080/"
        },
        "id": "9WGpZuKGSxZ9",
        "outputId": "b4adca9f-ed09-435d-e9d0-e601fd28cda3"
      },
      "execution_count": null,
      "outputs": [
        {
          "output_type": "stream",
          "name": "stdout",
          "text": [
            "Dime la tabla de multiplicar a generar: 12\n",
            "12 X 1 = 12\n",
            "12 X 2 = 24\n",
            "12 X 3 = 36\n",
            "12 X 4 = 48\n",
            "12 X 5 = 60\n",
            "12 X 6 = 72\n",
            "12 X 7 = 84\n",
            "12 X 8 = 96\n",
            "12 X 9 = 108\n",
            "12 X 10 = 120\n"
          ]
        }
      ]
    },
    {
      "cell_type": "code",
      "source": [
        "#hacer un programa que genera la tabla de multiplicar de x numero ingreso por el usuario\n",
        "nt = int(input(\"Dime la tabla que deseas generar: \"))\n",
        "for i in range(1,11): #i<11\n",
        "  print(nt,\"X\",i,\"=\", nt*i)"
      ],
      "metadata": {
        "colab": {
          "base_uri": "https://localhost:8080/"
        },
        "id": "r63AhZHhTSbz",
        "outputId": "d15b2516-f8ff-4138-8ab0-26a3eabd59b0"
      },
      "execution_count": null,
      "outputs": [
        {
          "output_type": "stream",
          "name": "stdout",
          "text": [
            "Dime la tabla que deseas generar: 12\n",
            "12 X 1 = 12\n",
            "12 X 2 = 24\n",
            "12 X 3 = 36\n",
            "12 X 4 = 48\n",
            "12 X 5 = 60\n",
            "12 X 6 = 72\n",
            "12 X 7 = 84\n",
            "12 X 8 = 96\n",
            "12 X 9 = 108\n",
            "12 X 10 = 120\n"
          ]
        }
      ]
    },
    {
      "cell_type": "code",
      "source": [
        "#hacer un programa que genera la tabla de multiplicar de x numero ingreso por el usuario\n",
        "s = \"s\"\n",
        "while s==\"s\":\n",
        "  nt = int(input(\"Dime una tabla: \"))\n",
        "  for i in range(1, 11):\n",
        "    print(nt, \"X\",i,\"=\", nt*i)\n",
        "  s = input(\"Desea continua presione la tecla s, sino cualquier otra\")"
      ],
      "metadata": {
        "colab": {
          "base_uri": "https://localhost:8080/"
        },
        "id": "z5v_uVajTaSj",
        "outputId": "8e037d6d-15cd-4540-a486-a725baa2fcf5"
      },
      "execution_count": null,
      "outputs": [
        {
          "name": "stdout",
          "output_type": "stream",
          "text": [
            "Dime una tabla: 12\n",
            "12 X 1 = 12\n",
            "12 X 2 = 24\n",
            "12 X 3 = 36\n",
            "12 X 4 = 48\n",
            "12 X 5 = 60\n",
            "12 X 6 = 72\n",
            "12 X 7 = 84\n",
            "12 X 8 = 96\n",
            "12 X 9 = 108\n",
            "12 X 10 = 120\n",
            "Desea continua presione la tecla s, sino cualquier otras\n",
            "Dime una tabla: 10\n",
            "10 X 1 = 10\n",
            "10 X 2 = 20\n",
            "10 X 3 = 30\n",
            "10 X 4 = 40\n",
            "10 X 5 = 50\n",
            "10 X 6 = 60\n",
            "10 X 7 = 70\n",
            "10 X 8 = 80\n",
            "10 X 9 = 90\n",
            "10 X 10 = 100\n",
            "Desea continua presione la tecla s, sino cualquier otras\n",
            "Dime una tabla: 8\n",
            "8 X 1 = 8\n",
            "8 X 2 = 16\n",
            "8 X 3 = 24\n",
            "8 X 4 = 32\n",
            "8 X 5 = 40\n",
            "8 X 6 = 48\n",
            "8 X 7 = 56\n",
            "8 X 8 = 64\n",
            "8 X 9 = 72\n",
            "8 X 10 = 80\n",
            "Desea continua presione la tecla s, sino cualquier otra\n"
          ]
        }
      ]
    },
    {
      "cell_type": "code",
      "source": [
        "#conversores\n",
        "etiquetas = [\n",
        "    0,\n",
        "    [\"Seleccione un moneda\", \"1. Dolar\", \"2. Colon SV\", \"3. Quetzal\", \"4. Lempira\", \"5. Cordoba\"],\n",
        "    [\"Selecione un almacenamiento\", \"1. MegaByte\", \"2. Bit\", \"3. Byte\", \"4. KiloByte\", \"5. GigaByte\"]\n",
        "    ,3,4,5]\n",
        "\n",
        "valores = [0,\n",
        "  [0,1, 8.75, 7.73, 24.49, 35.96],\n",
        "  [0,1, 8388608, 1048576, 1024, 0.0009765625]  "
      ],
      "metadata": {
        "id": "7K9-javAToCx"
      },
      "execution_count": null,
      "outputs": []
    },
    {
      "cell_type": "code",
      "source": [
        "def convertir(opcion, de, a, cantidad):\n",
        "  return valores[opcion][a] / valores[opcion][de] * cantidad"
      ],
      "metadata": {
        "id": "ET-TnA2RTvd-"
      },
      "execution_count": null,
      "outputs": []
    },
    {
      "cell_type": "code",
      "source": [
        "print(\"** MENU **\")\n",
        "print(\"1. Monedas\")\n",
        "print(\"2. Almacenamiento\")\n",
        "opcion = int(input(\"Opcion: \"))\n",
        "\n",
        "print( etiquetas[opcion] )\n",
        "de = int(input(\"DE: \"))\n",
        "a = int(input(\"A: \"))\n",
        "cantidad = float(input(\"Cantidad: \"))\n",
        "\n",
        "print( etiquetas[opcion][de], \" en \", etiquetas[opcion][a], \" equivale a: \", convertir(opcion, de, a, cantidad) )"
      ],
      "metadata": {
        "colab": {
          "base_uri": "https://localhost:8080/"
        },
        "id": "yuhyLnJxT1B-",
        "outputId": "dd6b51a7-c318-4c2d-d224-67d85e92b529"
      },
      "execution_count": null,
      "outputs": [
        {
          "output_type": "stream",
          "name": "stdout",
          "text": [
            "** MENU **\n",
            "1. Monedas\n",
            "2. Almacenamiento\n",
            "Opcion: 2\n",
            "['Selecione un almacenamiento', '1. MegaByte', '2. Bit', '3. Byte', '4. KiloByte', '5. GigaByte']\n",
            "DE: 5\n",
            "A: 3\n",
            "Cantidad: 36\n",
            "5. GigaByte  en  3. Byte  equivale a:  38654705664.0\n"
          ]
        }
      ]
    },
    {
      "cell_type": "code",
      "source": [
        "# Semana 7 - Miercoles 08/09/2022"
      ],
      "metadata": {
        "id": "WCRZP0xa2fi0"
      },
      "execution_count": null,
      "outputs": []
    },
    {
      "cell_type": "code",
      "source": [
        "#POLIMORFISMO\n",
        "#el polimorfismo lo tiene el signo (objeto) +\n",
        "nombre = \"Vanessa Rivas\"\n",
        "saludo = \"Hola \" + nombre\n",
        "print(saludo)\n",
        "\n",
        "num1 = 5\n",
        "num2 = 4.6\n",
        "resp = num1 + num2\n",
        "mensaje = \"Respuesta \"+ str(resp)\n",
        "print(mensaje)\n",
        "\n",
        "#VB\n",
        "#num1 = 5 #Asignacion\n",
        "#if num1=5: #comparacion\n",
        "#  print(\"La variable num1 es igual a 5\")"
      ],
      "metadata": {
        "colab": {
          "base_uri": "https://localhost:8080/"
        },
        "id": "1lKTk9MY2NH3",
        "outputId": "5b9b549b-10d1-4d29-bdc0-94988089d907"
      },
      "execution_count": null,
      "outputs": [
        {
          "output_type": "stream",
          "name": "stdout",
          "text": [
            "Hola Vanessa Rivas\n",
            "Respuesta 9.6\n"
          ]
        }
      ]
    },
    {
      "cell_type": "code",
      "source": [],
      "metadata": {
        "id": "6Gbxyo9n3eya"
      },
      "execution_count": null,
      "outputs": []
    },
    {
      "cell_type": "code",
      "source": [
        "#polimosfismo\n",
        "\n",
        "num1 = 5.5\n",
        "num2 = 4.5\n",
        "print(\"Suma: \", num1 + num2)\n",
        "\n",
        "nombre = \" Vanessa \"\n",
        "saludo = \"Hola \" + nombre\n",
        "print(saludo)"
      ],
      "metadata": {
        "colab": {
          "base_uri": "https://localhost:8080/"
        },
        "id": "lvBYgvqRFura",
        "outputId": "945074fc-2954-4f68-9890-81cbbb7c1d73"
      },
      "execution_count": null,
      "outputs": [
        {
          "output_type": "stream",
          "name": "stdout",
          "text": [
            "Suma:  10.0\n",
            "Hola  Vanessa \n"
          ]
        }
      ]
    },
    {
      "cell_type": "code",
      "source": [
        "!pip --version\n",
        "!pip -V"
      ],
      "metadata": {
        "colab": {
          "base_uri": "https://localhost:8080/"
        },
        "id": "gsHGoJc92Oq1",
        "outputId": "5ecc52f3-223c-4de7-c8f6-224abfbcb4f7"
      },
      "execution_count": null,
      "outputs": [
        {
          "output_type": "stream",
          "name": "stdout",
          "text": [
            "pip 21.1.3 from /usr/local/lib/python3.7/dist-packages/pip (python 3.7)\n",
            "pip 21.1.3 from /usr/local/lib/python3.7/dist-packages/pip (python 3.7)\n"
          ]
        }
      ]
    },
    {
      "cell_type": "code",
      "source": [
        "# Practica Presencial 09/09/2022"
      ],
      "metadata": {
        "id": "7odKOMqr4bPg"
      },
      "execution_count": null,
      "outputs": []
    },
    {
      "cell_type": "code",
      "source": [
        "!pip install pandas"
      ],
      "metadata": {
        "colab": {
          "base_uri": "https://localhost:8080/"
        },
        "id": "nf-u5yQd2nH0",
        "outputId": "8126ad09-fc45-43e9-e835-dd9f584d6cb9"
      },
      "execution_count": null,
      "outputs": [
        {
          "output_type": "stream",
          "name": "stdout",
          "text": [
            "Looking in indexes: https://pypi.org/simple, https://us-python.pkg.dev/colab-wheels/public/simple/\n",
            "Requirement already satisfied: pandas in /usr/local/lib/python3.7/dist-packages (1.3.5)\n",
            "Requirement already satisfied: numpy>=1.17.3 in /usr/local/lib/python3.7/dist-packages (from pandas) (1.21.6)\n",
            "Requirement already satisfied: pytz>=2017.3 in /usr/local/lib/python3.7/dist-packages (from pandas) (2022.2.1)\n",
            "Requirement already satisfied: python-dateutil>=2.7.3 in /usr/local/lib/python3.7/dist-packages (from pandas) (2.8.2)\n",
            "Requirement already satisfied: six>=1.5 in /usr/local/lib/python3.7/dist-packages (from python-dateutil>=2.7.3->pandas) (1.15.0)\n"
          ]
        }
      ]
    },
    {
      "cell_type": "code",
      "source": [
        "!pip install keras"
      ],
      "metadata": {
        "colab": {
          "base_uri": "https://localhost:8080/"
        },
        "id": "I3WnWQRM4Od4",
        "outputId": "557ce6b0-e723-489a-90e6-7a2175b02fea"
      },
      "execution_count": null,
      "outputs": [
        {
          "output_type": "stream",
          "name": "stdout",
          "text": [
            "Looking in indexes: https://pypi.org/simple, https://us-python.pkg.dev/colab-wheels/public/simple/\n",
            "Requirement already satisfied: keras in /usr/local/lib/python3.7/dist-packages (2.8.0)\n"
          ]
        }
      ]
    },
    {
      "cell_type": "code",
      "source": [
        "# Gestor de paquete de Java Scrip (NPM) "
      ],
      "metadata": {
        "id": "5Kf65m6JGXPm"
      },
      "execution_count": null,
      "outputs": []
    },
    {
      "cell_type": "code",
      "source": [
        "# POO; Self = ella misma; Init = inicializar"
      ],
      "metadata": {
        "id": "ZSM0FG0X4T3o"
      },
      "execution_count": null,
      "outputs": []
    },
    {
      "cell_type": "code",
      "source": [
        "class deducciones:\n",
        "  def __init__(self, sueldo, porcentajeIsss, porcentajeAfp, tablaIsr):\n",
        "    self.sueldo = sueldo\n",
        "    self.porcentajeIsss = porcentajeIsss\n",
        "    self.porcentajeAfp = porcentajeAfp\n",
        "    self.tablaIsr = tablaIsr\n",
        "  \n",
        "  def calcularIsss(self):\n",
        "    return self.sueldo*self.porcentajeIsss/100\n",
        "\n",
        "  def calcularAfp(self):\n",
        "    return self.sueldo*self.porcentajeAfp/100\n",
        "  \n",
        "  def calcularIsr(self):\n",
        "    self.sueldoNeto = self.sueldo - (self.calcularIsss() + self.calcularAfp())\n",
        "    self.isr = 0\n",
        "    for tramo in self.tablaIsr:\n",
        "      if self.sueldoNeto>=tramo[0] and self.sueldoNeto<=tramo[1]:\n",
        "        self.isr = (self.sueldoNeto - tramo[0])*tramo[2]/100 + tramo[3]\n",
        "    return self.isr"
      ],
      "metadata": {
        "id": "AgwlW7oN4gq4"
      },
      "execution_count": null,
      "outputs": []
    },
    {
      "cell_type": "code",
      "source": [
        " #ISSS\n",
        "porcentajeIsssP = 3 #este valor puede venir de una base de datos\n",
        "porcentajeIsssE = 7.5\n",
        "#aFP\n",
        "porcentajeAfpP = 6.25\n",
        "porcentajeAfpE = 7.75\n",
        "#ISR\n",
        "tablaIsr = [\n",
        "    [0.01,    472,     0,  0],     #tramo I\n",
        "    [472.01,  895.24,  10, 17.67], #tramo II\n",
        "    [895.25,  2038.10, 20, 60],    #tramo III\n",
        "    [2038.11, 9999999, 30, 288.57] #tramo IV\n",
        "]"
      ],
      "metadata": {
        "id": "s-TZAsOK-r55"
      },
      "execution_count": null,
      "outputs": []
    },
    {
      "cell_type": "code",
      "source": [
        "sueldo = float(input(\"Sueldo: \"))\n",
        "\n",
        "objDp = deducciones(sueldo, porcentajeIsssP, porcentajeAfpP, tablaIsr)\n",
        "objDe = deducciones(sueldo, porcentajeIsssE, porcentajeAfpE, tablaIsr)\n",
        "\n",
        "print(\"ISSS - Personas: \", round(objDp.calcularIsss(),2), \"ISSS - Empresa:\", round(objDe.calcularIsss(),2))\n",
        "print(\"AFP - Personas: \", round(objDp.calcularAfp(),2), \"AFP - Empresa: \", round(objDe.calcularAfp(), 2))\n",
        "print(\"Isr - Personas: \", round(objDp.calcularIsr(),2) )"
      ],
      "metadata": {
        "id": "iERpFelYDtsu",
        "colab": {
          "base_uri": "https://localhost:8080/"
        },
        "outputId": "bcb91b02-5cbd-4d7e-81c7-20b70abab68e"
      },
      "execution_count": null,
      "outputs": [
        {
          "output_type": "stream",
          "name": "stdout",
          "text": [
            "Sueldo: 511.23\n",
            "ISSS - Personas:  15.34 ISSS - Empresa: 38.34\n",
            "AFP - Personas:  31.95 AFP - Empresa:  39.62\n",
            "Isr - Personas:  0.0\n"
          ]
        }
      ]
    },
    {
      "cell_type": "code",
      "source": [
        "!pip install pandas"
      ],
      "metadata": {
        "colab": {
          "base_uri": "https://localhost:8080/"
        },
        "id": "DrnG9O6B-_yJ",
        "outputId": "729c1bf1-3f17-4f2a-c96f-6cfc7b581bbd"
      },
      "execution_count": null,
      "outputs": [
        {
          "output_type": "stream",
          "name": "stdout",
          "text": [
            "Looking in indexes: https://pypi.org/simple, https://us-python.pkg.dev/colab-wheels/public/simple/\n",
            "Requirement already satisfied: pandas in /usr/local/lib/python3.7/dist-packages (1.3.5)\n",
            "Requirement already satisfied: python-dateutil>=2.7.3 in /usr/local/lib/python3.7/dist-packages (from pandas) (2.8.2)\n",
            "Requirement already satisfied: numpy>=1.17.3 in /usr/local/lib/python3.7/dist-packages (from pandas) (1.21.6)\n",
            "Requirement already satisfied: pytz>=2017.3 in /usr/local/lib/python3.7/dist-packages (from pandas) (2022.2.1)\n",
            "Requirement already satisfied: six>=1.5 in /usr/local/lib/python3.7/dist-packages (from python-dateutil>=2.7.3->pandas) (1.15.0)\n"
          ]
        }
      ]
    },
    {
      "cell_type": "code",
      "source": [
        "!pip --version\n",
        "!pip -V"
      ],
      "metadata": {
        "colab": {
          "base_uri": "https://localhost:8080/"
        },
        "id": "tK0T2oV0CD1R",
        "outputId": "221a224e-8fd6-4b62-bc45-072eb0792c5b"
      },
      "execution_count": null,
      "outputs": [
        {
          "output_type": "stream",
          "name": "stdout",
          "text": [
            "pip 21.1.3 from /usr/local/lib/python3.7/dist-packages/pip (python 3.7)\n",
            "pip 21.1.3 from /usr/local/lib/python3.7/dist-packages/pip (python 3.7)\n"
          ]
        }
      ]
    },
    {
      "cell_type": "code",
      "source": [
        "# Practica - Miercoles/14/Sep/2022"
      ],
      "metadata": {
        "id": "PCAm6h7T5sdc"
      },
      "execution_count": null,
      "outputs": []
    },
    {
      "cell_type": "code",
      "source": [
        "lenguajes = [\"VB\",\"C#\",\"JAVA\",\"XML\",\"PYTHON\",\"PHP\",\"HTML\",\"JS\",\"CSS\"]\n",
        "#print(len(lenguajes), lenguajes.count(\"VB\") )\n",
        "print(lenguajes[2])\n",
        "for lenguaje in lenguajes:\n",
        "  print( lenguaje)\n"
      ],
      "metadata": {
        "colab": {
          "base_uri": "https://localhost:8080/"
        },
        "id": "Dau6MJ9n5sbp",
        "outputId": "5d65baa9-823e-45de-ea00-588c0f9ee82a"
      },
      "execution_count": null,
      "outputs": [
        {
          "output_type": "stream",
          "name": "stdout",
          "text": [
            "JAVA\n",
            "VB\n",
            "C#\n",
            "JAVA\n",
            "XML\n",
            "PYTHON\n",
            "PHP\n",
            "HTML\n",
            "JS\n",
            "CSS\n"
          ]
        }
      ]
    },
    {
      "cell_type": "code",
      "source": [
        "lenguajes ={\n",
        "  0:\"VB\",\n",
        "  1:\"C#\",\n",
        "  2:\"JAVA\",\n",
        "  3:\"XML\",\n",
        "  4:\"PYTHON\",\n",
        "  5:\"JS\",\n",
        "  6:\"HTML\",\n",
        "  7:\"CSS\",\n",
        "  8:\"PHP\",\n",
        "         \n",
        "};\n",
        "pdLenguajes = pd.Series(lenguajes);\n",
        "print( lenguajes, dict(pdLenguajes) );\n",
        "\n",
        "pdLeng = pd.Series([\"VB\", \"CH\", \"JAVA\",\"XML\", \"PYTHON\"], index=[1,2,3,4,5])\n",
        "print( dict(pdLeng), pdLeng[1] )"
      ],
      "metadata": {
        "colab": {
          "base_uri": "https://localhost:8080/"
        },
        "id": "4LGTBXWXGln-",
        "outputId": "bfecfe5f-7b97-4cd8-aec5-1b58ed2fa8f6"
      },
      "execution_count": null,
      "outputs": [
        {
          "output_type": "stream",
          "name": "stdout",
          "text": [
            "{0: 'VB', 1: 'C#', 2: 'JAVA', 3: 'XML', 4: 'PYTHON', 5: 'JS', 6: 'HTML', 7: 'CSS', 8: 'PHP'} {0: 'VB', 1: 'C#', 2: 'JAVA', 3: 'XML', 4: 'PYTHON', 5: 'JS', 6: 'HTML', 7: 'CSS', 8: 'PHP'}\n",
            "{1: 'VB', 2: 'CH', 3: 'JAVA', 4: 'XML', 5: 'PYTHON'} VB\n"
          ]
        }
      ]
    },
    {
      "cell_type": "code",
      "source": [
        "lenguajes = {\n",
        "    \"Fundamentos\":\"VB\",\n",
        "    \"Programacion_I\" : \"C#\",\n",
        "    \"Programacion_II\" : [\"JAVA\", \"XML\"],\n",
        "    \"Programacion_III\" : [\"PYTHON\", \"HTML\", \"JS\", \"CSS\"],\n",
        "    \"Programacion_IV\" : [\"PHP\", \"HTML\", \"JS\", \"CSS\"],\n",
        "\n",
        "}\n",
        "\n",
        "#print( Len(lenguajes[\"Programacion_III\"]))\n",
        "\n",
        "for key in lenguajes:\n",
        "  print(lenguajes[key], type(lenguajes[key]))"
      ],
      "metadata": {
        "colab": {
          "base_uri": "https://localhost:8080/"
        },
        "id": "CIPayLPh-VJT",
        "outputId": "f0f69daf-d546-460d-80b7-8dcf4eb983e6"
      },
      "execution_count": null,
      "outputs": [
        {
          "output_type": "stream",
          "name": "stdout",
          "text": [
            "VB <class 'str'>\n",
            "C# <class 'str'>\n",
            "['JAVA', 'XML'] <class 'list'>\n",
            "['PYTHON', 'HTML', 'JS', 'CSS'] <class 'list'>\n",
            "['PHP', 'HTML', 'JS', 'CSS'] <class 'list'>\n"
          ]
        }
      ]
    },
    {
      "cell_type": "code",
      "source": [
        "#Libreria pandas \n",
        "import pandas as pd"
      ],
      "metadata": {
        "id": "p1mWhSNb-VHK"
      },
      "execution_count": null,
      "outputs": []
    },
    {
      "cell_type": "code",
      "source": [
        "lenguajes = pd.Series(\n",
        "    [\"VB\",\"C#\",\"JAVA\",\"XML\",\"PYTHON\",\"PHP\",\"HTML\",\"JS\",\"CSS\"],\n",
        "    index = [5,1, 2, 2, 3, 4, 4, 4, 4]\n",
        ")\n",
        "print(lenguajes[4])"
      ],
      "metadata": {
        "colab": {
          "base_uri": "https://localhost:8080/"
        },
        "id": "3vjYKZ0jENaJ",
        "outputId": "fa887483-2eda-4e22-9726-5218dc8a9c75"
      },
      "execution_count": null,
      "outputs": [
        {
          "output_type": "stream",
          "name": "stdout",
          "text": [
            "4     PHP\n",
            "4    HTML\n",
            "4      JS\n",
            "4     CSS\n",
            "dtype: object\n"
          ]
        }
      ]
    },
    {
      "cell_type": "code",
      "source": [
        "lenguajes = {\n",
        "    \"Fundamentos\":\"VB\",\n",
        "    1:\"C#\",\n",
        "    2:\"JAVA\"\n",
        "}\n",
        "pdLenguajes = pd.Series(lenguajes)\n",
        "print(pdLenguajes[\"Fundamentos\"])"
      ],
      "metadata": {
        "colab": {
          "base_uri": "https://localhost:8080/"
        },
        "id": "RKA-EQm6Elez",
        "outputId": "adbe7a35-e350-4184-9d68-299b3b175aca"
      },
      "execution_count": null,
      "outputs": [
        {
          "output_type": "stream",
          "name": "stdout",
          "text": [
            "VB\n"
          ]
        }
      ]
    },
    {
      "cell_type": "code",
      "source": [
        "import pandas as pd"
      ],
      "metadata": {
        "id": "qKkUzoRaTm3r"
      },
      "execution_count": null,
      "outputs": []
    },
    {
      "cell_type": "code",
      "source": [
        "#Jacqueline Vanessa Rivas Araujo\n",
        "\n",
        "notas = pd.read_csv(\"/content/notas.csv\", sep=\";\", encoding=\"utf-8\")\n",
        "print(notas)\n"
      ],
      "metadata": {
        "colab": {
          "base_uri": "https://localhost:8080/",
          "height": 380
        },
        "id": "JUBRPMYCG9y9",
        "outputId": "8864e606-bb37-4808-bd59-33b0cbb0fa0c"
      },
      "execution_count": null,
      "outputs": [
        {
          "output_type": "error",
          "ename": "FileNotFoundError",
          "evalue": "ignored",
          "traceback": [
            "\u001b[0;31m---------------------------------------------------------------------------\u001b[0m",
            "\u001b[0;31mFileNotFoundError\u001b[0m                         Traceback (most recent call last)",
            "\u001b[0;32m<ipython-input-54-82708794fa1a>\u001b[0m in \u001b[0;36m<module>\u001b[0;34m\u001b[0m\n\u001b[1;32m      1\u001b[0m \u001b[0;31m#Jacqueline Vanessa Rivas Araujo\u001b[0m\u001b[0;34m\u001b[0m\u001b[0;34m\u001b[0m\u001b[0;34m\u001b[0m\u001b[0m\n\u001b[1;32m      2\u001b[0m \u001b[0;34m\u001b[0m\u001b[0m\n\u001b[0;32m----> 3\u001b[0;31m \u001b[0mnotas\u001b[0m \u001b[0;34m=\u001b[0m \u001b[0mpd\u001b[0m\u001b[0;34m.\u001b[0m\u001b[0mread_csv\u001b[0m\u001b[0;34m(\u001b[0m\u001b[0;34m\"/content/notas.csv\"\u001b[0m\u001b[0;34m,\u001b[0m \u001b[0msep\u001b[0m\u001b[0;34m=\u001b[0m\u001b[0;34m\";\"\u001b[0m\u001b[0;34m,\u001b[0m \u001b[0mencoding\u001b[0m\u001b[0;34m=\u001b[0m\u001b[0;34m\"utf-8\"\u001b[0m\u001b[0;34m)\u001b[0m\u001b[0;34m\u001b[0m\u001b[0;34m\u001b[0m\u001b[0m\n\u001b[0m\u001b[1;32m      4\u001b[0m \u001b[0mprint\u001b[0m\u001b[0;34m(\u001b[0m\u001b[0mnotas\u001b[0m\u001b[0;34m)\u001b[0m\u001b[0;34m\u001b[0m\u001b[0;34m\u001b[0m\u001b[0m\n\u001b[1;32m      5\u001b[0m \u001b[0mprint\u001b[0m \u001b[0;34m(\u001b[0m\u001b[0mnotas\u001b[0m\u001b[0;34m[\u001b[0m\u001b[0;34m\"alumnos\"\u001b[0m\u001b[0;34m]\u001b[0m\u001b[0;34m)\u001b[0m\u001b[0;34m\u001b[0m\u001b[0;34m\u001b[0m\u001b[0m\n",
            "\u001b[0;32m/usr/local/lib/python3.7/dist-packages/pandas/util/_decorators.py\u001b[0m in \u001b[0;36mwrapper\u001b[0;34m(*args, **kwargs)\u001b[0m\n\u001b[1;32m    309\u001b[0m                     \u001b[0mstacklevel\u001b[0m\u001b[0;34m=\u001b[0m\u001b[0mstacklevel\u001b[0m\u001b[0;34m,\u001b[0m\u001b[0;34m\u001b[0m\u001b[0;34m\u001b[0m\u001b[0m\n\u001b[1;32m    310\u001b[0m                 )\n\u001b[0;32m--> 311\u001b[0;31m             \u001b[0;32mreturn\u001b[0m \u001b[0mfunc\u001b[0m\u001b[0;34m(\u001b[0m\u001b[0;34m*\u001b[0m\u001b[0margs\u001b[0m\u001b[0;34m,\u001b[0m \u001b[0;34m**\u001b[0m\u001b[0mkwargs\u001b[0m\u001b[0;34m)\u001b[0m\u001b[0;34m\u001b[0m\u001b[0;34m\u001b[0m\u001b[0m\n\u001b[0m\u001b[1;32m    312\u001b[0m \u001b[0;34m\u001b[0m\u001b[0m\n\u001b[1;32m    313\u001b[0m         \u001b[0;32mreturn\u001b[0m \u001b[0mwrapper\u001b[0m\u001b[0;34m\u001b[0m\u001b[0;34m\u001b[0m\u001b[0m\n",
            "\u001b[0;32m/usr/local/lib/python3.7/dist-packages/pandas/io/parsers/readers.py\u001b[0m in \u001b[0;36mread_csv\u001b[0;34m(filepath_or_buffer, sep, delimiter, header, names, index_col, usecols, squeeze, prefix, mangle_dupe_cols, dtype, engine, converters, true_values, false_values, skipinitialspace, skiprows, skipfooter, nrows, na_values, keep_default_na, na_filter, verbose, skip_blank_lines, parse_dates, infer_datetime_format, keep_date_col, date_parser, dayfirst, cache_dates, iterator, chunksize, compression, thousands, decimal, lineterminator, quotechar, quoting, doublequote, escapechar, comment, encoding, encoding_errors, dialect, error_bad_lines, warn_bad_lines, on_bad_lines, delim_whitespace, low_memory, memory_map, float_precision, storage_options)\u001b[0m\n\u001b[1;32m    584\u001b[0m     \u001b[0mkwds\u001b[0m\u001b[0;34m.\u001b[0m\u001b[0mupdate\u001b[0m\u001b[0;34m(\u001b[0m\u001b[0mkwds_defaults\u001b[0m\u001b[0;34m)\u001b[0m\u001b[0;34m\u001b[0m\u001b[0;34m\u001b[0m\u001b[0m\n\u001b[1;32m    585\u001b[0m \u001b[0;34m\u001b[0m\u001b[0m\n\u001b[0;32m--> 586\u001b[0;31m     \u001b[0;32mreturn\u001b[0m \u001b[0m_read\u001b[0m\u001b[0;34m(\u001b[0m\u001b[0mfilepath_or_buffer\u001b[0m\u001b[0;34m,\u001b[0m \u001b[0mkwds\u001b[0m\u001b[0;34m)\u001b[0m\u001b[0;34m\u001b[0m\u001b[0;34m\u001b[0m\u001b[0m\n\u001b[0m\u001b[1;32m    587\u001b[0m \u001b[0;34m\u001b[0m\u001b[0m\n\u001b[1;32m    588\u001b[0m \u001b[0;34m\u001b[0m\u001b[0m\n",
            "\u001b[0;32m/usr/local/lib/python3.7/dist-packages/pandas/io/parsers/readers.py\u001b[0m in \u001b[0;36m_read\u001b[0;34m(filepath_or_buffer, kwds)\u001b[0m\n\u001b[1;32m    480\u001b[0m \u001b[0;34m\u001b[0m\u001b[0m\n\u001b[1;32m    481\u001b[0m     \u001b[0;31m# Create the parser.\u001b[0m\u001b[0;34m\u001b[0m\u001b[0;34m\u001b[0m\u001b[0;34m\u001b[0m\u001b[0m\n\u001b[0;32m--> 482\u001b[0;31m     \u001b[0mparser\u001b[0m \u001b[0;34m=\u001b[0m \u001b[0mTextFileReader\u001b[0m\u001b[0;34m(\u001b[0m\u001b[0mfilepath_or_buffer\u001b[0m\u001b[0;34m,\u001b[0m \u001b[0;34m**\u001b[0m\u001b[0mkwds\u001b[0m\u001b[0;34m)\u001b[0m\u001b[0;34m\u001b[0m\u001b[0;34m\u001b[0m\u001b[0m\n\u001b[0m\u001b[1;32m    483\u001b[0m \u001b[0;34m\u001b[0m\u001b[0m\n\u001b[1;32m    484\u001b[0m     \u001b[0;32mif\u001b[0m \u001b[0mchunksize\u001b[0m \u001b[0;32mor\u001b[0m \u001b[0miterator\u001b[0m\u001b[0;34m:\u001b[0m\u001b[0;34m\u001b[0m\u001b[0;34m\u001b[0m\u001b[0m\n",
            "\u001b[0;32m/usr/local/lib/python3.7/dist-packages/pandas/io/parsers/readers.py\u001b[0m in \u001b[0;36m__init__\u001b[0;34m(self, f, engine, **kwds)\u001b[0m\n\u001b[1;32m    809\u001b[0m             \u001b[0mself\u001b[0m\u001b[0;34m.\u001b[0m\u001b[0moptions\u001b[0m\u001b[0;34m[\u001b[0m\u001b[0;34m\"has_index_names\"\u001b[0m\u001b[0;34m]\u001b[0m \u001b[0;34m=\u001b[0m \u001b[0mkwds\u001b[0m\u001b[0;34m[\u001b[0m\u001b[0;34m\"has_index_names\"\u001b[0m\u001b[0;34m]\u001b[0m\u001b[0;34m\u001b[0m\u001b[0;34m\u001b[0m\u001b[0m\n\u001b[1;32m    810\u001b[0m \u001b[0;34m\u001b[0m\u001b[0m\n\u001b[0;32m--> 811\u001b[0;31m         \u001b[0mself\u001b[0m\u001b[0;34m.\u001b[0m\u001b[0m_engine\u001b[0m \u001b[0;34m=\u001b[0m \u001b[0mself\u001b[0m\u001b[0;34m.\u001b[0m\u001b[0m_make_engine\u001b[0m\u001b[0;34m(\u001b[0m\u001b[0mself\u001b[0m\u001b[0;34m.\u001b[0m\u001b[0mengine\u001b[0m\u001b[0;34m)\u001b[0m\u001b[0;34m\u001b[0m\u001b[0;34m\u001b[0m\u001b[0m\n\u001b[0m\u001b[1;32m    812\u001b[0m \u001b[0;34m\u001b[0m\u001b[0m\n\u001b[1;32m    813\u001b[0m     \u001b[0;32mdef\u001b[0m \u001b[0mclose\u001b[0m\u001b[0;34m(\u001b[0m\u001b[0mself\u001b[0m\u001b[0;34m)\u001b[0m\u001b[0;34m:\u001b[0m\u001b[0;34m\u001b[0m\u001b[0;34m\u001b[0m\u001b[0m\n",
            "\u001b[0;32m/usr/local/lib/python3.7/dist-packages/pandas/io/parsers/readers.py\u001b[0m in \u001b[0;36m_make_engine\u001b[0;34m(self, engine)\u001b[0m\n\u001b[1;32m   1038\u001b[0m             )\n\u001b[1;32m   1039\u001b[0m         \u001b[0;31m# error: Too many arguments for \"ParserBase\"\u001b[0m\u001b[0;34m\u001b[0m\u001b[0;34m\u001b[0m\u001b[0;34m\u001b[0m\u001b[0m\n\u001b[0;32m-> 1040\u001b[0;31m         \u001b[0;32mreturn\u001b[0m \u001b[0mmapping\u001b[0m\u001b[0;34m[\u001b[0m\u001b[0mengine\u001b[0m\u001b[0;34m]\u001b[0m\u001b[0;34m(\u001b[0m\u001b[0mself\u001b[0m\u001b[0;34m.\u001b[0m\u001b[0mf\u001b[0m\u001b[0;34m,\u001b[0m \u001b[0;34m**\u001b[0m\u001b[0mself\u001b[0m\u001b[0;34m.\u001b[0m\u001b[0moptions\u001b[0m\u001b[0;34m)\u001b[0m  \u001b[0;31m# type: ignore[call-arg]\u001b[0m\u001b[0;34m\u001b[0m\u001b[0;34m\u001b[0m\u001b[0m\n\u001b[0m\u001b[1;32m   1041\u001b[0m \u001b[0;34m\u001b[0m\u001b[0m\n\u001b[1;32m   1042\u001b[0m     \u001b[0;32mdef\u001b[0m \u001b[0m_failover_to_python\u001b[0m\u001b[0;34m(\u001b[0m\u001b[0mself\u001b[0m\u001b[0;34m)\u001b[0m\u001b[0;34m:\u001b[0m\u001b[0;34m\u001b[0m\u001b[0;34m\u001b[0m\u001b[0m\n",
            "\u001b[0;32m/usr/local/lib/python3.7/dist-packages/pandas/io/parsers/c_parser_wrapper.py\u001b[0m in \u001b[0;36m__init__\u001b[0;34m(self, src, **kwds)\u001b[0m\n\u001b[1;32m     49\u001b[0m \u001b[0;34m\u001b[0m\u001b[0m\n\u001b[1;32m     50\u001b[0m         \u001b[0;31m# open handles\u001b[0m\u001b[0;34m\u001b[0m\u001b[0;34m\u001b[0m\u001b[0;34m\u001b[0m\u001b[0m\n\u001b[0;32m---> 51\u001b[0;31m         \u001b[0mself\u001b[0m\u001b[0;34m.\u001b[0m\u001b[0m_open_handles\u001b[0m\u001b[0;34m(\u001b[0m\u001b[0msrc\u001b[0m\u001b[0;34m,\u001b[0m \u001b[0mkwds\u001b[0m\u001b[0;34m)\u001b[0m\u001b[0;34m\u001b[0m\u001b[0;34m\u001b[0m\u001b[0m\n\u001b[0m\u001b[1;32m     52\u001b[0m         \u001b[0;32massert\u001b[0m \u001b[0mself\u001b[0m\u001b[0;34m.\u001b[0m\u001b[0mhandles\u001b[0m \u001b[0;32mis\u001b[0m \u001b[0;32mnot\u001b[0m \u001b[0;32mNone\u001b[0m\u001b[0;34m\u001b[0m\u001b[0;34m\u001b[0m\u001b[0m\n\u001b[1;32m     53\u001b[0m \u001b[0;34m\u001b[0m\u001b[0m\n",
            "\u001b[0;32m/usr/local/lib/python3.7/dist-packages/pandas/io/parsers/base_parser.py\u001b[0m in \u001b[0;36m_open_handles\u001b[0;34m(self, src, kwds)\u001b[0m\n\u001b[1;32m    227\u001b[0m             \u001b[0mmemory_map\u001b[0m\u001b[0;34m=\u001b[0m\u001b[0mkwds\u001b[0m\u001b[0;34m.\u001b[0m\u001b[0mget\u001b[0m\u001b[0;34m(\u001b[0m\u001b[0;34m\"memory_map\"\u001b[0m\u001b[0;34m,\u001b[0m \u001b[0;32mFalse\u001b[0m\u001b[0;34m)\u001b[0m\u001b[0;34m,\u001b[0m\u001b[0;34m\u001b[0m\u001b[0;34m\u001b[0m\u001b[0m\n\u001b[1;32m    228\u001b[0m             \u001b[0mstorage_options\u001b[0m\u001b[0;34m=\u001b[0m\u001b[0mkwds\u001b[0m\u001b[0;34m.\u001b[0m\u001b[0mget\u001b[0m\u001b[0;34m(\u001b[0m\u001b[0;34m\"storage_options\"\u001b[0m\u001b[0;34m,\u001b[0m \u001b[0;32mNone\u001b[0m\u001b[0;34m)\u001b[0m\u001b[0;34m,\u001b[0m\u001b[0;34m\u001b[0m\u001b[0;34m\u001b[0m\u001b[0m\n\u001b[0;32m--> 229\u001b[0;31m             \u001b[0merrors\u001b[0m\u001b[0;34m=\u001b[0m\u001b[0mkwds\u001b[0m\u001b[0;34m.\u001b[0m\u001b[0mget\u001b[0m\u001b[0;34m(\u001b[0m\u001b[0;34m\"encoding_errors\"\u001b[0m\u001b[0;34m,\u001b[0m \u001b[0;34m\"strict\"\u001b[0m\u001b[0;34m)\u001b[0m\u001b[0;34m,\u001b[0m\u001b[0;34m\u001b[0m\u001b[0;34m\u001b[0m\u001b[0m\n\u001b[0m\u001b[1;32m    230\u001b[0m         )\n\u001b[1;32m    231\u001b[0m \u001b[0;34m\u001b[0m\u001b[0m\n",
            "\u001b[0;32m/usr/local/lib/python3.7/dist-packages/pandas/io/common.py\u001b[0m in \u001b[0;36mget_handle\u001b[0;34m(path_or_buf, mode, encoding, compression, memory_map, is_text, errors, storage_options)\u001b[0m\n\u001b[1;32m    705\u001b[0m                 \u001b[0mencoding\u001b[0m\u001b[0;34m=\u001b[0m\u001b[0mioargs\u001b[0m\u001b[0;34m.\u001b[0m\u001b[0mencoding\u001b[0m\u001b[0;34m,\u001b[0m\u001b[0;34m\u001b[0m\u001b[0;34m\u001b[0m\u001b[0m\n\u001b[1;32m    706\u001b[0m                 \u001b[0merrors\u001b[0m\u001b[0;34m=\u001b[0m\u001b[0merrors\u001b[0m\u001b[0;34m,\u001b[0m\u001b[0;34m\u001b[0m\u001b[0;34m\u001b[0m\u001b[0m\n\u001b[0;32m--> 707\u001b[0;31m                 \u001b[0mnewline\u001b[0m\u001b[0;34m=\u001b[0m\u001b[0;34m\"\"\u001b[0m\u001b[0;34m,\u001b[0m\u001b[0;34m\u001b[0m\u001b[0;34m\u001b[0m\u001b[0m\n\u001b[0m\u001b[1;32m    708\u001b[0m             )\n\u001b[1;32m    709\u001b[0m         \u001b[0;32melse\u001b[0m\u001b[0;34m:\u001b[0m\u001b[0;34m\u001b[0m\u001b[0;34m\u001b[0m\u001b[0m\n",
            "\u001b[0;31mFileNotFoundError\u001b[0m: [Errno 2] No such file or directory: '/content/notas.csv'"
          ]
        }
      ]
    },
    {
      "cell_type": "code",
      "source": [
        "#Alumnos con una nota"
      ],
      "metadata": {
        "id": "Dgs8kH7LPz3z"
      },
      "execution_count": null,
      "outputs": []
    },
    {
      "cell_type": "code",
      "source": [
        "# Alumnos con una nota\n",
        "aprobados = pd.crosstab(index=notas[\"notas\"], columns=\"frecuencia\")\n",
        "print(aprobados)"
      ],
      "metadata": {
        "colab": {
          "base_uri": "https://localhost:8080/",
          "height": 200
        },
        "id": "9pBszAEZP7Mo",
        "outputId": "8482be02-c83f-4aef-dff8-b59274473af3"
      },
      "execution_count": null,
      "outputs": [
        {
          "output_type": "error",
          "ename": "NameError",
          "evalue": "ignored",
          "traceback": [
            "\u001b[0;31m---------------------------------------------------------------------------\u001b[0m",
            "\u001b[0;31mNameError\u001b[0m                                 Traceback (most recent call last)",
            "\u001b[0;32m<ipython-input-55-1d590fd0c645>\u001b[0m in \u001b[0;36m<module>\u001b[0;34m\u001b[0m\n\u001b[1;32m      1\u001b[0m \u001b[0;31m# Alumnos con una nota\u001b[0m\u001b[0;34m\u001b[0m\u001b[0;34m\u001b[0m\u001b[0;34m\u001b[0m\u001b[0m\n\u001b[0;32m----> 2\u001b[0;31m \u001b[0maprobados\u001b[0m \u001b[0;34m=\u001b[0m \u001b[0mpd\u001b[0m\u001b[0;34m.\u001b[0m\u001b[0mcrosstab\u001b[0m\u001b[0;34m(\u001b[0m\u001b[0mindex\u001b[0m\u001b[0;34m=\u001b[0m\u001b[0mnotas\u001b[0m\u001b[0;34m[\u001b[0m\u001b[0;34m\"notas\"\u001b[0m\u001b[0;34m]\u001b[0m\u001b[0;34m,\u001b[0m \u001b[0mcolumns\u001b[0m\u001b[0;34m=\u001b[0m\u001b[0;34m\"frecuencia\"\u001b[0m\u001b[0;34m)\u001b[0m\u001b[0;34m\u001b[0m\u001b[0;34m\u001b[0m\u001b[0m\n\u001b[0m\u001b[1;32m      3\u001b[0m \u001b[0mprint\u001b[0m\u001b[0;34m(\u001b[0m\u001b[0maprobados\u001b[0m\u001b[0;34m)\u001b[0m\u001b[0;34m\u001b[0m\u001b[0;34m\u001b[0m\u001b[0m\n",
            "\u001b[0;31mNameError\u001b[0m: name 'notas' is not defined"
          ]
        }
      ]
    },
    {
      "cell_type": "code",
      "source": [
        "# Obtener estudiantes mas sobresalientes\n",
        "print(\"**Estudiantes mas sobresalientes**\")\n",
        "sobreSal = aprobados.loc[aprobados.index>9][\"frecuencia\"]\n",
        "print(sobreSal)"
      ],
      "metadata": {
        "colab": {
          "base_uri": "https://localhost:8080/",
          "height": 235
        },
        "id": "afc_Zf7KRCX6",
        "outputId": "665520a5-efba-400e-e454-795665496875"
      },
      "execution_count": null,
      "outputs": [
        {
          "output_type": "stream",
          "name": "stdout",
          "text": [
            "**Estudiantes mas sobresalientes**\n"
          ]
        },
        {
          "output_type": "error",
          "ename": "NameError",
          "evalue": "ignored",
          "traceback": [
            "\u001b[0;31m---------------------------------------------------------------------------\u001b[0m",
            "\u001b[0;31mNameError\u001b[0m                                 Traceback (most recent call last)",
            "\u001b[0;32m<ipython-input-56-37e6368c9058>\u001b[0m in \u001b[0;36m<module>\u001b[0;34m\u001b[0m\n\u001b[1;32m      1\u001b[0m \u001b[0;31m# Obtener estudiantes mas sobresalientes\u001b[0m\u001b[0;34m\u001b[0m\u001b[0;34m\u001b[0m\u001b[0;34m\u001b[0m\u001b[0m\n\u001b[1;32m      2\u001b[0m \u001b[0mprint\u001b[0m\u001b[0;34m(\u001b[0m\u001b[0;34m\"**Estudiantes mas sobresalientes**\"\u001b[0m\u001b[0;34m)\u001b[0m\u001b[0;34m\u001b[0m\u001b[0;34m\u001b[0m\u001b[0m\n\u001b[0;32m----> 3\u001b[0;31m \u001b[0msobreSal\u001b[0m \u001b[0;34m=\u001b[0m \u001b[0maprobados\u001b[0m\u001b[0;34m.\u001b[0m\u001b[0mloc\u001b[0m\u001b[0;34m[\u001b[0m\u001b[0maprobados\u001b[0m\u001b[0;34m.\u001b[0m\u001b[0mindex\u001b[0m\u001b[0;34m>\u001b[0m\u001b[0;36m9\u001b[0m\u001b[0;34m]\u001b[0m\u001b[0;34m[\u001b[0m\u001b[0;34m\"frecuencia\"\u001b[0m\u001b[0;34m]\u001b[0m\u001b[0;34m\u001b[0m\u001b[0;34m\u001b[0m\u001b[0m\n\u001b[0m\u001b[1;32m      4\u001b[0m \u001b[0mprint\u001b[0m\u001b[0;34m(\u001b[0m\u001b[0msobreSal\u001b[0m\u001b[0;34m)\u001b[0m\u001b[0;34m\u001b[0m\u001b[0;34m\u001b[0m\u001b[0m\n",
            "\u001b[0;31mNameError\u001b[0m: name 'aprobados' is not defined"
          ]
        }
      ]
    },
    {
      "cell_type": "code",
      "source": [
        "print(\"\\N**Estudiantes mas sobresalientes**\")\n",
        "sobresalientes = notas.loc[notas[\"notas\"]>=9]\n",
        "print(sobresalientes)"
      ],
      "metadata": {
        "colab": {
          "base_uri": "https://localhost:8080/",
          "height": 131
        },
        "id": "ayByOxOWRuoP",
        "outputId": "ad873ebe-1a2d-4cb4-b117-e6c6e5f00fd5"
      },
      "execution_count": null,
      "outputs": [
        {
          "output_type": "error",
          "ename": "SyntaxError",
          "evalue": "ignored",
          "traceback": [
            "\u001b[0;36m  File \u001b[0;32m\"<ipython-input-57-112831b5a4b0>\"\u001b[0;36m, line \u001b[0;32m1\u001b[0m\n\u001b[0;31m    print(\"\\N**Estudiantes mas sobresalientes**\")\u001b[0m\n\u001b[0m         ^\u001b[0m\n\u001b[0;31mSyntaxError\u001b[0m\u001b[0;31m:\u001b[0m (unicode error) 'unicodeescape' codec can't decode bytes in position 0-1: malformed \\N character escape\n"
          ]
        }
      ]
    },
    {
      "cell_type": "code",
      "source": [
        "estudiantesAprobados = notas.loc[notas[\"notas\"]>=6]\n",
        "print(\"\\N**Estudiantes Aprobados**\")\n",
        "print(estudiantesAprobados)"
      ],
      "metadata": {
        "colab": {
          "base_uri": "https://localhost:8080/",
          "height": 131
        },
        "id": "eeOHudrPSgwF",
        "outputId": "213b8ebd-c60b-42bc-98f2-d4a257691747"
      },
      "execution_count": null,
      "outputs": [
        {
          "output_type": "error",
          "ename": "SyntaxError",
          "evalue": "ignored",
          "traceback": [
            "\u001b[0;36m  File \u001b[0;32m\"<ipython-input-48-ccae75b6c35c>\"\u001b[0;36m, line \u001b[0;32m2\u001b[0m\n\u001b[0;31m    print(\"\\N**Estudiantes Aprobados**\")\u001b[0m\n\u001b[0m         ^\u001b[0m\n\u001b[0;31mSyntaxError\u001b[0m\u001b[0;31m:\u001b[0m (unicode error) 'unicodeescape' codec can't decode bytes in position 0-1: malformed \\N character escape\n"
          ]
        }
      ]
    },
    {
      "cell_type": "code",
      "source": [
        "print(\"\\N**Estudiantes Reprobados**\")\n",
        "estudiantesReprobados = notas.loc[notas[\"notas\"]<6]\n",
        "print(estudiantesReprobados)"
      ],
      "metadata": {
        "colab": {
          "base_uri": "https://localhost:8080/",
          "height": 131
        },
        "id": "hx9NYNd9P7Kl",
        "outputId": "b7b2c931-e0ee-4e5f-9720-917fb9630fda"
      },
      "execution_count": null,
      "outputs": [
        {
          "output_type": "error",
          "ename": "SyntaxError",
          "evalue": "ignored",
          "traceback": [
            "\u001b[0;36m  File \u001b[0;32m\"<ipython-input-47-d3055b98da70>\"\u001b[0;36m, line \u001b[0;32m1\u001b[0m\n\u001b[0;31m    print(\"\\N**Estudiantes Reprobados**\")\u001b[0m\n\u001b[0m         ^\u001b[0m\n\u001b[0;31mSyntaxError\u001b[0m\u001b[0;31m:\u001b[0m (unicode error) 'unicodeescape' codec can't decode bytes in position 0-1: malformed \\N character escape\n"
          ]
        }
      ]
    },
    {
      "cell_type": "code",
      "source": [
        "# Clase del dia Miercoles/21/Sep/2022"
      ],
      "metadata": {
        "id": "U1ITAY8WtlEA"
      },
      "execution_count": null,
      "outputs": []
    },
    {
      "cell_type": "code",
      "source": [
        "import pandas as pd\n",
        "import matplotlib.pyplot as plt\n"
      ],
      "metadata": {
        "id": "b11b3Wp5tlCm"
      },
      "execution_count": null,
      "outputs": []
    },
    {
      "cell_type": "code",
      "source": [
        "Prueba = pd.read_csv(\"/content/Prueba.csv\", sep=\";\")\n",
        "print(Prueba)\n"
      ],
      "metadata": {
        "colab": {
          "base_uri": "https://localhost:8080/"
        },
        "id": "z1nG_aLy690Q",
        "outputId": "768b17d8-e84f-45d5-b242-739cd2d24c73"
      },
      "execution_count": null,
      "outputs": [
        {
          "output_type": "stream",
          "name": "stdout",
          "text": [
            "                  alumnos  notas\n",
            "0         Julio Alexander   10.0\n",
            "1             Juan Carlos    9.5\n",
            "2            Ana Carolina    9.0\n",
            "3          Nathaly Milena   10.0\n",
            "4         Ana Maria Perez    4.0\n",
            "5      Jose Pedro Ramirez    2.0\n",
            "6             Carlos Ruiz    1.0\n",
            "7         Oscar Hernandez    3.0\n",
            "8  David Antonio Palacios    9.8\n"
          ]
        }
      ]
    },
    {
      "cell_type": "code",
      "source": [
        "sobresalientes = Prueba.loc[Prueba[\"notas\"]>=9]\n",
        "print(sobresalientes)\n",
        "\n",
        "sobresalientes.to_csv(\"/content/sobresalientes.csv\", sep=\";\")"
      ],
      "metadata": {
        "colab": {
          "base_uri": "https://localhost:8080/"
        },
        "id": "MNtZKiJ39GEO",
        "outputId": "efbde958-a4c1-422e-a8ac-0ccdd6b9a608"
      },
      "execution_count": null,
      "outputs": [
        {
          "output_type": "stream",
          "name": "stdout",
          "text": [
            "                  alumnos  notas\n",
            "0         Julio Alexander   10.0\n",
            "1             Juan Carlos    9.5\n",
            "2            Ana Carolina    9.0\n",
            "3          Nathaly Milena   10.0\n",
            "8  David Antonio Palacios    9.8\n"
          ]
        }
      ]
    },
    {
      "cell_type": "code",
      "source": [
        "reprobados = Prueba.loc[Prueba[\"notas\"]<6]\n",
        "print(reprobados)\n",
        "\n",
        "reprobados.to_csv(\"/content/reprobados.csv\", sep=\";\")"
      ],
      "metadata": {
        "colab": {
          "base_uri": "https://localhost:8080/"
        },
        "id": "mXPtLEAE-Mqs",
        "outputId": "9c3bd834-2e49-4d8e-e471-0de64e1ec236"
      },
      "execution_count": null,
      "outputs": [
        {
          "output_type": "stream",
          "name": "stdout",
          "text": [
            "              alumnos  notas\n",
            "4     Ana Maria Perez    4.0\n",
            "5  Jose Pedro Ramirez    2.0\n",
            "6         Carlos Ruiz    1.0\n",
            "7     Oscar Hernandez    3.0\n"
          ]
        }
      ]
    },
    {
      "cell_type": "code",
      "source": [
        "count_reprobados = Prueba.loc[Prueba[\"notas\"]<6].agg({\"count\"})"
      ],
      "metadata": {
        "id": "B_bYT_ws_5ek"
      },
      "execution_count": null,
      "outputs": []
    },
    {
      "cell_type": "code",
      "source": [
        "tabla_sobresalientes = pd.crosstab(index=sobresalientes[\"notas\"], columns=\"Fr\")\n",
        "plt.pie(tabla_sobresalientes, labels=tabla_sobresalientes.index)\n",
        "plt.xlabel(\"Cantidad de Estudiantes con buena nota\")\n",
        "plt.show()\n",
        "\n",
        "sobresalientes.to_csv(\"/content/graficasobresalientes.csv\", sep=\";\")"
      ],
      "metadata": {
        "colab": {
          "base_uri": "https://localhost:8080/",
          "height": 317
        },
        "id": "JIgL4t7L_5c8",
        "outputId": "dd603072-ccf4-4dcb-c774-44423e4d56aa"
      },
      "execution_count": null,
      "outputs": [
        {
          "output_type": "stream",
          "name": "stderr",
          "text": [
            "/usr/local/lib/python3.7/dist-packages/ipykernel_launcher.py:2: MatplotlibDeprecationWarning: Non-1D inputs to pie() are currently squeeze()d, but this behavior is deprecated since 3.1 and will be removed in 3.3; pass a 1D array instead.\n",
            "  \n"
          ]
        },
        {
          "output_type": "display_data",
          "data": {
            "text/plain": [
              "<Figure size 432x288 with 1 Axes>"
            ],
            "image/png": "[encoded data removed]"
          },
          "metadata": {}
        }
      ]
    },
    {
      "cell_type": "code",
      "source": [
        "tabla_sobresalientes = pd.crosstab(index=sobresalientes[\"notas\"], columns=\"Fr\")\n",
        "plt.bar(sobresalientes[\"alumnos\"], sobresalientes[\"notas\"])\n",
        "plt.xlabel(\"Cantidad de Estudiantes con buena nota\")\n",
        "plt.show()\n",
        "\n",
        "sobresalientes.to_csv(\"/content/graficasobresalientes.csv\", sep=\";\")"
      ],
      "metadata": {
        "colab": {
          "base_uri": "https://localhost:8080/",
          "height": 279
        },
        "id": "SpDqhQSiDD00",
        "outputId": "fb5a3b5f-8a8f-4b3c-e21c-9c8294c62200"
      },
      "execution_count": null,
      "outputs": [
        {
          "output_type": "display_data",
          "data": {
            "text/plain": [
              "<Figure size 432x288 with 1 Axes>"
            ],
            "image/png": "[encoded data removed]"
          },
          "metadata": {
            "needs_background": "light"
          }
        }
      ]
    },
    {
      "cell_type": "code",
      "source": [
        "# Clase del dia Miercoles/28/sep/2022"
      ],
      "metadata": {
        "id": "JIwTs8V-ypcZ"
      },
      "execution_count": null,
      "outputs": []
    },
    {
      "cell_type": "code",
      "source": [
        "!pip install tensorflow\n"
      ],
      "metadata": {
        "colab": {
          "base_uri": "https://localhost:8080/"
        },
        "id": "fp4r7xGfyvSg",
        "outputId": "735e7cdf-c844-4fca-a03e-8cae3a57c630"
      },
      "execution_count": null,
      "outputs": [
        {
          "output_type": "stream",
          "name": "stdout",
          "text": [
            "Looking in indexes: https://pypi.org/simple, https://us-python.pkg.dev/colab-wheels/public/simple/\n",
            "Requirement already satisfied: tensorflow in /usr/local/lib/python3.7/dist-packages (2.8.2+zzzcolab20220719082949)\n",
            "Requirement already satisfied: numpy>=1.20 in /usr/local/lib/python3.7/dist-packages (from tensorflow) (1.21.6)\n",
            "Requirement already satisfied: h5py>=2.9.0 in /usr/local/lib/python3.7/dist-packages (from tensorflow) (3.1.0)\n",
            "Requirement already satisfied: setuptools in /usr/local/lib/python3.7/dist-packages (from tensorflow) (57.4.0)\n",
            "Requirement already satisfied: opt-einsum>=2.3.2 in /usr/local/lib/python3.7/dist-packages (from tensorflow) (3.3.0)\n",
            "Requirement already satisfied: keras-preprocessing>=1.1.1 in /usr/local/lib/python3.7/dist-packages (from tensorflow) (1.1.2)\n",
            "Requirement already satisfied: libclang>=9.0.1 in /usr/local/lib/python3.7/dist-packages (from tensorflow) (14.0.6)\n",
            "Requirement already satisfied: google-pasta>=0.1.1 in /usr/local/lib/python3.7/dist-packages (from tensorflow) (0.2.0)\n",
            "Requirement already satisfied: typing-extensions>=3.6.6 in /usr/local/lib/python3.7/dist-packages (from tensorflow) (4.1.1)\n",
            "Requirement already satisfied: keras<2.9,>=2.8.0rc0 in /usr/local/lib/python3.7/dist-packages (from tensorflow) (2.8.0)\n",
            "Requirement already satisfied: absl-py>=0.4.0 in /usr/local/lib/python3.7/dist-packages (from tensorflow) (1.2.0)\n",
            "Requirement already satisfied: tensorboard<2.9,>=2.8 in /usr/local/lib/python3.7/dist-packages (from tensorflow) (2.8.0)\n",
            "Requirement already satisfied: tensorflow-estimator<2.9,>=2.8 in /usr/local/lib/python3.7/dist-packages (from tensorflow) (2.8.0)\n",
            "Requirement already satisfied: wrapt>=1.11.0 in /usr/local/lib/python3.7/dist-packages (from tensorflow) (1.14.1)\n",
            "Requirement already satisfied: tensorflow-io-gcs-filesystem>=0.23.1 in /usr/local/lib/python3.7/dist-packages (from tensorflow) (0.26.0)\n",
            "Requirement already satisfied: termcolor>=1.1.0 in /usr/local/lib/python3.7/dist-packages (from tensorflow) (1.1.0)\n",
            "Requirement already satisfied: astunparse>=1.6.0 in /usr/local/lib/python3.7/dist-packages (from tensorflow) (1.6.3)\n",
            "Requirement already satisfied: flatbuffers>=1.12 in /usr/local/lib/python3.7/dist-packages (from tensorflow) (2.0.7)\n",
            "Requirement already satisfied: protobuf<3.20,>=3.9.2 in /usr/local/lib/python3.7/dist-packages (from tensorflow) (3.17.3)\n",
            "Requirement already satisfied: six>=1.12.0 in /usr/local/lib/python3.7/dist-packages (from tensorflow) (1.15.0)\n",
            "Requirement already satisfied: grpcio<2.0,>=1.24.3 in /usr/local/lib/python3.7/dist-packages (from tensorflow) (1.48.1)\n",
            "Requirement already satisfied: gast>=0.2.1 in /usr/local/lib/python3.7/dist-packages (from tensorflow) (0.5.3)\n",
            "Requirement already satisfied: wheel<1.0,>=0.23.0 in /usr/local/lib/python3.7/dist-packages (from astunparse>=1.6.0->tensorflow) (0.37.1)\n",
            "Requirement already satisfied: cached-property in /usr/local/lib/python3.7/dist-packages (from h5py>=2.9.0->tensorflow) (1.5.2)\n",
            "Requirement already satisfied: tensorboard-plugin-wit>=1.6.0 in /usr/local/lib/python3.7/dist-packages (from tensorboard<2.9,>=2.8->tensorflow) (1.8.1)\n",
            "Requirement already satisfied: tensorboard-data-server<0.7.0,>=0.6.0 in /usr/local/lib/python3.7/dist-packages (from tensorboard<2.9,>=2.8->tensorflow) (0.6.1)\n",
            "Requirement already satisfied: google-auth-oauthlib<0.5,>=0.4.1 in /usr/local/lib/python3.7/dist-packages (from tensorboard<2.9,>=2.8->tensorflow) (0.4.6)\n",
            "Requirement already satisfied: google-auth<3,>=1.6.3 in /usr/local/lib/python3.7/dist-packages (from tensorboard<2.9,>=2.8->tensorflow) (1.35.0)\n",
            "Requirement already satisfied: markdown>=2.6.8 in /usr/local/lib/python3.7/dist-packages (from tensorboard<2.9,>=2.8->tensorflow) (3.4.1)\n",
            "Requirement already satisfied: requests<3,>=2.21.0 in /usr/local/lib/python3.7/dist-packages (from tensorboard<2.9,>=2.8->tensorflow) (2.23.0)\n",
            "Requirement already satisfied: werkzeug>=0.11.15 in /usr/local/lib/python3.7/dist-packages (from tensorboard<2.9,>=2.8->tensorflow) (1.0.1)\n",
            "Requirement already satisfied: pyasn1-modules>=0.2.1 in /usr/local/lib/python3.7/dist-packages (from google-auth<3,>=1.6.3->tensorboard<2.9,>=2.8->tensorflow) (0.2.8)\n",
            "Requirement already satisfied: rsa<5,>=3.1.4 in /usr/local/lib/python3.7/dist-packages (from google-auth<3,>=1.6.3->tensorboard<2.9,>=2.8->tensorflow) (4.9)\n",
            "Requirement already satisfied: cachetools<5.0,>=2.0.0 in /usr/local/lib/python3.7/dist-packages (from google-auth<3,>=1.6.3->tensorboard<2.9,>=2.8->tensorflow) (4.2.4)\n",
            "Requirement already satisfied: requests-oauthlib>=0.7.0 in /usr/local/lib/python3.7/dist-packages (from google-auth-oauthlib<0.5,>=0.4.1->tensorboard<2.9,>=2.8->tensorflow) (1.3.1)\n",
            "Requirement already satisfied: importlib-metadata>=4.4 in /usr/local/lib/python3.7/dist-packages (from markdown>=2.6.8->tensorboard<2.9,>=2.8->tensorflow) (4.12.0)\n",
            "Requirement already satisfied: zipp>=0.5 in /usr/local/lib/python3.7/dist-packages (from importlib-metadata>=4.4->markdown>=2.6.8->tensorboard<2.9,>=2.8->tensorflow) (3.8.1)\n",
            "Requirement already satisfied: pyasn1<0.5.0,>=0.4.6 in /usr/local/lib/python3.7/dist-packages (from pyasn1-modules>=0.2.1->google-auth<3,>=1.6.3->tensorboard<2.9,>=2.8->tensorflow) (0.4.8)\n",
            "Requirement already satisfied: urllib3!=1.25.0,!=1.25.1,<1.26,>=1.21.1 in /usr/local/lib/python3.7/dist-packages (from requests<3,>=2.21.0->tensorboard<2.9,>=2.8->tensorflow) (1.24.3)\n",
            "Requirement already satisfied: chardet<4,>=3.0.2 in /usr/local/lib/python3.7/dist-packages (from requests<3,>=2.21.0->tensorboard<2.9,>=2.8->tensorflow) (3.0.4)\n",
            "Requirement already satisfied: idna<3,>=2.5 in /usr/local/lib/python3.7/dist-packages (from requests<3,>=2.21.0->tensorboard<2.9,>=2.8->tensorflow) (2.10)\n",
            "Requirement already satisfied: certifi>=2017.4.17 in /usr/local/lib/python3.7/dist-packages (from requests<3,>=2.21.0->tensorboard<2.9,>=2.8->tensorflow) (2022.6.15)\n",
            "Requirement already satisfied: oauthlib>=3.0.0 in /usr/local/lib/python3.7/dist-packages (from requests-oauthlib>=0.7.0->google-auth-oauthlib<0.5,>=0.4.1->tensorboard<2.9,>=2.8->tensorflow) (3.2.0)\n"
          ]
        }
      ]
    },
    {
      "cell_type": "code",
      "source": [
        "# Importamos la libreria de tensorflow\n",
        "import tensorflow as tf"
      ],
      "metadata": {
        "id": "jyf4_dskFh0z"
      },
      "execution_count": null,
      "outputs": []
    },
    {
      "cell_type": "code",
      "source": [
        "suma = tf.add(3,5). numpy()\n",
        "print(suma)"
      ],
      "metadata": {
        "colab": {
          "base_uri": "https://localhost:8080/"
        },
        "id": "-1fUM_CEFs6f",
        "outputId": "ca80a578-983d-4165-b71a-60fe12158223"
      },
      "execution_count": null,
      "outputs": [
        {
          "output_type": "stream",
          "name": "stdout",
          "text": [
            "8\n"
          ]
        }
      ]
    },
    {
      "cell_type": "code",
      "source": [
        "x = 3\n",
        "y = 5\n",
        "z = x + y\n",
        "\n",
        "print(z)"
      ],
      "metadata": {
        "colab": {
          "base_uri": "https://localhost:8080/"
        },
        "id": "r7ad8U9mG2di",
        "outputId": "0f2cfc89-993b-425b-d7a5-6d036d37ed10"
      },
      "execution_count": null,
      "outputs": [
        {
          "output_type": "stream",
          "name": "stdout",
          "text": [
            "8\n"
          ]
        }
      ]
    },
    {
      "cell_type": "code",
      "source": [
        "# Practica presencial Viernes/30/sep/2022\n",
        "\n",
        "#Entrenamiento de una IA para que aprenda a convertir temperaturas de CELSIUS A FAHRENHEIT"
      ],
      "metadata": {
        "id": "s5g9NHCZG92_"
      },
      "execution_count": null,
      "outputs": []
    },
    {
      "cell_type": "code",
      "source": [
        "# Importar las librerias necesarias"
      ],
      "metadata": {
        "id": "rTWZryyvG91Y"
      },
      "execution_count": null,
      "outputs": []
    },
    {
      "cell_type": "code",
      "source": [
        "import tensorflow as tf\n",
        "import matplotlib.pyplot as plt\n",
        "import pandas as pd\n",
        "import seaborn as sb "
      ],
      "metadata": {
        "id": "_JDkqL5K_BLo"
      },
      "execution_count": null,
      "outputs": []
    },
    {
      "cell_type": "code",
      "source": [
        "temperaturas = pd.read_csv(\"/content/temperaturas.csv\", sep=\";\")\n",
        "print(temperaturas)"
      ],
      "metadata": {
        "colab": {
          "base_uri": "https://localhost:8080/"
        },
        "id": "gqe5vAtU_Tfs",
        "outputId": "66647c61-2bb5-47b3-a9c4-6d9ac36b292b"
      },
      "execution_count": null,
      "outputs": [
        {
          "output_type": "stream",
          "name": "stdout",
          "text": [
            "     c      f\n",
            "0  -40  -40.0\n",
            "1  -30  -22.0\n",
            "2  -20   -4.0\n",
            "3  -10   14.0\n",
            "4   -5   23.0\n",
            "5   -4   24.8\n",
            "6   -3   26.6\n",
            "7   -2   28.4\n",
            "8   -1   30.2\n",
            "9    0    2.0\n",
            "10   1   33.8\n",
            "11   2   35.6\n",
            "12   3   37.4\n",
            "13   4   39.2\n",
            "14   5   41.0\n",
            "15  10   50.0\n",
            "16  20   68.0\n",
            "17  30   86.0\n",
            "18  40  104.0\n"
          ]
        }
      ]
    },
    {
      "cell_type": "code",
      "source": [
        "# Datos de entrenamiento\n",
        "\n",
        "c = temperaturas[\"f\"]\n",
        "f = temperaturas[\"c\"]"
      ],
      "metadata": {
        "id": "7HF5MsNFAiFJ"
      },
      "execution_count": null,
      "outputs": []
    },
    {
      "cell_type": "code",
      "source": [
        "# Graficar los datos de entrenamiento\n",
        "\n",
        "sb.scatterplot(f,c)\n",
        "plt.show()"
      ],
      "metadata": {
        "colab": {
          "base_uri": "https://localhost:8080/",
          "height": 334
        },
        "id": "6Prbgxd2A3nY",
        "outputId": "73db1cd9-cfee-498c-fd10-71b90aeca8a3"
      },
      "execution_count": null,
      "outputs": [
        {
          "output_type": "stream",
          "name": "stderr",
          "text": [
            "/usr/local/lib/python3.7/dist-packages/seaborn/_decorators.py:43: FutureWarning: Pass the following variables as keyword args: x, y. From version 0.12, the only valid positional argument will be `data`, and passing other arguments without an explicit keyword will result in an error or misinterpretation.\n",
            "  FutureWarning\n"
          ]
        },
        {
          "output_type": "display_data",
          "data": {
            "text/plain": [
              "<Figure size 432x288 with 1 Axes>"
            ],
            "image/png": "[encoded data removed]"
          },
          "metadata": {
            "needs_background": "light"
          }
        }
      ]
    },
    {
      "cell_type": "code",
      "source": [
        "# Modelo de entrenamiento, con 1 capa dnesa (Oculta)\n",
        "modelo = tf.keras.Sequential()\n",
        "modelo.add(tf.keras.layers.Dense(units = 1, input_shape = [1]))\n"
      ],
      "metadata": {
        "id": "tlvVVFVVBOLQ"
      },
      "execution_count": null,
      "outputs": []
    },
    {
      "cell_type": "code",
      "source": [
        "# Copilar el modelo\n",
        "\n",
        "modelo.compile(optimizer = tf.keras.optimizers.Adam(1), loss = \"mean_squared_error\")"
      ],
      "metadata": {
        "id": "im4SbkysCDMG"
      },
      "execution_count": null,
      "outputs": []
    },
    {
      "cell_type": "code",
      "source": [
        "# Entrenar el modelo\n",
        "\n",
        "epocas = modelo.fit(f,c, epochs = 500, verbose = 1)"
      ],
      "metadata": {
        "colab": {
          "base_uri": "https://localhost:8080/"
        },
        "id": "EhFpMoVcCrmH",
        "outputId": "ddd1cae0-9d6e-4cb1-af90-4fff440deb45"
      },
      "execution_count": null,
      "outputs": [
        {
          "output_type": "stream",
          "name": "stdout",
          "text": [
            "Epoch 1/500\n",
            "1/1 [==============================] - 0s 313ms/step - loss: 1011.3967\n",
            "Epoch 2/500\n",
            "1/1 [==============================] - 0s 7ms/step - loss: 1043.2574\n",
            "Epoch 3/500\n",
            "1/1 [==============================] - 0s 6ms/step - loss: 885.1636\n",
            "Epoch 4/500\n",
            "1/1 [==============================] - 0s 8ms/step - loss: 805.8813\n",
            "Epoch 5/500\n",
            "1/1 [==============================] - 0s 6ms/step - loss: 804.6138\n",
            "Epoch 6/500\n",
            "1/1 [==============================] - 0s 7ms/step - loss: 738.5692\n",
            "Epoch 7/500\n",
            "1/1 [==============================] - 0s 7ms/step - loss: 648.8290\n",
            "Epoch 8/500\n",
            "1/1 [==============================] - 0s 6ms/step - loss: 602.1000\n",
            "Epoch 9/500\n",
            "1/1 [==============================] - 0s 6ms/step - loss: 582.9710\n",
            "Epoch 10/500\n",
            "1/1 [==============================] - 0s 6ms/step - loss: 540.9553\n",
            "Epoch 11/500\n",
            "1/1 [==============================] - 0s 7ms/step - loss: 478.4144\n",
            "Epoch 12/500\n",
            "1/1 [==============================] - 0s 7ms/step - loss: 429.3932\n",
            "Epoch 13/500\n",
            "1/1 [==============================] - 0s 7ms/step - loss: 404.5503\n",
            "Epoch 14/500\n",
            "1/1 [==============================] - 0s 11ms/step - loss: 381.2746\n",
            "Epoch 15/500\n",
            "1/1 [==============================] - 0s 7ms/step - loss: 342.8123\n",
            "Epoch 16/500\n",
            "1/1 [==============================] - 0s 6ms/step - loss: 300.4010\n",
            "Epoch 17/500\n",
            "1/1 [==============================] - 0s 7ms/step - loss: 271.3081\n",
            "Epoch 18/500\n",
            "1/1 [==============================] - 0s 7ms/step - loss: 254.2530\n",
            "Epoch 19/500\n",
            "1/1 [==============================] - 0s 12ms/step - loss: 234.2104\n",
            "Epoch 20/500\n",
            "1/1 [==============================] - 0s 9ms/step - loss: 206.0362\n",
            "Epoch 21/500\n",
            "1/1 [==============================] - 0s 7ms/step - loss: 179.6184\n",
            "Epoch 22/500\n",
            "1/1 [==============================] - 0s 8ms/step - loss: 163.2784\n",
            "Epoch 23/500\n",
            "1/1 [==============================] - 0s 8ms/step - loss: 152.2927\n",
            "Epoch 24/500\n",
            "1/1 [==============================] - 0s 8ms/step - loss: 137.5623\n",
            "Epoch 25/500\n",
            "1/1 [==============================] - 0s 7ms/step - loss: 119.3508\n",
            "Epoch 26/500\n",
            "1/1 [==============================] - 0s 7ms/step - loss: 105.1401\n",
            "Epoch 27/500\n",
            "1/1 [==============================] - 0s 7ms/step - loss: 97.5370\n",
            "Epoch 28/500\n",
            "1/1 [==============================] - 0s 7ms/step - loss: 91.0741\n",
            "Epoch 29/500\n",
            "1/1 [==============================] - 0s 7ms/step - loss: 81.4359\n",
            "Epoch 30/500\n",
            "1/1 [==============================] - 0s 7ms/step - loss: 71.5759\n",
            "Epoch 31/500\n",
            "1/1 [==============================] - 0s 7ms/step - loss: 65.9668\n",
            "Epoch 32/500\n",
            "1/1 [==============================] - 0s 7ms/step - loss: 63.4643\n",
            "Epoch 33/500\n",
            "1/1 [==============================] - 0s 8ms/step - loss: 59.7696\n",
            "Epoch 34/500\n",
            "1/1 [==============================] - 0s 7ms/step - loss: 54.4391\n",
            "Epoch 35/500\n",
            "1/1 [==============================] - 0s 7ms/step - loss: 50.8203\n",
            "Epoch 36/500\n",
            "1/1 [==============================] - 0s 7ms/step - loss: 50.0707\n",
            "Epoch 37/500\n",
            "1/1 [==============================] - 0s 7ms/step - loss: 49.5265\n",
            "Epoch 38/500\n",
            "1/1 [==============================] - 0s 7ms/step - loss: 47.4419\n",
            "Epoch 39/500\n",
            "1/1 [==============================] - 0s 7ms/step - loss: 45.5490\n",
            "Epoch 40/500\n",
            "1/1 [==============================] - 0s 8ms/step - loss: 45.5762\n",
            "Epoch 41/500\n",
            "1/1 [==============================] - 0s 23ms/step - loss: 46.3036\n",
            "Epoch 42/500\n",
            "1/1 [==============================] - 0s 11ms/step - loss: 45.9524\n",
            "Epoch 43/500\n",
            "1/1 [==============================] - 0s 6ms/step - loss: 45.1673\n",
            "Epoch 44/500\n",
            "1/1 [==============================] - 0s 6ms/step - loss: 45.4652\n",
            "Epoch 45/500\n",
            "1/1 [==============================] - 0s 16ms/step - loss: 46.4462\n",
            "Epoch 46/500\n",
            "1/1 [==============================] - 0s 10ms/step - loss: 46.7220\n",
            "Epoch 47/500\n",
            "1/1 [==============================] - 0s 8ms/step - loss: 46.4277\n",
            "Epoch 48/500\n",
            "1/1 [==============================] - 0s 9ms/step - loss: 46.6987\n",
            "Epoch 49/500\n",
            "1/1 [==============================] - 0s 9ms/step - loss: 47.4773\n",
            "Epoch 50/500\n",
            "1/1 [==============================] - 0s 9ms/step - loss: 47.7769\n",
            "Epoch 51/500\n",
            "1/1 [==============================] - 0s 7ms/step - loss: 47.5758\n",
            "Epoch 52/500\n",
            "1/1 [==============================] - 0s 7ms/step - loss: 47.6853\n",
            "Epoch 53/500\n",
            "1/1 [==============================] - 0s 8ms/step - loss: 48.1321\n",
            "Epoch 54/500\n",
            "1/1 [==============================] - 0s 7ms/step - loss: 48.2312\n",
            "Epoch 55/500\n",
            "1/1 [==============================] - 0s 16ms/step - loss: 47.9646\n",
            "Epoch 56/500\n",
            "1/1 [==============================] - 0s 7ms/step - loss: 47.9088\n",
            "Epoch 57/500\n",
            "1/1 [==============================] - 0s 8ms/step - loss: 48.0647\n",
            "Epoch 58/500\n",
            "1/1 [==============================] - 0s 7ms/step - loss: 47.9579\n",
            "Epoch 59/500\n",
            "1/1 [==============================] - 0s 7ms/step - loss: 47.6262\n",
            "Epoch 60/500\n",
            "1/1 [==============================] - 0s 7ms/step - loss: 47.4740\n",
            "Epoch 61/500\n",
            "1/1 [==============================] - 0s 7ms/step - loss: 47.4443\n",
            "Epoch 62/500\n",
            "1/1 [==============================] - 0s 8ms/step - loss: 47.2169\n",
            "Epoch 63/500\n",
            "1/1 [==============================] - 0s 8ms/step - loss: 46.8869\n",
            "Epoch 64/500\n",
            "1/1 [==============================] - 0s 8ms/step - loss: 46.7197\n",
            "Epoch 65/500\n",
            "1/1 [==============================] - 0s 7ms/step - loss: 46.6079\n",
            "Epoch 66/500\n",
            "1/1 [==============================] - 0s 13ms/step - loss: 46.3558\n",
            "Epoch 67/500\n",
            "1/1 [==============================] - 0s 8ms/step - loss: 46.0929\n",
            "Epoch 68/500\n",
            "1/1 [==============================] - 0s 7ms/step - loss: 45.9654\n",
            "Epoch 69/500\n",
            "1/1 [==============================] - 0s 8ms/step - loss: 45.8426\n",
            "Epoch 70/500\n",
            "1/1 [==============================] - 0s 7ms/step - loss: 45.6336\n",
            "Epoch 71/500\n",
            "1/1 [==============================] - 0s 8ms/step - loss: 45.4698\n",
            "Epoch 72/500\n",
            "1/1 [==============================] - 0s 11ms/step - loss: 45.3983\n",
            "Epoch 73/500\n",
            "1/1 [==============================] - 0s 8ms/step - loss: 45.2994\n",
            "Epoch 74/500\n",
            "1/1 [==============================] - 0s 7ms/step - loss: 45.1642\n",
            "Epoch 75/500\n",
            "1/1 [==============================] - 0s 8ms/step - loss: 45.0935\n",
            "Epoch 76/500\n",
            "1/1 [==============================] - 0s 8ms/step - loss: 45.0654\n",
            "Epoch 77/500\n",
            "1/1 [==============================] - 0s 8ms/step - loss: 45.0005\n",
            "Epoch 78/500\n",
            "1/1 [==============================] - 0s 8ms/step - loss: 44.9383\n",
            "Epoch 79/500\n",
            "1/1 [==============================] - 0s 8ms/step - loss: 44.9296\n",
            "Epoch 80/500\n",
            "1/1 [==============================] - 0s 8ms/step - loss: 44.9225\n",
            "Epoch 81/500\n",
            "1/1 [==============================] - 0s 8ms/step - loss: 44.8891\n",
            "Epoch 82/500\n",
            "1/1 [==============================] - 0s 8ms/step - loss: 44.8792\n",
            "Epoch 83/500\n",
            "1/1 [==============================] - 0s 9ms/step - loss: 44.8952\n",
            "Epoch 84/500\n",
            "1/1 [==============================] - 0s 6ms/step - loss: 44.8924\n",
            "Epoch 85/500\n",
            "1/1 [==============================] - 0s 7ms/step - loss: 44.8832\n",
            "Epoch 86/500\n",
            "1/1 [==============================] - 0s 17ms/step - loss: 44.8975\n",
            "Epoch 87/500\n",
            "1/1 [==============================] - 0s 10ms/step - loss: 44.9112\n",
            "Epoch 88/500\n",
            "1/1 [==============================] - 0s 9ms/step - loss: 44.9077\n",
            "Epoch 89/500\n",
            "1/1 [==============================] - 0s 7ms/step - loss: 44.9125\n",
            "Epoch 90/500\n",
            "1/1 [==============================] - 0s 10ms/step - loss: 44.9272\n",
            "Epoch 91/500\n",
            "1/1 [==============================] - 0s 11ms/step - loss: 44.9293\n",
            "Epoch 92/500\n",
            "1/1 [==============================] - 0s 6ms/step - loss: 44.9268\n",
            "Epoch 93/500\n",
            "1/1 [==============================] - 0s 6ms/step - loss: 44.9343\n",
            "Epoch 94/500\n",
            "1/1 [==============================] - 0s 6ms/step - loss: 44.9381\n",
            "Epoch 95/500\n",
            "1/1 [==============================] - 0s 5ms/step - loss: 44.9327\n",
            "Epoch 96/500\n",
            "1/1 [==============================] - 0s 6ms/step - loss: 44.9322\n",
            "Epoch 97/500\n",
            "1/1 [==============================] - 0s 6ms/step - loss: 44.9343\n",
            "Epoch 98/500\n",
            "1/1 [==============================] - 0s 6ms/step - loss: 44.9288\n",
            "Epoch 99/500\n",
            "1/1 [==============================] - 0s 6ms/step - loss: 44.9233\n",
            "Epoch 100/500\n",
            "1/1 [==============================] - 0s 6ms/step - loss: 44.9225\n",
            "Epoch 101/500\n",
            "1/1 [==============================] - 0s 5ms/step - loss: 44.9181\n",
            "Epoch 102/500\n",
            "1/1 [==============================] - 0s 5ms/step - loss: 44.9110\n",
            "Epoch 103/500\n",
            "1/1 [==============================] - 0s 6ms/step - loss: 44.9080\n",
            "Epoch 104/500\n",
            "1/1 [==============================] - 0s 7ms/step - loss: 44.9048\n",
            "Epoch 105/500\n",
            "1/1 [==============================] - 0s 7ms/step - loss: 44.8986\n",
            "Epoch 106/500\n",
            "1/1 [==============================] - 0s 8ms/step - loss: 44.8947\n",
            "Epoch 107/500\n",
            "1/1 [==============================] - 0s 8ms/step - loss: 44.8926\n",
            "Epoch 108/500\n",
            "1/1 [==============================] - 0s 6ms/step - loss: 44.8883\n",
            "Epoch 109/500\n",
            "1/1 [==============================] - 0s 7ms/step - loss: 44.8848\n",
            "Epoch 110/500\n",
            "1/1 [==============================] - 0s 7ms/step - loss: 44.8836\n",
            "Epoch 111/500\n",
            "1/1 [==============================] - 0s 8ms/step - loss: 44.8813\n",
            "Epoch 112/500\n",
            "1/1 [==============================] - 0s 6ms/step - loss: 44.8788\n",
            "Epoch 113/500\n",
            "1/1 [==============================] - 0s 7ms/step - loss: 44.8783\n",
            "Epoch 114/500\n",
            "1/1 [==============================] - 0s 7ms/step - loss: 44.8775\n",
            "Epoch 115/500\n",
            "1/1 [==============================] - 0s 5ms/step - loss: 44.8760\n",
            "Epoch 116/500\n",
            "1/1 [==============================] - 0s 5ms/step - loss: 44.8760\n",
            "Epoch 117/500\n",
            "1/1 [==============================] - 0s 5ms/step - loss: 44.8761\n",
            "Epoch 118/500\n",
            "1/1 [==============================] - 0s 6ms/step - loss: 44.8754\n",
            "Epoch 119/500\n",
            "1/1 [==============================] - 0s 5ms/step - loss: 44.8756\n",
            "Epoch 120/500\n",
            "1/1 [==============================] - 0s 5ms/step - loss: 44.8761\n",
            "Epoch 121/500\n",
            "1/1 [==============================] - 0s 6ms/step - loss: 44.8759\n",
            "Epoch 122/500\n",
            "1/1 [==============================] - 0s 7ms/step - loss: 44.8761\n",
            "Epoch 123/500\n",
            "1/1 [==============================] - 0s 7ms/step - loss: 44.8766\n",
            "Epoch 124/500\n",
            "1/1 [==============================] - 0s 7ms/step - loss: 44.8766\n",
            "Epoch 125/500\n",
            "1/1 [==============================] - 0s 6ms/step - loss: 44.8767\n",
            "Epoch 126/500\n",
            "1/1 [==============================] - 0s 7ms/step - loss: 44.8771\n",
            "Epoch 127/500\n",
            "1/1 [==============================] - 0s 7ms/step - loss: 44.8771\n",
            "Epoch 128/500\n",
            "1/1 [==============================] - 0s 6ms/step - loss: 44.8770\n",
            "Epoch 129/500\n",
            "1/1 [==============================] - 0s 6ms/step - loss: 44.8772\n",
            "Epoch 130/500\n",
            "1/1 [==============================] - 0s 6ms/step - loss: 44.8771\n",
            "Epoch 131/500\n",
            "1/1 [==============================] - 0s 6ms/step - loss: 44.8770\n",
            "Epoch 132/500\n",
            "1/1 [==============================] - 0s 7ms/step - loss: 44.8770\n",
            "Epoch 133/500\n",
            "1/1 [==============================] - 0s 6ms/step - loss: 44.8769\n",
            "Epoch 134/500\n",
            "1/1 [==============================] - 0s 7ms/step - loss: 44.8767\n",
            "Epoch 135/500\n",
            "1/1 [==============================] - 0s 8ms/step - loss: 44.8766\n",
            "Epoch 136/500\n",
            "1/1 [==============================] - 0s 8ms/step - loss: 44.8765\n",
            "Epoch 137/500\n",
            "1/1 [==============================] - 0s 7ms/step - loss: 44.8762\n",
            "Epoch 138/500\n",
            "1/1 [==============================] - 0s 7ms/step - loss: 44.8761\n",
            "Epoch 139/500\n",
            "1/1 [==============================] - 0s 8ms/step - loss: 44.8760\n",
            "Epoch 140/500\n",
            "1/1 [==============================] - 0s 7ms/step - loss: 44.8758\n",
            "Epoch 141/500\n",
            "1/1 [==============================] - 0s 10ms/step - loss: 44.8758\n",
            "Epoch 142/500\n",
            "1/1 [==============================] - 0s 10ms/step - loss: 44.8757\n",
            "Epoch 143/500\n",
            "1/1 [==============================] - 0s 10ms/step - loss: 44.8755\n",
            "Epoch 144/500\n",
            "1/1 [==============================] - 0s 8ms/step - loss: 44.8755\n",
            "Epoch 145/500\n",
            "1/1 [==============================] - 0s 10ms/step - loss: 44.8755\n",
            "Epoch 146/500\n",
            "1/1 [==============================] - 0s 9ms/step - loss: 44.8754\n",
            "Epoch 147/500\n",
            "1/1 [==============================] - 0s 8ms/step - loss: 44.8754\n",
            "Epoch 148/500\n",
            "1/1 [==============================] - 0s 8ms/step - loss: 44.8754\n",
            "Epoch 149/500\n",
            "1/1 [==============================] - 0s 9ms/step - loss: 44.8753\n",
            "Epoch 150/500\n",
            "1/1 [==============================] - 0s 9ms/step - loss: 44.8754\n",
            "Epoch 151/500\n",
            "1/1 [==============================] - 0s 5ms/step - loss: 44.8754\n",
            "Epoch 152/500\n",
            "1/1 [==============================] - 0s 12ms/step - loss: 44.8754\n",
            "Epoch 153/500\n",
            "1/1 [==============================] - 0s 5ms/step - loss: 44.8754\n",
            "Epoch 154/500\n",
            "1/1 [==============================] - 0s 5ms/step - loss: 44.8754\n",
            "Epoch 155/500\n",
            "1/1 [==============================] - 0s 5ms/step - loss: 44.8754\n",
            "Epoch 156/500\n",
            "1/1 [==============================] - 0s 6ms/step - loss: 44.8754\n",
            "Epoch 157/500\n",
            "1/1 [==============================] - 0s 8ms/step - loss: 44.8754\n",
            "Epoch 158/500\n",
            "1/1 [==============================] - 0s 6ms/step - loss: 44.8754\n",
            "Epoch 159/500\n",
            "1/1 [==============================] - 0s 7ms/step - loss: 44.8754\n",
            "Epoch 160/500\n",
            "1/1 [==============================] - 0s 7ms/step - loss: 44.8754\n",
            "Epoch 161/500\n",
            "1/1 [==============================] - 0s 13ms/step - loss: 44.8754\n",
            "Epoch 162/500\n",
            "1/1 [==============================] - 0s 7ms/step - loss: 44.8754\n",
            "Epoch 163/500\n",
            "1/1 [==============================] - 0s 9ms/step - loss: 44.8754\n",
            "Epoch 164/500\n",
            "1/1 [==============================] - 0s 9ms/step - loss: 44.8754\n",
            "Epoch 165/500\n",
            "1/1 [==============================] - 0s 7ms/step - loss: 44.8754\n",
            "Epoch 166/500\n",
            "1/1 [==============================] - 0s 8ms/step - loss: 44.8754\n",
            "Epoch 167/500\n",
            "1/1 [==============================] - 0s 7ms/step - loss: 44.8754\n",
            "Epoch 168/500\n",
            "1/1 [==============================] - 0s 8ms/step - loss: 44.8754\n",
            "Epoch 169/500\n",
            "1/1 [==============================] - 0s 12ms/step - loss: 44.8754\n",
            "Epoch 170/500\n",
            "1/1 [==============================] - 0s 6ms/step - loss: 44.8754\n",
            "Epoch 171/500\n",
            "1/1 [==============================] - 0s 7ms/step - loss: 44.8754\n",
            "Epoch 172/500\n",
            "1/1 [==============================] - 0s 8ms/step - loss: 44.8754\n",
            "Epoch 173/500\n",
            "1/1 [==============================] - 0s 6ms/step - loss: 44.8754\n",
            "Epoch 174/500\n",
            "1/1 [==============================] - 0s 11ms/step - loss: 44.8754\n",
            "Epoch 175/500\n",
            "1/1 [==============================] - 0s 9ms/step - loss: 44.8754\n",
            "Epoch 176/500\n",
            "1/1 [==============================] - 0s 9ms/step - loss: 44.8754\n",
            "Epoch 177/500\n",
            "1/1 [==============================] - 0s 6ms/step - loss: 44.8753\n",
            "Epoch 178/500\n",
            "1/1 [==============================] - 0s 6ms/step - loss: 44.8753\n",
            "Epoch 179/500\n",
            "1/1 [==============================] - 0s 15ms/step - loss: 44.8753\n",
            "Epoch 180/500\n",
            "1/1 [==============================] - 0s 7ms/step - loss: 44.8753\n",
            "Epoch 181/500\n",
            "1/1 [==============================] - 0s 8ms/step - loss: 44.8753\n",
            "Epoch 182/500\n",
            "1/1 [==============================] - 0s 344ms/step - loss: 44.8753\n",
            "Epoch 183/500\n",
            "1/1 [==============================] - 0s 6ms/step - loss: 44.8753\n",
            "Epoch 184/500\n",
            "1/1 [==============================] - 0s 6ms/step - loss: 44.8754\n",
            "Epoch 185/500\n",
            "1/1 [==============================] - 0s 5ms/step - loss: 44.8753\n",
            "Epoch 186/500\n",
            "1/1 [==============================] - 0s 10ms/step - loss: 44.8753\n",
            "Epoch 187/500\n",
            "1/1 [==============================] - 0s 7ms/step - loss: 44.8753\n",
            "Epoch 188/500\n",
            "1/1 [==============================] - 0s 6ms/step - loss: 44.8754\n",
            "Epoch 189/500\n",
            "1/1 [==============================] - 0s 6ms/step - loss: 44.8754\n",
            "Epoch 190/500\n",
            "1/1 [==============================] - 0s 6ms/step - loss: 44.8754\n",
            "Epoch 191/500\n",
            "1/1 [==============================] - 0s 6ms/step - loss: 44.8754\n",
            "Epoch 192/500\n",
            "1/1 [==============================] - 0s 6ms/step - loss: 44.8753\n",
            "Epoch 193/500\n",
            "1/1 [==============================] - 0s 6ms/step - loss: 44.8753\n",
            "Epoch 194/500\n",
            "1/1 [==============================] - 0s 6ms/step - loss: 44.8754\n",
            "Epoch 195/500\n",
            "1/1 [==============================] - 0s 6ms/step - loss: 44.8753\n",
            "Epoch 196/500\n",
            "1/1 [==============================] - 0s 6ms/step - loss: 44.8754\n",
            "Epoch 197/500\n",
            "1/1 [==============================] - 0s 6ms/step - loss: 44.8753\n",
            "Epoch 198/500\n",
            "1/1 [==============================] - 0s 6ms/step - loss: 44.8753\n",
            "Epoch 199/500\n",
            "1/1 [==============================] - 0s 6ms/step - loss: 44.8753\n",
            "Epoch 200/500\n",
            "1/1 [==============================] - 0s 6ms/step - loss: 44.8753\n",
            "Epoch 201/500\n",
            "1/1 [==============================] - 0s 10ms/step - loss: 44.8753\n",
            "Epoch 202/500\n",
            "1/1 [==============================] - 0s 6ms/step - loss: 44.8754\n",
            "Epoch 203/500\n",
            "1/1 [==============================] - 0s 9ms/step - loss: 44.8753\n",
            "Epoch 204/500\n",
            "1/1 [==============================] - 0s 10ms/step - loss: 44.8753\n",
            "Epoch 205/500\n",
            "1/1 [==============================] - 0s 7ms/step - loss: 44.8753\n",
            "Epoch 206/500\n",
            "1/1 [==============================] - 0s 7ms/step - loss: 44.8754\n",
            "Epoch 207/500\n",
            "1/1 [==============================] - 0s 7ms/step - loss: 44.8753\n",
            "Epoch 208/500\n",
            "1/1 [==============================] - 0s 7ms/step - loss: 44.8753\n",
            "Epoch 209/500\n",
            "1/1 [==============================] - 0s 7ms/step - loss: 44.8754\n",
            "Epoch 210/500\n",
            "1/1 [==============================] - 0s 6ms/step - loss: 44.8753\n",
            "Epoch 211/500\n",
            "1/1 [==============================] - 0s 7ms/step - loss: 44.8754\n",
            "Epoch 212/500\n",
            "1/1 [==============================] - 0s 7ms/step - loss: 44.8753\n",
            "Epoch 213/500\n",
            "1/1 [==============================] - 0s 7ms/step - loss: 44.8754\n",
            "Epoch 214/500\n",
            "1/1 [==============================] - 0s 7ms/step - loss: 44.8753\n",
            "Epoch 215/500\n",
            "1/1 [==============================] - 0s 7ms/step - loss: 44.8753\n",
            "Epoch 216/500\n",
            "1/1 [==============================] - 0s 7ms/step - loss: 44.8753\n",
            "Epoch 217/500\n",
            "1/1 [==============================] - 0s 7ms/step - loss: 44.8753\n",
            "Epoch 218/500\n",
            "1/1 [==============================] - 0s 6ms/step - loss: 44.8753\n",
            "Epoch 219/500\n",
            "1/1 [==============================] - 0s 7ms/step - loss: 44.8753\n",
            "Epoch 220/500\n",
            "1/1 [==============================] - 0s 7ms/step - loss: 44.8753\n",
            "Epoch 221/500\n",
            "1/1 [==============================] - 0s 7ms/step - loss: 44.8753\n",
            "Epoch 222/500\n",
            "1/1 [==============================] - 0s 7ms/step - loss: 44.8753\n",
            "Epoch 223/500\n",
            "1/1 [==============================] - 0s 7ms/step - loss: 44.8753\n",
            "Epoch 224/500\n",
            "1/1 [==============================] - 0s 7ms/step - loss: 44.8753\n",
            "Epoch 225/500\n",
            "1/1 [==============================] - 0s 9ms/step - loss: 44.8753\n",
            "Epoch 226/500\n",
            "1/1 [==============================] - 0s 7ms/step - loss: 44.8754\n",
            "Epoch 227/500\n",
            "1/1 [==============================] - 0s 11ms/step - loss: 44.8753\n",
            "Epoch 228/500\n",
            "1/1 [==============================] - 0s 11ms/step - loss: 44.8753\n",
            "Epoch 229/500\n",
            "1/1 [==============================] - 0s 8ms/step - loss: 44.8753\n",
            "Epoch 230/500\n",
            "1/1 [==============================] - 0s 8ms/step - loss: 44.8754\n",
            "Epoch 231/500\n",
            "1/1 [==============================] - 0s 8ms/step - loss: 44.8753\n",
            "Epoch 232/500\n",
            "1/1 [==============================] - 0s 7ms/step - loss: 44.8754\n",
            "Epoch 233/500\n",
            "1/1 [==============================] - 0s 7ms/step - loss: 44.8753\n",
            "Epoch 234/500\n",
            "1/1 [==============================] - 0s 6ms/step - loss: 44.8753\n",
            "Epoch 235/500\n",
            "1/1 [==============================] - 0s 8ms/step - loss: 44.8753\n",
            "Epoch 236/500\n",
            "1/1 [==============================] - 0s 7ms/step - loss: 44.8753\n",
            "Epoch 237/500\n",
            "1/1 [==============================] - 0s 7ms/step - loss: 44.8753\n",
            "Epoch 238/500\n",
            "1/1 [==============================] - 0s 7ms/step - loss: 44.8753\n",
            "Epoch 239/500\n",
            "1/1 [==============================] - 0s 7ms/step - loss: 44.8753\n",
            "Epoch 240/500\n",
            "1/1 [==============================] - 0s 14ms/step - loss: 44.8753\n",
            "Epoch 241/500\n",
            "1/1 [==============================] - 0s 10ms/step - loss: 44.8754\n",
            "Epoch 242/500\n",
            "1/1 [==============================] - 0s 8ms/step - loss: 44.8753\n",
            "Epoch 243/500\n",
            "1/1 [==============================] - 0s 7ms/step - loss: 44.8754\n",
            "Epoch 244/500\n",
            "1/1 [==============================] - 0s 7ms/step - loss: 44.8753\n",
            "Epoch 245/500\n",
            "1/1 [==============================] - 0s 7ms/step - loss: 44.8753\n",
            "Epoch 246/500\n",
            "1/1 [==============================] - 0s 7ms/step - loss: 44.8753\n",
            "Epoch 247/500\n",
            "1/1 [==============================] - 0s 6ms/step - loss: 44.8753\n",
            "Epoch 248/500\n",
            "1/1 [==============================] - 0s 10ms/step - loss: 44.8753\n",
            "Epoch 249/500\n",
            "1/1 [==============================] - 0s 6ms/step - loss: 44.8753\n",
            "Epoch 250/500\n",
            "1/1 [==============================] - 0s 6ms/step - loss: 44.8753\n",
            "Epoch 251/500\n",
            "1/1 [==============================] - 0s 6ms/step - loss: 44.8753\n",
            "Epoch 252/500\n",
            "1/1 [==============================] - 0s 7ms/step - loss: 44.8754\n",
            "Epoch 253/500\n",
            "1/1 [==============================] - 0s 6ms/step - loss: 44.8753\n",
            "Epoch 254/500\n",
            "1/1 [==============================] - 0s 7ms/step - loss: 44.8753\n",
            "Epoch 255/500\n",
            "1/1 [==============================] - 0s 6ms/step - loss: 44.8753\n",
            "Epoch 256/500\n",
            "1/1 [==============================] - 0s 6ms/step - loss: 44.8753\n",
            "Epoch 257/500\n",
            "1/1 [==============================] - 0s 6ms/step - loss: 44.8753\n",
            "Epoch 258/500\n",
            "1/1 [==============================] - 0s 6ms/step - loss: 44.8753\n",
            "Epoch 259/500\n",
            "1/1 [==============================] - 0s 7ms/step - loss: 44.8753\n",
            "Epoch 260/500\n",
            "1/1 [==============================] - 0s 7ms/step - loss: 44.8753\n",
            "Epoch 261/500\n",
            "1/1 [==============================] - 0s 7ms/step - loss: 44.8753\n",
            "Epoch 262/500\n",
            "1/1 [==============================] - 0s 7ms/step - loss: 44.8753\n",
            "Epoch 263/500\n",
            "1/1 [==============================] - 0s 6ms/step - loss: 44.8753\n",
            "Epoch 264/500\n",
            "1/1 [==============================] - 0s 6ms/step - loss: 44.8754\n",
            "Epoch 265/500\n",
            "1/1 [==============================] - 0s 6ms/step - loss: 44.8753\n",
            "Epoch 266/500\n",
            "1/1 [==============================] - 0s 6ms/step - loss: 44.8754\n",
            "Epoch 267/500\n",
            "1/1 [==============================] - 0s 6ms/step - loss: 44.8753\n",
            "Epoch 268/500\n",
            "1/1 [==============================] - 0s 6ms/step - loss: 44.8753\n",
            "Epoch 269/500\n",
            "1/1 [==============================] - 0s 13ms/step - loss: 44.8753\n",
            "Epoch 270/500\n",
            "1/1 [==============================] - 0s 6ms/step - loss: 44.8753\n",
            "Epoch 271/500\n",
            "1/1 [==============================] - 0s 6ms/step - loss: 44.8753\n",
            "Epoch 272/500\n",
            "1/1 [==============================] - 0s 6ms/step - loss: 44.8753\n",
            "Epoch 273/500\n",
            "1/1 [==============================] - 0s 6ms/step - loss: 44.8753\n",
            "Epoch 274/500\n",
            "1/1 [==============================] - 0s 6ms/step - loss: 44.8753\n",
            "Epoch 275/500\n",
            "1/1 [==============================] - 0s 6ms/step - loss: 44.8753\n",
            "Epoch 276/500\n",
            "1/1 [==============================] - 0s 6ms/step - loss: 44.8753\n",
            "Epoch 277/500\n",
            "1/1 [==============================] - 0s 7ms/step - loss: 44.8753\n",
            "Epoch 278/500\n",
            "1/1 [==============================] - 0s 10ms/step - loss: 44.8753\n",
            "Epoch 279/500\n",
            "1/1 [==============================] - 0s 7ms/step - loss: 44.8754\n",
            "Epoch 280/500\n",
            "1/1 [==============================] - 0s 7ms/step - loss: 44.8753\n",
            "Epoch 281/500\n",
            "1/1 [==============================] - 0s 7ms/step - loss: 44.8753\n",
            "Epoch 282/500\n",
            "1/1 [==============================] - 0s 7ms/step - loss: 44.8753\n",
            "Epoch 283/500\n",
            "1/1 [==============================] - 0s 6ms/step - loss: 44.8753\n",
            "Epoch 284/500\n",
            "1/1 [==============================] - 0s 7ms/step - loss: 44.8753\n",
            "Epoch 285/500\n",
            "1/1 [==============================] - 0s 16ms/step - loss: 44.8753\n",
            "Epoch 286/500\n",
            "1/1 [==============================] - 0s 10ms/step - loss: 44.8753\n",
            "Epoch 287/500\n",
            "1/1 [==============================] - 0s 7ms/step - loss: 44.8754\n",
            "Epoch 288/500\n",
            "1/1 [==============================] - 0s 13ms/step - loss: 44.8753\n",
            "Epoch 289/500\n",
            "1/1 [==============================] - 0s 10ms/step - loss: 44.8753\n",
            "Epoch 290/500\n",
            "1/1 [==============================] - 0s 9ms/step - loss: 44.8753\n",
            "Epoch 291/500\n",
            "1/1 [==============================] - 0s 10ms/step - loss: 44.8753\n",
            "Epoch 292/500\n",
            "1/1 [==============================] - 0s 9ms/step - loss: 44.8753\n",
            "Epoch 293/500\n",
            "1/1 [==============================] - 0s 7ms/step - loss: 44.8753\n",
            "Epoch 294/500\n",
            "1/1 [==============================] - 0s 7ms/step - loss: 44.8753\n",
            "Epoch 295/500\n",
            "1/1 [==============================] - 0s 7ms/step - loss: 44.8753\n",
            "Epoch 296/500\n",
            "1/1 [==============================] - 0s 7ms/step - loss: 44.8753\n",
            "Epoch 297/500\n",
            "1/1 [==============================] - 0s 9ms/step - loss: 44.8753\n",
            "Epoch 298/500\n",
            "1/1 [==============================] - 0s 10ms/step - loss: 44.8753\n",
            "Epoch 299/500\n",
            "1/1 [==============================] - 0s 10ms/step - loss: 44.8753\n",
            "Epoch 300/500\n",
            "1/1 [==============================] - 0s 8ms/step - loss: 44.8753\n",
            "Epoch 301/500\n",
            "1/1 [==============================] - 0s 7ms/step - loss: 44.8753\n",
            "Epoch 302/500\n",
            "1/1 [==============================] - 0s 7ms/step - loss: 44.8753\n",
            "Epoch 303/500\n",
            "1/1 [==============================] - 0s 7ms/step - loss: 44.8753\n",
            "Epoch 304/500\n",
            "1/1 [==============================] - 0s 7ms/step - loss: 44.8753\n",
            "Epoch 305/500\n",
            "1/1 [==============================] - 0s 6ms/step - loss: 44.8753\n",
            "Epoch 306/500\n",
            "1/1 [==============================] - 0s 7ms/step - loss: 44.8754\n",
            "Epoch 307/500\n",
            "1/1 [==============================] - 0s 7ms/step - loss: 44.8753\n",
            "Epoch 308/500\n",
            "1/1 [==============================] - 0s 7ms/step - loss: 44.8753\n",
            "Epoch 309/500\n",
            "1/1 [==============================] - 0s 6ms/step - loss: 44.8753\n",
            "Epoch 310/500\n",
            "1/1 [==============================] - 0s 6ms/step - loss: 44.8753\n",
            "Epoch 311/500\n",
            "1/1 [==============================] - 0s 5ms/step - loss: 44.8753\n",
            "Epoch 312/500\n",
            "1/1 [==============================] - 0s 10ms/step - loss: 44.8753\n",
            "Epoch 313/500\n",
            "1/1 [==============================] - 0s 6ms/step - loss: 44.8753\n",
            "Epoch 314/500\n",
            "1/1 [==============================] - 0s 8ms/step - loss: 44.8753\n",
            "Epoch 315/500\n",
            "1/1 [==============================] - 0s 7ms/step - loss: 44.8753\n",
            "Epoch 316/500\n",
            "1/1 [==============================] - 0s 6ms/step - loss: 44.8753\n",
            "Epoch 317/500\n",
            "1/1 [==============================] - 0s 6ms/step - loss: 44.8753\n",
            "Epoch 318/500\n",
            "1/1 [==============================] - 0s 6ms/step - loss: 44.8753\n",
            "Epoch 319/500\n",
            "1/1 [==============================] - 0s 6ms/step - loss: 44.8753\n",
            "Epoch 320/500\n",
            "1/1 [==============================] - 0s 10ms/step - loss: 44.8753\n",
            "Epoch 321/500\n",
            "1/1 [==============================] - 0s 11ms/step - loss: 44.8753\n",
            "Epoch 322/500\n",
            "1/1 [==============================] - 0s 5ms/step - loss: 44.8753\n",
            "Epoch 323/500\n",
            "1/1 [==============================] - 0s 9ms/step - loss: 44.8754\n",
            "Epoch 324/500\n",
            "1/1 [==============================] - 0s 8ms/step - loss: 44.8753\n",
            "Epoch 325/500\n",
            "1/1 [==============================] - 0s 8ms/step - loss: 44.8753\n",
            "Epoch 326/500\n",
            "1/1 [==============================] - 0s 8ms/step - loss: 44.8753\n",
            "Epoch 327/500\n",
            "1/1 [==============================] - 0s 6ms/step - loss: 44.8753\n",
            "Epoch 328/500\n",
            "1/1 [==============================] - 0s 6ms/step - loss: 44.8753\n",
            "Epoch 329/500\n",
            "1/1 [==============================] - 0s 7ms/step - loss: 44.8753\n",
            "Epoch 330/500\n",
            "1/1 [==============================] - 0s 5ms/step - loss: 44.8753\n",
            "Epoch 331/500\n",
            "1/1 [==============================] - 0s 6ms/step - loss: 44.8753\n",
            "Epoch 332/500\n",
            "1/1 [==============================] - 0s 6ms/step - loss: 44.8753\n",
            "Epoch 333/500\n",
            "1/1 [==============================] - 0s 5ms/step - loss: 44.8753\n",
            "Epoch 334/500\n",
            "1/1 [==============================] - 0s 6ms/step - loss: 44.8754\n",
            "Epoch 335/500\n",
            "1/1 [==============================] - 0s 5ms/step - loss: 44.8753\n",
            "Epoch 336/500\n",
            "1/1 [==============================] - 0s 5ms/step - loss: 44.8753\n",
            "Epoch 337/500\n",
            "1/1 [==============================] - 0s 5ms/step - loss: 44.8753\n",
            "Epoch 338/500\n",
            "1/1 [==============================] - 0s 5ms/step - loss: 44.8753\n",
            "Epoch 339/500\n",
            "1/1 [==============================] - 0s 5ms/step - loss: 44.8753\n",
            "Epoch 340/500\n",
            "1/1 [==============================] - 0s 5ms/step - loss: 44.8753\n",
            "Epoch 341/500\n",
            "1/1 [==============================] - 0s 5ms/step - loss: 44.8753\n",
            "Epoch 342/500\n",
            "1/1 [==============================] - 0s 5ms/step - loss: 44.8753\n",
            "Epoch 343/500\n",
            "1/1 [==============================] - 0s 5ms/step - loss: 44.8753\n",
            "Epoch 344/500\n",
            "1/1 [==============================] - 0s 5ms/step - loss: 44.8753\n",
            "Epoch 345/500\n",
            "1/1 [==============================] - 0s 6ms/step - loss: 44.8753\n",
            "Epoch 346/500\n",
            "1/1 [==============================] - 0s 5ms/step - loss: 44.8753\n",
            "Epoch 347/500\n",
            "1/1 [==============================] - 0s 6ms/step - loss: 44.8753\n",
            "Epoch 348/500\n",
            "1/1 [==============================] - 0s 5ms/step - loss: 44.8753\n",
            "Epoch 349/500\n",
            "1/1 [==============================] - 0s 341ms/step - loss: 44.8753\n",
            "Epoch 350/500\n",
            "1/1 [==============================] - 0s 10ms/step - loss: 44.8753\n",
            "Epoch 351/500\n",
            "1/1 [==============================] - 0s 8ms/step - loss: 44.8753\n",
            "Epoch 352/500\n",
            "1/1 [==============================] - 0s 11ms/step - loss: 44.8753\n",
            "Epoch 353/500\n",
            "1/1 [==============================] - 0s 10ms/step - loss: 44.8753\n",
            "Epoch 354/500\n",
            "1/1 [==============================] - 0s 10ms/step - loss: 44.8754\n",
            "Epoch 355/500\n",
            "1/1 [==============================] - 0s 9ms/step - loss: 44.8753\n",
            "Epoch 356/500\n",
            "1/1 [==============================] - 0s 9ms/step - loss: 44.8753\n",
            "Epoch 357/500\n",
            "1/1 [==============================] - 0s 6ms/step - loss: 44.8753\n",
            "Epoch 358/500\n",
            "1/1 [==============================] - 0s 6ms/step - loss: 44.8753\n",
            "Epoch 359/500\n",
            "1/1 [==============================] - 0s 5ms/step - loss: 44.8753\n",
            "Epoch 360/500\n",
            "1/1 [==============================] - 0s 8ms/step - loss: 44.8753\n",
            "Epoch 361/500\n",
            "1/1 [==============================] - 0s 6ms/step - loss: 44.8753\n",
            "Epoch 362/500\n",
            "1/1 [==============================] - 0s 6ms/step - loss: 44.8753\n",
            "Epoch 363/500\n",
            "1/1 [==============================] - 0s 6ms/step - loss: 44.8754\n",
            "Epoch 364/500\n",
            "1/1 [==============================] - 0s 7ms/step - loss: 44.8753\n",
            "Epoch 365/500\n",
            "1/1 [==============================] - 0s 6ms/step - loss: 44.8753\n",
            "Epoch 366/500\n",
            "1/1 [==============================] - 0s 6ms/step - loss: 44.8754\n",
            "Epoch 367/500\n",
            "1/1 [==============================] - 0s 6ms/step - loss: 44.8753\n",
            "Epoch 368/500\n",
            "1/1 [==============================] - 0s 6ms/step - loss: 44.8753\n",
            "Epoch 369/500\n",
            "1/1 [==============================] - 0s 6ms/step - loss: 44.8753\n",
            "Epoch 370/500\n",
            "1/1 [==============================] - 0s 6ms/step - loss: 44.8753\n",
            "Epoch 371/500\n",
            "1/1 [==============================] - 0s 11ms/step - loss: 44.8753\n",
            "Epoch 372/500\n",
            "1/1 [==============================] - 0s 8ms/step - loss: 44.8753\n",
            "Epoch 373/500\n",
            "1/1 [==============================] - 0s 10ms/step - loss: 44.8753\n",
            "Epoch 374/500\n",
            "1/1 [==============================] - 0s 10ms/step - loss: 44.8753\n",
            "Epoch 375/500\n",
            "1/1 [==============================] - 0s 9ms/step - loss: 44.8753\n",
            "Epoch 376/500\n",
            "1/1 [==============================] - 0s 8ms/step - loss: 44.8753\n",
            "Epoch 377/500\n",
            "1/1 [==============================] - 0s 8ms/step - loss: 44.8753\n",
            "Epoch 378/500\n",
            "1/1 [==============================] - 0s 9ms/step - loss: 44.8753\n",
            "Epoch 379/500\n",
            "1/1 [==============================] - 0s 6ms/step - loss: 44.8753\n",
            "Epoch 380/500\n",
            "1/1 [==============================] - 0s 6ms/step - loss: 44.8753\n",
            "Epoch 381/500\n",
            "1/1 [==============================] - 0s 8ms/step - loss: 44.8753\n",
            "Epoch 382/500\n",
            "1/1 [==============================] - 0s 10ms/step - loss: 44.8753\n",
            "Epoch 383/500\n",
            "1/1 [==============================] - 0s 6ms/step - loss: 44.8753\n",
            "Epoch 384/500\n",
            "1/1 [==============================] - 0s 8ms/step - loss: 44.8753\n",
            "Epoch 385/500\n",
            "1/1 [==============================] - 0s 9ms/step - loss: 44.8753\n",
            "Epoch 386/500\n",
            "1/1 [==============================] - 0s 6ms/step - loss: 44.8753\n",
            "Epoch 387/500\n",
            "1/1 [==============================] - 0s 7ms/step - loss: 44.8753\n",
            "Epoch 388/500\n",
            "1/1 [==============================] - 0s 6ms/step - loss: 44.8753\n",
            "Epoch 389/500\n",
            "1/1 [==============================] - 0s 6ms/step - loss: 44.8753\n",
            "Epoch 390/500\n",
            "1/1 [==============================] - 0s 6ms/step - loss: 44.8753\n",
            "Epoch 391/500\n",
            "1/1 [==============================] - 0s 6ms/step - loss: 44.8753\n",
            "Epoch 392/500\n",
            "1/1 [==============================] - 0s 6ms/step - loss: 44.8753\n",
            "Epoch 393/500\n",
            "1/1 [==============================] - 0s 6ms/step - loss: 44.8754\n",
            "Epoch 394/500\n",
            "1/1 [==============================] - 0s 6ms/step - loss: 44.8754\n",
            "Epoch 395/500\n",
            "1/1 [==============================] - 0s 10ms/step - loss: 44.8753\n",
            "Epoch 396/500\n",
            "1/1 [==============================] - 0s 9ms/step - loss: 44.8753\n",
            "Epoch 397/500\n",
            "1/1 [==============================] - 0s 10ms/step - loss: 44.8753\n",
            "Epoch 398/500\n",
            "1/1 [==============================] - 0s 6ms/step - loss: 44.8753\n",
            "Epoch 399/500\n",
            "1/1 [==============================] - 0s 6ms/step - loss: 44.8753\n",
            "Epoch 400/500\n",
            "1/1 [==============================] - 0s 6ms/step - loss: 44.8753\n",
            "Epoch 401/500\n",
            "1/1 [==============================] - 0s 6ms/step - loss: 44.8753\n",
            "Epoch 402/500\n",
            "1/1 [==============================] - 0s 5ms/step - loss: 44.8753\n",
            "Epoch 403/500\n",
            "1/1 [==============================] - 0s 5ms/step - loss: 44.8753\n",
            "Epoch 404/500\n",
            "1/1 [==============================] - 0s 6ms/step - loss: 44.8753\n",
            "Epoch 405/500\n",
            "1/1 [==============================] - 0s 6ms/step - loss: 44.8753\n",
            "Epoch 406/500\n",
            "1/1 [==============================] - 0s 5ms/step - loss: 44.8753\n",
            "Epoch 407/500\n",
            "1/1 [==============================] - 0s 5ms/step - loss: 44.8753\n",
            "Epoch 408/500\n",
            "1/1 [==============================] - 0s 5ms/step - loss: 44.8753\n",
            "Epoch 409/500\n",
            "1/1 [==============================] - 0s 5ms/step - loss: 44.8753\n",
            "Epoch 410/500\n",
            "1/1 [==============================] - 0s 6ms/step - loss: 44.8753\n",
            "Epoch 411/500\n",
            "1/1 [==============================] - 0s 5ms/step - loss: 44.8753\n",
            "Epoch 412/500\n",
            "1/1 [==============================] - 0s 5ms/step - loss: 44.8753\n",
            "Epoch 413/500\n",
            "1/1 [==============================] - 0s 6ms/step - loss: 44.8753\n",
            "Epoch 414/500\n",
            "1/1 [==============================] - 0s 7ms/step - loss: 44.8753\n",
            "Epoch 415/500\n",
            "1/1 [==============================] - 0s 6ms/step - loss: 44.8753\n",
            "Epoch 416/500\n",
            "1/1 [==============================] - 0s 6ms/step - loss: 44.8753\n",
            "Epoch 417/500\n",
            "1/1 [==============================] - 0s 8ms/step - loss: 44.8753\n",
            "Epoch 418/500\n",
            "1/1 [==============================] - 0s 7ms/step - loss: 44.8753\n",
            "Epoch 419/500\n",
            "1/1 [==============================] - 0s 7ms/step - loss: 44.8753\n",
            "Epoch 420/500\n",
            "1/1 [==============================] - 0s 6ms/step - loss: 44.8753\n",
            "Epoch 421/500\n",
            "1/1 [==============================] - 0s 7ms/step - loss: 44.8753\n",
            "Epoch 422/500\n",
            "1/1 [==============================] - 0s 7ms/step - loss: 44.8754\n",
            "Epoch 423/500\n",
            "1/1 [==============================] - 0s 6ms/step - loss: 44.8753\n",
            "Epoch 424/500\n",
            "1/1 [==============================] - 0s 6ms/step - loss: 44.8753\n",
            "Epoch 425/500\n",
            "1/1 [==============================] - 0s 6ms/step - loss: 44.8753\n",
            "Epoch 426/500\n",
            "1/1 [==============================] - 0s 7ms/step - loss: 44.8753\n",
            "Epoch 427/500\n",
            "1/1 [==============================] - 0s 6ms/step - loss: 44.8753\n",
            "Epoch 428/500\n",
            "1/1 [==============================] - 0s 6ms/step - loss: 44.8753\n",
            "Epoch 429/500\n",
            "1/1 [==============================] - 0s 7ms/step - loss: 44.8753\n",
            "Epoch 430/500\n",
            "1/1 [==============================] - 0s 8ms/step - loss: 44.8753\n",
            "Epoch 431/500\n",
            "1/1 [==============================] - 0s 7ms/step - loss: 44.8753\n",
            "Epoch 432/500\n",
            "1/1 [==============================] - 0s 317ms/step - loss: 44.8753\n",
            "Epoch 433/500\n",
            "1/1 [==============================] - 0s 13ms/step - loss: 44.8753\n",
            "Epoch 434/500\n",
            "1/1 [==============================] - 0s 9ms/step - loss: 44.8753\n",
            "Epoch 435/500\n",
            "1/1 [==============================] - 0s 10ms/step - loss: 44.8753\n",
            "Epoch 436/500\n",
            "1/1 [==============================] - 0s 9ms/step - loss: 44.8753\n",
            "Epoch 437/500\n",
            "1/1 [==============================] - 0s 12ms/step - loss: 44.8753\n",
            "Epoch 438/500\n",
            "1/1 [==============================] - 0s 10ms/step - loss: 44.8753\n",
            "Epoch 439/500\n",
            "1/1 [==============================] - 0s 9ms/step - loss: 44.8753\n",
            "Epoch 440/500\n",
            "1/1 [==============================] - 0s 9ms/step - loss: 44.8753\n",
            "Epoch 441/500\n",
            "1/1 [==============================] - 0s 11ms/step - loss: 44.8753\n",
            "Epoch 442/500\n",
            "1/1 [==============================] - 0s 9ms/step - loss: 44.8753\n",
            "Epoch 443/500\n",
            "1/1 [==============================] - 0s 7ms/step - loss: 44.8754\n",
            "Epoch 444/500\n",
            "1/1 [==============================] - 0s 12ms/step - loss: 44.8753\n",
            "Epoch 445/500\n",
            "1/1 [==============================] - 0s 11ms/step - loss: 44.8754\n",
            "Epoch 446/500\n",
            "1/1 [==============================] - 0s 12ms/step - loss: 44.8753\n",
            "Epoch 447/500\n",
            "1/1 [==============================] - 0s 11ms/step - loss: 44.8753\n",
            "Epoch 448/500\n",
            "1/1 [==============================] - 0s 17ms/step - loss: 44.8753\n",
            "Epoch 449/500\n",
            "1/1 [==============================] - 0s 11ms/step - loss: 44.8753\n",
            "Epoch 450/500\n",
            "1/1 [==============================] - 0s 11ms/step - loss: 44.8753\n",
            "Epoch 451/500\n",
            "1/1 [==============================] - 0s 11ms/step - loss: 44.8753\n",
            "Epoch 452/500\n",
            "1/1 [==============================] - 0s 13ms/step - loss: 44.8753\n",
            "Epoch 453/500\n",
            "1/1 [==============================] - 0s 8ms/step - loss: 44.8753\n",
            "Epoch 454/500\n",
            "1/1 [==============================] - 0s 11ms/step - loss: 44.8753\n",
            "Epoch 455/500\n",
            "1/1 [==============================] - 0s 14ms/step - loss: 44.8753\n",
            "Epoch 456/500\n",
            "1/1 [==============================] - 0s 13ms/step - loss: 44.8753\n",
            "Epoch 457/500\n",
            "1/1 [==============================] - 0s 12ms/step - loss: 44.8753\n",
            "Epoch 458/500\n",
            "1/1 [==============================] - 0s 12ms/step - loss: 44.8754\n",
            "Epoch 459/500\n",
            "1/1 [==============================] - 0s 14ms/step - loss: 44.8753\n",
            "Epoch 460/500\n",
            "1/1 [==============================] - 0s 10ms/step - loss: 44.8754\n",
            "Epoch 461/500\n",
            "1/1 [==============================] - 0s 11ms/step - loss: 44.8753\n",
            "Epoch 462/500\n",
            "1/1 [==============================] - 0s 8ms/step - loss: 44.8754\n",
            "Epoch 463/500\n",
            "1/1 [==============================] - 0s 12ms/step - loss: 44.8753\n",
            "Epoch 464/500\n",
            "1/1 [==============================] - 0s 11ms/step - loss: 44.8753\n",
            "Epoch 465/500\n",
            "1/1 [==============================] - 0s 9ms/step - loss: 44.8753\n",
            "Epoch 466/500\n",
            "1/1 [==============================] - 0s 10ms/step - loss: 44.8753\n",
            "Epoch 467/500\n",
            "1/1 [==============================] - 0s 13ms/step - loss: 44.8753\n",
            "Epoch 468/500\n",
            "1/1 [==============================] - 0s 10ms/step - loss: 44.8754\n",
            "Epoch 469/500\n",
            "1/1 [==============================] - 0s 13ms/step - loss: 44.8753\n",
            "Epoch 470/500\n",
            "1/1 [==============================] - 0s 12ms/step - loss: 44.8754\n",
            "Epoch 471/500\n",
            "1/1 [==============================] - 0s 11ms/step - loss: 44.8753\n",
            "Epoch 472/500\n",
            "1/1 [==============================] - 0s 11ms/step - loss: 44.8753\n",
            "Epoch 473/500\n",
            "1/1 [==============================] - 0s 11ms/step - loss: 44.8753\n",
            "Epoch 474/500\n",
            "1/1 [==============================] - 0s 8ms/step - loss: 44.8753\n",
            "Epoch 475/500\n",
            "1/1 [==============================] - 0s 8ms/step - loss: 44.8753\n",
            "Epoch 476/500\n",
            "1/1 [==============================] - 0s 8ms/step - loss: 44.8753\n",
            "Epoch 477/500\n",
            "1/1 [==============================] - 0s 7ms/step - loss: 44.8753\n",
            "Epoch 478/500\n",
            "1/1 [==============================] - 0s 9ms/step - loss: 44.8753\n",
            "Epoch 479/500\n",
            "1/1 [==============================] - 0s 8ms/step - loss: 44.8753\n",
            "Epoch 480/500\n",
            "1/1 [==============================] - 0s 7ms/step - loss: 44.8753\n",
            "Epoch 481/500\n",
            "1/1 [==============================] - 0s 7ms/step - loss: 44.8753\n",
            "Epoch 482/500\n",
            "1/1 [==============================] - 0s 8ms/step - loss: 44.8753\n",
            "Epoch 483/500\n",
            "1/1 [==============================] - 0s 7ms/step - loss: 44.8753\n",
            "Epoch 484/500\n",
            "1/1 [==============================] - 0s 8ms/step - loss: 44.8753\n",
            "Epoch 485/500\n",
            "1/1 [==============================] - 0s 8ms/step - loss: 44.8753\n",
            "Epoch 486/500\n",
            "1/1 [==============================] - 0s 8ms/step - loss: 44.8753\n",
            "Epoch 487/500\n",
            "1/1 [==============================] - 0s 8ms/step - loss: 44.8753\n",
            "Epoch 488/500\n",
            "1/1 [==============================] - 0s 7ms/step - loss: 44.8753\n",
            "Epoch 489/500\n",
            "1/1 [==============================] - 0s 8ms/step - loss: 44.8753\n",
            "Epoch 490/500\n",
            "1/1 [==============================] - 0s 7ms/step - loss: 44.8753\n",
            "Epoch 491/500\n",
            "1/1 [==============================] - 0s 7ms/step - loss: 44.8754\n",
            "Epoch 492/500\n",
            "1/1 [==============================] - 0s 8ms/step - loss: 44.8754\n",
            "Epoch 493/500\n",
            "1/1 [==============================] - 0s 8ms/step - loss: 44.8753\n",
            "Epoch 494/500\n",
            "1/1 [==============================] - 0s 8ms/step - loss: 44.8753\n",
            "Epoch 495/500\n",
            "1/1 [==============================] - 0s 7ms/step - loss: 44.8753\n",
            "Epoch 496/500\n",
            "1/1 [==============================] - 0s 8ms/step - loss: 44.8753\n",
            "Epoch 497/500\n",
            "1/1 [==============================] - 0s 12ms/step - loss: 44.8753\n",
            "Epoch 498/500\n",
            "1/1 [==============================] - 0s 14ms/step - loss: 44.8753\n",
            "Epoch 499/500\n",
            "1/1 [==============================] - 0s 9ms/step - loss: 44.8753\n",
            "Epoch 500/500\n",
            "1/1 [==============================] - 0s 15ms/step - loss: 44.8753\n"
          ]
        }
      ]
    },
    {
      "cell_type": "code",
      "source": [
        "# Probar nuestra IA\n",
        "\n",
        "resp = modelo.predict([5778])\n",
        "print(resp)"
      ],
      "metadata": {
        "colab": {
          "base_uri": "https://localhost:8080/"
        },
        "id": "Wlv5xr_qDqUs",
        "outputId": "f2481b4c-ba27-4007-8b66-ef8a3af5d674"
      },
      "execution_count": null,
      "outputs": [
        {
          "output_type": "stream",
          "name": "stdout",
          "text": [
            "[[10430.821]]\n"
          ]
        }
      ]
    },
    {
      "cell_type": "code",
      "source": [
        "temperaturascelsius = pd.read_csv(\"/content/temperaturascelsius.csv\", sep=\";\")\n",
        "print(temperaturascelsius)"
      ],
      "metadata": {
        "colab": {
          "base_uri": "https://localhost:8080/"
        },
        "id": "-CVX8pkQENoi",
        "outputId": "a5c2e0e2-311a-414b-a1fa-e7c92d36306f"
      },
      "execution_count": null,
      "outputs": [
        {
          "output_type": "stream",
          "name": "stdout",
          "text": [
            "     c       k\n",
            "0  -40  233.15\n",
            "1  -30  243.15\n",
            "2  -20  253.15\n",
            "3  -10  263.15\n",
            "4   -5  268.15\n",
            "5   -4  269.15\n",
            "6   -3  270.15\n",
            "7   -2  271.15\n",
            "8   -1  272.15\n",
            "9    0  273.15\n",
            "10   1  274.15\n",
            "11   2  275.15\n",
            "12   3  276.15\n",
            "13   4  277.15\n",
            "14   5  278.15\n",
            "15  10  283.15\n",
            "16  20  293.15\n",
            "17  30  303.15\n",
            "18  40  313.15\n"
          ]
        }
      ]
    },
    {
      "cell_type": "code",
      "source": [
        "c = temperaturascelsius[\"c\"]\n",
        "k = temperaturascelsius[\"k\"]"
      ],
      "metadata": {
        "id": "n2jAknHJJFDg"
      },
      "execution_count": null,
      "outputs": []
    },
    {
      "cell_type": "code",
      "source": [
        "# Graficar los datos de entrenamiento\n",
        "\n",
        "sb.scatterplot(c,k)\n",
        "plt.show()"
      ],
      "metadata": {
        "colab": {
          "base_uri": "https://localhost:8080/",
          "height": 334
        },
        "id": "ojs_F5tiJSeI",
        "outputId": "7ff02e43-450d-47ff-d77b-004b97e56185"
      },
      "execution_count": null,
      "outputs": [
        {
          "output_type": "stream",
          "name": "stderr",
          "text": [
            "/usr/local/lib/python3.7/dist-packages/seaborn/_decorators.py:43: FutureWarning: Pass the following variables as keyword args: x, y. From version 0.12, the only valid positional argument will be `data`, and passing other arguments without an explicit keyword will result in an error or misinterpretation.\n",
            "  FutureWarning\n"
          ]
        },
        {
          "output_type": "display_data",
          "data": {
            "text/plain": [
              "<Figure size 432x288 with 1 Axes>"
            ],
            "image/png": "[encoded data removed]"
          },
          "metadata": {
            "needs_background": "light"
          }
        }
      ]
    },
    {
      "cell_type": "code",
      "source": [
        "# Modelo de entrenamiento, con 1 capa dnesa (Oculta)\n",
        "modelo = tf.keras.Sequential()\n",
        "modelo.add(tf.keras.layers.Dense(units = 1, input_shape = [1]))"
      ],
      "metadata": {
        "id": "oks9315rJYcQ"
      },
      "execution_count": null,
      "outputs": []
    },
    {
      "cell_type": "code",
      "source": [
        "# Copilar el modelo\n",
        "\n",
        "modelo.compile(optimizer = tf.keras.optimizers.Adam(1), loss = \"mean_squared_error\")"
      ],
      "metadata": {
        "id": "3CAYQkciJgKv"
      },
      "execution_count": null,
      "outputs": []
    },
    {
      "cell_type": "code",
      "source": [
        "# Entrenar el modelo\n",
        "\n",
        "epocas = modelo.fit(c,k, epochs = 200, verbose = 1)"
      ],
      "metadata": {
        "id": "Y5CSANShJhJn"
      },
      "execution_count": null,
      "outputs": []
    },
    {
      "cell_type": "code",
      "source": [
        "# Probar nuestra IA\n",
        "\n",
        "resp = modelo.predict([40])\n",
        "print(resp)"
      ],
      "metadata": {
        "colab": {
          "base_uri": "https://localhost:8080/"
        },
        "id": "6ENdSUJHJok2",
        "outputId": "78329eff-28ea-4346-a44e-2aa6447eaaea"
      },
      "execution_count": null,
      "outputs": [
        {
          "output_type": "stream",
          "name": "stdout",
          "text": [
            "[[313.14948]]\n"
          ]
        }
      ]
    },
    {
      "cell_type": "code",
      "source": [
        "Clase Virtual Miercoles/05/oct/2022"
      ],
      "metadata": {
        "id": "gjkwBvMphnOr"
      },
      "execution_count": null,
      "outputs": []
    },
    {
      "cell_type": "code",
      "source": [
        "#1. Importar las librerias.\n",
        "import tensorflow as tf\n",
        "import matplotlib.pyplot as plt\n",
        "import numpy as np\n",
        "import math\n",
        "import tensorflow_datasets as tfds"
      ],
      "metadata": {
        "id": "L_Fos0NMhnsr"
      },
      "execution_count": 1,
      "outputs": []
    },
    {
      "cell_type": "code",
      "source": [
        "#2. Cargamos el dataset\n",
        "dataset, metadata = tfds.load('mnist', as_supervised=True, with_info=True)\n",
        "#print(dataset[\"train\"])\n",
        "datos_entrenamiento, datos_prueba = dataset[\"train\"], dataset[\"test\"]"
      ],
      "metadata": {
        "colab": {
          "base_uri": "https://localhost:8080/",
          "height": 84,
          "referenced_widgets": [
            "b35856a43f4b4c94ae7af196243e1752",
            "ac7689a09df04402964a006aacefee62",
            "135bbab84856407785720ce92e6a23c1",
            "80341bcecb414fb38d24831e086f7323",
            "87ab0ab2caaa43d4b5fc1dd9d9642517",
            "56dcd1cc881a48a4b9e473b5adc47e43",
            "07b58df17ecb4baf9add68dc1dde92a7",
            "0857da5e8fb64525a2e799118f63ea52",
            "188335309ce84786bfa14c98c457794e",
            "2545adc8c6574d4785f6cba663dece5e",
            "996162bbe20242c9b910e9b15a6be170"
          ]
        },
        "id": "WKkVVaJHh0cq",
        "outputId": "d988c809-34e9-49ad-f763-d39e2eb47409"
      },
      "execution_count": 2,
      "outputs": [
        {
          "output_type": "stream",
          "name": "stdout",
          "text": [
            "\u001b[1mDownloading and preparing dataset 11.06 MiB (download: 11.06 MiB, generated: 21.00 MiB, total: 32.06 MiB) to ~/tensorflow_datasets/mnist/3.0.1...\u001b[0m\n"
          ]
        },
        {
          "output_type": "display_data",
          "data": {
            "text/plain": [
              "Dl Completed...:   0%|          | 0/4 [00:00<?, ? file/s]"
            ],
            "application/vnd.jupyter.widget-view+json": {
              "version_major": 2,
              "version_minor": 0,
              "model_id": "b35856a43f4b4c94ae7af196243e1752"
            }
          },
          "metadata": {}
        },
        {
          "output_type": "stream",
          "name": "stdout",
          "text": [
            "\u001b[1mDataset mnist downloaded and prepared to ~/tensorflow_datasets/mnist/3.0.1. Subsequent calls will reuse this data.\u001b[0m\n"
          ]
        }
      ]
    },
    {
      "cell_type": "code",
      "source": [
        "#monstrar una imagen...\n",
        "for img in datos_entrenamiento.take(1):\n",
        "  print(img)\n",
        "  img = img[0].numpy().reshape(1,28,28,1)\n",
        "  plt.grid(False)\n",
        "  plt.imshow(img[0, ..., 0], cmap=plt.cm.binary)"
      ],
      "metadata": {
        "colab": {
          "base_uri": "https://localhost:8080/",
          "height": 1000
        },
        "id": "pCanoL6Rh723",
        "outputId": "90ba09cc-60e2-40c7-b30e-0dc286129de1"
      },
      "execution_count": 3,
      "outputs": [
        {
          "output_type": "stream",
          "name": "stdout",
          "text": [
            "(<tf.Tensor: shape=(28, 28, 1), dtype=uint8, numpy=\n",
            "array([[[  0],\n",
            "        [  0],\n",
            "        [  0],\n",
            "        [  0],\n",
            "        [  0],\n",
            "        [  0],\n",
            "        [  0],\n",
            "        [  0],\n",
            "        [  0],\n",
            "        [  0],\n",
            "        [  0],\n",
            "        [  0],\n",
            "        [  0],\n",
            "        [  0],\n",
            "        [  0],\n",
            "        [  0],\n",
            "        [  0],\n",
            "        [  0],\n",
            "        [  0],\n",
            "        [  0],\n",
            "        [  0],\n",
            "        [  0],\n",
            "        [  0],\n",
            "        [  0],\n",
            "        [  0],\n",
            "        [  0],\n",
            "        [  0],\n",
            "        [  0]],\n",
            "\n",
            "       [[  0],\n",
            "        [  0],\n",
            "        [  0],\n",
            "        [  0],\n",
            "        [  0],\n",
            "        [  0],\n",
            "        [  0],\n",
            "        [  0],\n",
            "        [  0],\n",
            "        [  0],\n",
            "        [  0],\n",
            "        [  0],\n",
            "        [  0],\n",
            "        [  0],\n",
            "        [  0],\n",
            "        [  0],\n",
            "        [  0],\n",
            "        [  0],\n",
            "        [  0],\n",
            "        [  0],\n",
            "        [  0],\n",
            "        [  0],\n",
            "        [  0],\n",
            "        [  0],\n",
            "        [  0],\n",
            "        [  0],\n",
            "        [  0],\n",
            "        [  0]],\n",
            "\n",
            "       [[  0],\n",
            "        [  0],\n",
            "        [  0],\n",
            "        [  0],\n",
            "        [  0],\n",
            "        [  0],\n",
            "        [  0],\n",
            "        [  0],\n",
            "        [  0],\n",
            "        [  0],\n",
            "        [  0],\n",
            "        [  0],\n",
            "        [  0],\n",
            "        [  0],\n",
            "        [  0],\n",
            "        [  0],\n",
            "        [  0],\n",
            "        [  0],\n",
            "        [  0],\n",
            "        [  0],\n",
            "        [  0],\n",
            "        [  0],\n",
            "        [  0],\n",
            "        [  0],\n",
            "        [  0],\n",
            "        [  0],\n",
            "        [  0],\n",
            "        [  0]],\n",
            "\n",
            "       [[  0],\n",
            "        [  0],\n",
            "        [  0],\n",
            "        [  0],\n",
            "        [  0],\n",
            "        [  0],\n",
            "        [  0],\n",
            "        [  0],\n",
            "        [  0],\n",
            "        [  0],\n",
            "        [  0],\n",
            "        [  0],\n",
            "        [  0],\n",
            "        [  0],\n",
            "        [  0],\n",
            "        [  0],\n",
            "        [  0],\n",
            "        [  0],\n",
            "        [  0],\n",
            "        [  0],\n",
            "        [  0],\n",
            "        [  0],\n",
            "        [  0],\n",
            "        [  0],\n",
            "        [  0],\n",
            "        [  0],\n",
            "        [  0],\n",
            "        [  0]],\n",
            "\n",
            "       [[  0],\n",
            "        [  0],\n",
            "        [  0],\n",
            "        [  0],\n",
            "        [  0],\n",
            "        [  0],\n",
            "        [  0],\n",
            "        [  0],\n",
            "        [  0],\n",
            "        [  0],\n",
            "        [  0],\n",
            "        [  0],\n",
            "        [  0],\n",
            "        [  0],\n",
            "        [  0],\n",
            "        [  0],\n",
            "        [  0],\n",
            "        [  0],\n",
            "        [  0],\n",
            "        [  0],\n",
            "        [  0],\n",
            "        [  0],\n",
            "        [  0],\n",
            "        [  0],\n",
            "        [  0],\n",
            "        [  0],\n",
            "        [  0],\n",
            "        [  0]],\n",
            "\n",
            "       [[  0],\n",
            "        [  0],\n",
            "        [  0],\n",
            "        [  0],\n",
            "        [  0],\n",
            "        [  0],\n",
            "        [  0],\n",
            "        [  0],\n",
            "        [  0],\n",
            "        [  0],\n",
            "        [  0],\n",
            "        [  0],\n",
            "        [  0],\n",
            "        [  0],\n",
            "        [  0],\n",
            "        [  0],\n",
            "        [  0],\n",
            "        [ 84],\n",
            "        [254],\n",
            "        [101],\n",
            "        [  0],\n",
            "        [  0],\n",
            "        [  0],\n",
            "        [  0],\n",
            "        [  0],\n",
            "        [  0],\n",
            "        [  0],\n",
            "        [  0]],\n",
            "\n",
            "       [[  0],\n",
            "        [  0],\n",
            "        [  0],\n",
            "        [  0],\n",
            "        [  0],\n",
            "        [  0],\n",
            "        [  0],\n",
            "        [  0],\n",
            "        [  0],\n",
            "        [  0],\n",
            "        [  0],\n",
            "        [  0],\n",
            "        [  0],\n",
            "        [  0],\n",
            "        [  0],\n",
            "        [  0],\n",
            "        [  0],\n",
            "        [174],\n",
            "        [253],\n",
            "        [119],\n",
            "        [  0],\n",
            "        [  0],\n",
            "        [  0],\n",
            "        [  0],\n",
            "        [  0],\n",
            "        [  0],\n",
            "        [  0],\n",
            "        [  0]],\n",
            "\n",
            "       [[  0],\n",
            "        [  0],\n",
            "        [  0],\n",
            "        [  0],\n",
            "        [  0],\n",
            "        [  0],\n",
            "        [  0],\n",
            "        [  0],\n",
            "        [  0],\n",
            "        [  0],\n",
            "        [  0],\n",
            "        [  0],\n",
            "        [  0],\n",
            "        [  0],\n",
            "        [  0],\n",
            "        [  0],\n",
            "        [ 31],\n",
            "        [247],\n",
            "        [202],\n",
            "        [ 29],\n",
            "        [  0],\n",
            "        [  0],\n",
            "        [  0],\n",
            "        [  0],\n",
            "        [  0],\n",
            "        [  0],\n",
            "        [  0],\n",
            "        [  0]],\n",
            "\n",
            "       [[  0],\n",
            "        [  0],\n",
            "        [  0],\n",
            "        [  0],\n",
            "        [  0],\n",
            "        [  0],\n",
            "        [  0],\n",
            "        [  0],\n",
            "        [  0],\n",
            "        [  1],\n",
            "        [  1],\n",
            "        [  0],\n",
            "        [  0],\n",
            "        [  0],\n",
            "        [  0],\n",
            "        [  0],\n",
            "        [141],\n",
            "        [253],\n",
            "        [168],\n",
            "        [  0],\n",
            "        [  0],\n",
            "        [  0],\n",
            "        [  0],\n",
            "        [  0],\n",
            "        [  0],\n",
            "        [  0],\n",
            "        [  0],\n",
            "        [  0]],\n",
            "\n",
            "       [[  0],\n",
            "        [  0],\n",
            "        [  0],\n",
            "        [  0],\n",
            "        [  0],\n",
            "        [  0],\n",
            "        [  0],\n",
            "        [  0],\n",
            "        [  0],\n",
            "        [ 66],\n",
            "        [208],\n",
            "        [ 56],\n",
            "        [  0],\n",
            "        [  0],\n",
            "        [  0],\n",
            "        [  0],\n",
            "        [186],\n",
            "        [253],\n",
            "        [120],\n",
            "        [  0],\n",
            "        [  0],\n",
            "        [  0],\n",
            "        [  0],\n",
            "        [  0],\n",
            "        [  0],\n",
            "        [  0],\n",
            "        [  0],\n",
            "        [  0]],\n",
            "\n",
            "       [[  0],\n",
            "        [  0],\n",
            "        [  0],\n",
            "        [  0],\n",
            "        [  0],\n",
            "        [  0],\n",
            "        [  0],\n",
            "        [  0],\n",
            "        [  0],\n",
            "        [ 57],\n",
            "        [253],\n",
            "        [119],\n",
            "        [  0],\n",
            "        [  0],\n",
            "        [  0],\n",
            "        [ 28],\n",
            "        [249],\n",
            "        [240],\n",
            "        [ 25],\n",
            "        [  0],\n",
            "        [  0],\n",
            "        [  0],\n",
            "        [  0],\n",
            "        [  0],\n",
            "        [  0],\n",
            "        [  0],\n",
            "        [  0],\n",
            "        [  0]],\n",
            "\n",
            "       [[  0],\n",
            "        [  0],\n",
            "        [  0],\n",
            "        [  0],\n",
            "        [  0],\n",
            "        [  0],\n",
            "        [  0],\n",
            "        [  0],\n",
            "        [  0],\n",
            "        [ 34],\n",
            "        [253],\n",
            "        [119],\n",
            "        [  0],\n",
            "        [  0],\n",
            "        [  0],\n",
            "        [109],\n",
            "        [254],\n",
            "        [197],\n",
            "        [  0],\n",
            "        [  0],\n",
            "        [  0],\n",
            "        [  0],\n",
            "        [  0],\n",
            "        [  0],\n",
            "        [  0],\n",
            "        [  0],\n",
            "        [  0],\n",
            "        [  0]],\n",
            "\n",
            "       [[  0],\n",
            "        [  0],\n",
            "        [  0],\n",
            "        [  0],\n",
            "        [  0],\n",
            "        [  0],\n",
            "        [  0],\n",
            "        [  0],\n",
            "        [  0],\n",
            "        [ 53],\n",
            "        [253],\n",
            "        [119],\n",
            "        [  0],\n",
            "        [  0],\n",
            "        [  0],\n",
            "        [135],\n",
            "        [254],\n",
            "        [133],\n",
            "        [  0],\n",
            "        [  0],\n",
            "        [  0],\n",
            "        [  0],\n",
            "        [  0],\n",
            "        [  0],\n",
            "        [  0],\n",
            "        [  0],\n",
            "        [  0],\n",
            "        [  0]],\n",
            "\n",
            "       [[  0],\n",
            "        [  0],\n",
            "        [  0],\n",
            "        [  0],\n",
            "        [  0],\n",
            "        [  0],\n",
            "        [  0],\n",
            "        [  0],\n",
            "        [  0],\n",
            "        [133],\n",
            "        [254],\n",
            "        [119],\n",
            "        [  0],\n",
            "        [  0],\n",
            "        [ 27],\n",
            "        [240],\n",
            "        [255],\n",
            "        [ 35],\n",
            "        [  0],\n",
            "        [  0],\n",
            "        [  0],\n",
            "        [  0],\n",
            "        [  0],\n",
            "        [  0],\n",
            "        [  0],\n",
            "        [  0],\n",
            "        [  0],\n",
            "        [  0]],\n",
            "\n",
            "       [[  0],\n",
            "        [  0],\n",
            "        [  0],\n",
            "        [  0],\n",
            "        [  0],\n",
            "        [  0],\n",
            "        [  0],\n",
            "        [  0],\n",
            "        [  7],\n",
            "        [235],\n",
            "        [253],\n",
            "        [208],\n",
            "        [151],\n",
            "        [169],\n",
            "        [215],\n",
            "        [253],\n",
            "        [206],\n",
            "        [  2],\n",
            "        [  0],\n",
            "        [  0],\n",
            "        [  0],\n",
            "        [  0],\n",
            "        [  0],\n",
            "        [  0],\n",
            "        [  0],\n",
            "        [  0],\n",
            "        [  0],\n",
            "        [  0]],\n",
            "\n",
            "       [[  0],\n",
            "        [  0],\n",
            "        [  0],\n",
            "        [  0],\n",
            "        [  0],\n",
            "        [  0],\n",
            "        [  0],\n",
            "        [  0],\n",
            "        [ 97],\n",
            "        [253],\n",
            "        [253],\n",
            "        [253],\n",
            "        [254],\n",
            "        [253],\n",
            "        [253],\n",
            "        [253],\n",
            "        [ 86],\n",
            "        [  0],\n",
            "        [  0],\n",
            "        [  0],\n",
            "        [  0],\n",
            "        [  0],\n",
            "        [  0],\n",
            "        [  0],\n",
            "        [  0],\n",
            "        [  0],\n",
            "        [  0],\n",
            "        [  0]],\n",
            "\n",
            "       [[  0],\n",
            "        [  0],\n",
            "        [  0],\n",
            "        [  0],\n",
            "        [  0],\n",
            "        [  0],\n",
            "        [  0],\n",
            "        [  0],\n",
            "        [150],\n",
            "        [244],\n",
            "        [145],\n",
            "        [119],\n",
            "        [101],\n",
            "        [ 82],\n",
            "        [253],\n",
            "        [253],\n",
            "        [ 14],\n",
            "        [  0],\n",
            "        [  0],\n",
            "        [  0],\n",
            "        [  0],\n",
            "        [  0],\n",
            "        [  0],\n",
            "        [  0],\n",
            "        [  0],\n",
            "        [  0],\n",
            "        [  0],\n",
            "        [  0]],\n",
            "\n",
            "       [[  0],\n",
            "        [  0],\n",
            "        [  0],\n",
            "        [  0],\n",
            "        [  0],\n",
            "        [  0],\n",
            "        [  0],\n",
            "        [  0],\n",
            "        [  0],\n",
            "        [  0],\n",
            "        [  0],\n",
            "        [  0],\n",
            "        [  0],\n",
            "        [ 84],\n",
            "        [254],\n",
            "        [172],\n",
            "        [  0],\n",
            "        [  0],\n",
            "        [  0],\n",
            "        [  0],\n",
            "        [  0],\n",
            "        [  0],\n",
            "        [  0],\n",
            "        [  0],\n",
            "        [  0],\n",
            "        [  0],\n",
            "        [  0],\n",
            "        [  0]],\n",
            "\n",
            "       [[  0],\n",
            "        [  0],\n",
            "        [  0],\n",
            "        [  0],\n",
            "        [  0],\n",
            "        [  0],\n",
            "        [  0],\n",
            "        [  0],\n",
            "        [  0],\n",
            "        [  0],\n",
            "        [  0],\n",
            "        [  0],\n",
            "        [  0],\n",
            "        [174],\n",
            "        [253],\n",
            "        [119],\n",
            "        [  0],\n",
            "        [  0],\n",
            "        [  0],\n",
            "        [  0],\n",
            "        [  0],\n",
            "        [  0],\n",
            "        [  0],\n",
            "        [  0],\n",
            "        [  0],\n",
            "        [  0],\n",
            "        [  0],\n",
            "        [  0]],\n",
            "\n",
            "       [[  0],\n",
            "        [  0],\n",
            "        [  0],\n",
            "        [  0],\n",
            "        [  0],\n",
            "        [  0],\n",
            "        [  0],\n",
            "        [  0],\n",
            "        [  0],\n",
            "        [  0],\n",
            "        [  0],\n",
            "        [  0],\n",
            "        [  0],\n",
            "        [237],\n",
            "        [252],\n",
            "        [ 56],\n",
            "        [  0],\n",
            "        [  0],\n",
            "        [  0],\n",
            "        [  0],\n",
            "        [  0],\n",
            "        [  0],\n",
            "        [  0],\n",
            "        [  0],\n",
            "        [  0],\n",
            "        [  0],\n",
            "        [  0],\n",
            "        [  0]],\n",
            "\n",
            "       [[  0],\n",
            "        [  0],\n",
            "        [  0],\n",
            "        [  0],\n",
            "        [  0],\n",
            "        [  0],\n",
            "        [  0],\n",
            "        [  0],\n",
            "        [  0],\n",
            "        [  0],\n",
            "        [  0],\n",
            "        [  0],\n",
            "        [ 50],\n",
            "        [241],\n",
            "        [182],\n",
            "        [  0],\n",
            "        [  0],\n",
            "        [  0],\n",
            "        [  0],\n",
            "        [  0],\n",
            "        [  0],\n",
            "        [  0],\n",
            "        [  0],\n",
            "        [  0],\n",
            "        [  0],\n",
            "        [  0],\n",
            "        [  0],\n",
            "        [  0]],\n",
            "\n",
            "       [[  0],\n",
            "        [  0],\n",
            "        [  0],\n",
            "        [  0],\n",
            "        [  0],\n",
            "        [  0],\n",
            "        [  0],\n",
            "        [  0],\n",
            "        [  0],\n",
            "        [  0],\n",
            "        [  0],\n",
            "        [  0],\n",
            "        [187],\n",
            "        [254],\n",
            "        [249],\n",
            "        [105],\n",
            "        [  0],\n",
            "        [  0],\n",
            "        [  0],\n",
            "        [  0],\n",
            "        [  0],\n",
            "        [  0],\n",
            "        [  0],\n",
            "        [  0],\n",
            "        [  0],\n",
            "        [  0],\n",
            "        [  0],\n",
            "        [  0]],\n",
            "\n",
            "       [[  0],\n",
            "        [  0],\n",
            "        [  0],\n",
            "        [  0],\n",
            "        [  0],\n",
            "        [  0],\n",
            "        [  0],\n",
            "        [  0],\n",
            "        [  0],\n",
            "        [  0],\n",
            "        [  0],\n",
            "        [  0],\n",
            "        [186],\n",
            "        [253],\n",
            "        [206],\n",
            "        [ 21],\n",
            "        [  0],\n",
            "        [  0],\n",
            "        [  0],\n",
            "        [  0],\n",
            "        [  0],\n",
            "        [  0],\n",
            "        [  0],\n",
            "        [  0],\n",
            "        [  0],\n",
            "        [  0],\n",
            "        [  0],\n",
            "        [  0]],\n",
            "\n",
            "       [[  0],\n",
            "        [  0],\n",
            "        [  0],\n",
            "        [  0],\n",
            "        [  0],\n",
            "        [  0],\n",
            "        [  0],\n",
            "        [  0],\n",
            "        [  0],\n",
            "        [  0],\n",
            "        [  0],\n",
            "        [  0],\n",
            "        [227],\n",
            "        [242],\n",
            "        [ 32],\n",
            "        [  0],\n",
            "        [  0],\n",
            "        [  0],\n",
            "        [  0],\n",
            "        [  0],\n",
            "        [  0],\n",
            "        [  0],\n",
            "        [  0],\n",
            "        [  0],\n",
            "        [  0],\n",
            "        [  0],\n",
            "        [  0],\n",
            "        [  0]],\n",
            "\n",
            "       [[  0],\n",
            "        [  0],\n",
            "        [  0],\n",
            "        [  0],\n",
            "        [  0],\n",
            "        [  0],\n",
            "        [  0],\n",
            "        [  0],\n",
            "        [  0],\n",
            "        [  0],\n",
            "        [  0],\n",
            "        [  0],\n",
            "        [236],\n",
            "        [219],\n",
            "        [  0],\n",
            "        [  0],\n",
            "        [  0],\n",
            "        [  0],\n",
            "        [  0],\n",
            "        [  0],\n",
            "        [  0],\n",
            "        [  0],\n",
            "        [  0],\n",
            "        [  0],\n",
            "        [  0],\n",
            "        [  0],\n",
            "        [  0],\n",
            "        [  0]],\n",
            "\n",
            "       [[  0],\n",
            "        [  0],\n",
            "        [  0],\n",
            "        [  0],\n",
            "        [  0],\n",
            "        [  0],\n",
            "        [  0],\n",
            "        [  0],\n",
            "        [  0],\n",
            "        [  0],\n",
            "        [  0],\n",
            "        [  0],\n",
            "        [  0],\n",
            "        [  0],\n",
            "        [  0],\n",
            "        [  0],\n",
            "        [  0],\n",
            "        [  0],\n",
            "        [  0],\n",
            "        [  0],\n",
            "        [  0],\n",
            "        [  0],\n",
            "        [  0],\n",
            "        [  0],\n",
            "        [  0],\n",
            "        [  0],\n",
            "        [  0],\n",
            "        [  0]],\n",
            "\n",
            "       [[  0],\n",
            "        [  0],\n",
            "        [  0],\n",
            "        [  0],\n",
            "        [  0],\n",
            "        [  0],\n",
            "        [  0],\n",
            "        [  0],\n",
            "        [  0],\n",
            "        [  0],\n",
            "        [  0],\n",
            "        [  0],\n",
            "        [  0],\n",
            "        [  0],\n",
            "        [  0],\n",
            "        [  0],\n",
            "        [  0],\n",
            "        [  0],\n",
            "        [  0],\n",
            "        [  0],\n",
            "        [  0],\n",
            "        [  0],\n",
            "        [  0],\n",
            "        [  0],\n",
            "        [  0],\n",
            "        [  0],\n",
            "        [  0],\n",
            "        [  0]],\n",
            "\n",
            "       [[  0],\n",
            "        [  0],\n",
            "        [  0],\n",
            "        [  0],\n",
            "        [  0],\n",
            "        [  0],\n",
            "        [  0],\n",
            "        [  0],\n",
            "        [  0],\n",
            "        [  0],\n",
            "        [  0],\n",
            "        [  0],\n",
            "        [  0],\n",
            "        [  0],\n",
            "        [  0],\n",
            "        [  0],\n",
            "        [  0],\n",
            "        [  0],\n",
            "        [  0],\n",
            "        [  0],\n",
            "        [  0],\n",
            "        [  0],\n",
            "        [  0],\n",
            "        [  0],\n",
            "        [  0],\n",
            "        [  0],\n",
            "        [  0],\n",
            "        [  0]]], dtype=uint8)>, <tf.Tensor: shape=(), dtype=int64, numpy=4>)\n"
          ]
        },
        {
          "output_type": "display_data",
          "data": {
            "text/plain": [
              "<Figure size 432x288 with 1 Axes>"
            ],
            "image/png": "[encoded data removed]"
          },
          "metadata": {
            "needs_background": "light"
          }
        }
      ]
    },
    {
      "cell_type": "code",
      "source": [
        "#3. #asignar las etiquetas son 10\n",
        "numeros_letras = [\"Cero\", \"Uno\", \"Dos\", \"Tres\", \"Cuatro\", \"Cinco\", \"Seis\", \"Siete\", \"Ocho\", \"Nueve\"]"
      ],
      "metadata": {
        "id": "rJo2yEbTiDi5"
      },
      "execution_count": 4,
      "outputs": []
    },
    {
      "cell_type": "code",
      "source": [
        "#4. obtener la cantidad de datos.\n",
        "#print(metadata)\n",
        "cantidad_numeros_entrenamiento = metadata.splits[\"train\"].num_examples\n",
        "cantidad_numeros_prueba = metadata.splits[\"test\"].num_examples\n",
        "print(\"Entrenamiento\", cantidad_numeros_entrenamiento, \"Prueba\", cantidad_numeros_prueba)"
      ],
      "metadata": {
        "colab": {
          "base_uri": "https://localhost:8080/"
        },
        "id": "osJld5AbiHcv",
        "outputId": "87d059b3-7ec7-4b1a-c748-38a996fbd59c"
      },
      "execution_count": 6,
      "outputs": [
        {
          "output_type": "stream",
          "name": "stdout",
          "text": [
            "Entrenamiento 60000 Prueba 10000\n"
          ]
        }
      ]
    },
    {
      "cell_type": "code",
      "source": [
        "#5. funcion normalizadora de los pixeles de 0 - 255 que sean valores de 0 - 1\n",
        "def normalizacion(img, label):\n",
        "  img = tf.cast(img, tf.float32)\n",
        "  img /= 255 #236/255 = 0.004237288\n",
        "  return img, label"
      ],
      "metadata": {
        "id": "nDFJhVkFiWpu"
      },
      "execution_count": 7,
      "outputs": []
    },
    {
      "cell_type": "code",
      "source": [
        "#6. Llamamos la funcion normlizadora\n",
        "datos_entrenamiento = datos_entrenamiento.map(normalizacion)\n",
        "datos_prueba = datos_prueba.map(normalizacion)\n",
        "\n",
        "#for img in datos_entrenamiento.take(1):\n",
        "  #print(img[0])#5.58150468e-08 => 0.0000000558150468"
      ],
      "metadata": {
        "id": "6S5fq26eiZrV"
      },
      "execution_count": 8,
      "outputs": []
    },
    {
      "cell_type": "code",
      "source": [],
      "metadata": {
        "id": "-hRB1Er-ifqn"
      },
      "execution_count": null,
      "outputs": []
    }
  ]
}