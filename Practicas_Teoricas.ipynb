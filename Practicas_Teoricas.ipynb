{
  "nbformat": 4,
  "nbformat_minor": 0,
  "metadata": {
    "colab": {
      "provenance": [],
      "collapsed_sections": [],
      "authorship_tag": "ABX9TyPXRY6bb5jgTLZIlWadh0At",
      "include_colab_link": true
    },
    "kernelspec": {
      "name": "python3",
      "display_name": "Python 3"
    },
    "language_info": {
      "name": "python"
    }
  },
  "cells": [
    {
      "cell_type": "markdown",
      "metadata": {
        "id": "view-in-github",
        "colab_type": "text"
      },
      "source": [
        "<a href=\"https://colab.research.google.com/github/VanessaRivas2000/Programacion-III/blob/main/Practicas_Teoricas.ipynb\" target=\"_parent\"><img src=\"https://colab.research.google.com/assets/colab-badge.svg\" alt=\"Open In Colab\"/></a>"
      ]
    },
    {
      "cell_type": "code",
      "source": [
        "print(\"Hola Mundo\", \"Bienvendos a Programacion Computacional III, con Python\")\n",
        "print(\"Mi nombre es: \", \"Vanessa Rivas\")"
      ],
      "metadata": {
        "colab": {
          "base_uri": "https://localhost:8080/"
        },
        "id": "91lGJ7wt_k7J",
        "outputId": "2437179e-b4c0-4071-9379-ddf06321e5eb"
      },
      "execution_count": null,
      "outputs": [
        {
          "output_type": "stream",
          "name": "stdout",
          "text": [
            "Hola Mundo Bienvendos a Programacion Computacional III, con Python\n",
            "Mi nombre es:  Vanessa Rivas\n"
          ]
        }
      ]
    },
    {
      "cell_type": "code",
      "source": [
        "nombre = \"Vanessa Rivas\"\n",
        "print(\"Hola \", nombre, type(nombre))\n",
        "nombre = 21\n",
        "print(\"Tu edad es: \", nombre + 2, type(nombre))"
      ],
      "metadata": {
        "colab": {
          "base_uri": "https://localhost:8080/"
        },
        "id": "UoRITVUI_37A",
        "outputId": "1a015566-29de-4afe-961e-b743201b3ba3"
      },
      "execution_count": null,
      "outputs": [
        {
          "output_type": "stream",
          "name": "stdout",
          "text": [
            "Hola  Vanessa Rivas <class 'str'>\n",
            "Tu edad es:  23 <class 'int'>\n"
          ]
        }
      ]
    },
    {
      "cell_type": "code",
      "source": [
        "nombre = \"Vanessa Rivas\"\n",
        "print(\"Tu nombre es: \", nombre, \"Longuitud de tu nombre: \", len(nombre), \"Iniciales: \", nombre[0],nombre[8])"
      ],
      "metadata": {
        "colab": {
          "base_uri": "https://localhost:8080/"
        },
        "id": "_Gb7drmcAhhC",
        "outputId": "20da5e76-61ea-4580-aade-080378aef08a"
      },
      "execution_count": null,
      "outputs": [
        {
          "output_type": "stream",
          "name": "stdout",
          "text": [
            "Tu nombre es:  Vanessa Rivas Longuitud de tu nombre:  13 Iniciales:  V R\n"
          ]
        }
      ]
    },
    {
      "cell_type": "code",
      "execution_count": null,
      "metadata": {
        "colab": {
          "base_uri": "https://localhost:8080/"
        },
        "id": "CqiBCy0GeQ4m",
        "outputId": "7d66e344-798e-4441-9bc4-a59e09ceca64"
      },
      "outputs": [
        {
          "output_type": "stream",
          "name": "stdout",
          "text": [
            "la suma de num1:  5 + num2: 4.6 es igual a: 9.6\n"
          ]
        }
      ],
      "source": [
        "num1 = 5\n",
        "num2 = 4.6\n",
        "resp = num1 + num2\n",
        "print(\"la suma de num1: \", num1, \"+ num2:\", num2, \"es igual a:\",resp)"
      ]
    },
    {
      "cell_type": "code",
      "source": [
        "num3 = 15\n",
        "num4 =7\n",
        "resp = num3 - num4\n",
        "print(\"la resta de num3: \", num3, \"- num4:\", num4, \"es igual a:\",resp)"
      ],
      "metadata": {
        "colab": {
          "base_uri": "https://localhost:8080/"
        },
        "id": "4ZXA00G7kl_v",
        "outputId": "58fa1e72-16b4-4b05-9224-fcf0e3e8ab2f"
      },
      "execution_count": null,
      "outputs": [
        {
          "output_type": "stream",
          "name": "stdout",
          "text": [
            "la resta de num3:  15 - num4: 7 es igual a: 8\n"
          ]
        }
      ]
    },
    {
      "cell_type": "code",
      "source": [
        "num1 = float(input(\"ingrese un numero entero:\"))\n",
        "num2 = float(input(\"ingrese otro Num decimal:\"))\n",
        "resp = num1 + num2\n",
        "print(\"suma\", resp, type(resp))"
      ],
      "metadata": {
        "colab": {
          "base_uri": "https://localhost:8080/"
        },
        "id": "dfmt-E4Ulm-P",
        "outputId": "6ec6999c-e0d2-4b87-a436-dcafd53fdaa3"
      },
      "execution_count": null,
      "outputs": [
        {
          "output_type": "stream",
          "name": "stdout",
          "text": [
            "ingrese un numero entero:20\n",
            "ingrese otro Num decimal:2\n",
            "suma 22.0 <class 'float'>\n"
          ]
        }
      ]
    },
    {
      "cell_type": "code",
      "source": [
        "num3 = float(input(\"ingrese un numero entero:\"))\n",
        "num4 = float(input(\"ingrese un numero decimal:\"))\n",
        "resp = num3 * num4\n",
        "print(\"multiplicacion\", resp, type(resp))\n"
      ],
      "metadata": {
        "colab": {
          "base_uri": "https://localhost:8080/"
        },
        "id": "WPCqOvYHn4ou",
        "outputId": "22e68e1c-8e65-4389-d8a3-ec061b3126a6"
      },
      "execution_count": null,
      "outputs": [
        {
          "output_type": "stream",
          "name": "stdout",
          "text": [
            "ingrese un numero entero:25\n",
            "ingrese un numero decimal:2\n",
            "multiplicacion 50.0 <class 'float'>\n"
          ]
        }
      ]
    },
    {
      "cell_type": "code",
      "source": [
        "nombre = input(\"Dime tu nombre:\")\n",
        "print(nombre, type(nombre), len(nombre))\n",
        "\n",
        "print(nombre[0], nombre[1], nombre[2], nombre[3], nombre[4], nombre[5], nombre[6])\n"
      ],
      "metadata": {
        "colab": {
          "base_uri": "https://localhost:8080/"
        },
        "id": "Ro_0RSdmn4nk",
        "outputId": "8666dd9b-a48c-4dfe-8775-732f20299d45"
      },
      "execution_count": null,
      "outputs": [
        {
          "output_type": "stream",
          "name": "stdout",
          "text": [
            "Dime tu nombre:Vanessa\n",
            "Vanessa <class 'str'> 7\n",
            "V a n e s s a\n"
          ]
        }
      ]
    },
    {
      "cell_type": "code",
      "source": [
        "resp = 4 - 4 * 6 /2 + 1\n",
        "print(resp)"
      ],
      "metadata": {
        "colab": {
          "base_uri": "https://localhost:8080/"
        },
        "id": "ZOnBRfjos_Fc",
        "outputId": "a5b06cd5-2655-45c8-a0f2-cef0e70afcee"
      },
      "execution_count": null,
      "outputs": [
        {
          "output_type": "stream",
          "name": "stdout",
          "text": [
            "-7.0\n"
          ]
        }
      ]
    },
    {
      "cell_type": "code",
      "source": [
        "gustaProgramacion = True #False\n",
        "print(\"Te gusta programar:\", gustaProgramacion)\n",
        "\n",
        "gustaDiseño = False\n",
        "print(\"Te gusta diseñar:\", gustaDiseño)"
      ],
      "metadata": {
        "colab": {
          "base_uri": "https://localhost:8080/"
        },
        "id": "Sww8mnDYuB8t",
        "outputId": "205ba5da-ee69-4a7c-cb48-a83e2c808896"
      },
      "execution_count": null,
      "outputs": [
        {
          "output_type": "stream",
          "name": "stdout",
          "text": [
            "Te gusta programar: True\n",
            "Te gusta diseñar: False\n"
          ]
        }
      ]
    },
    {
      "cell_type": "code",
      "source": [
        "def suma(num1, num2):\n",
        "  return num1 + num2\n",
        "print(\"la suma de 5 + 7 =\", suma(5,7))"
      ],
      "metadata": {
        "colab": {
          "base_uri": "https://localhost:8080/"
        },
        "id": "C8jf0NiJwHBA",
        "outputId": "406c3656-435e-41e5-a4b2-c2d4e6ceb13b"
      },
      "execution_count": null,
      "outputs": [
        {
          "output_type": "stream",
          "name": "stdout",
          "text": [
            "la suma de 5 + 7 = 12\n"
          ]
        }
      ]
    },
    {
      "cell_type": "code",
      "source": [
        "def suma(num1, num2):\n",
        "  return num1 + num2\n",
        "  num1 = float(input(\"Dime un numero:\"))\n",
        "  num2 = float(input(\"Dime otro numero\"))\n",
        "  print(\"La suma es:\", suma)(num1, num2)"
      ],
      "metadata": {
        "id": "9nfegvjzw1-7"
      },
      "execution_count": null,
      "outputs": []
    },
    {
      "cell_type": "code",
      "source": [
        "c = 27"
      ],
      "metadata": {
        "id": "z-BF8z85mOba"
      },
      "execution_count": null,
      "outputs": []
    },
    {
      "cell_type": "code",
      "source": [
        "def convertirCaF(c):\n",
        "  return c*9/5 + 32"
      ],
      "metadata": {
        "id": "bs6nLycVmhVG"
      },
      "execution_count": null,
      "outputs": []
    },
    {
      "cell_type": "code",
      "source": [
        "print(\"Celsius a F: \", convertirCaF(c))"
      ],
      "metadata": {
        "colab": {
          "base_uri": "https://localhost:8080/"
        },
        "id": "d3KkC1fSo3gL",
        "outputId": "a4926ac2-59a9-478c-bd7e-d772a8374158"
      },
      "execution_count": null,
      "outputs": [
        {
          "output_type": "stream",
          "name": "stdout",
          "text": [
            "Celsius a F:  80.6\n"
          ]
        }
      ]
    },
    {
      "cell_type": "code",
      "source": [
        "gradosCiudades = [27, 30, 32, 35, 40, 45]"
      ],
      "metadata": {
        "id": "EI0mLVx5poYg"
      },
      "execution_count": null,
      "outputs": []
    },
    {
      "cell_type": "code",
      "source": [
        "print(gradosCiudades, \"Respuesta: \", list(map(convertirCaF, gradosCiudades)))"
      ],
      "metadata": {
        "colab": {
          "base_uri": "https://localhost:8080/"
        },
        "id": "qZ8-jsYPqKmR",
        "outputId": "eb03b153-4041-47a7-998c-b923a1f7935e"
      },
      "execution_count": null,
      "outputs": [
        {
          "output_type": "stream",
          "name": "stdout",
          "text": [
            "[27, 30, 32, 35, 40, 45] Respuesta:  [80.6, 86.0, 89.6, 95.0, 104.0, 113.0]\n"
          ]
        }
      ]
    },
    {
      "cell_type": "code",
      "source": [
        "c=27\n",
        "def convertirFaC(c):\n",
        "  return (c-32)*0.55555\n",
        "  "
      ],
      "metadata": {
        "id": "7a20rt46rNrl"
      },
      "execution_count": null,
      "outputs": []
    },
    {
      "cell_type": "code",
      "source": [
        "print(\"Fahrenheit a C: \", convertirFaC(c))"
      ],
      "metadata": {
        "colab": {
          "base_uri": "https://localhost:8080/"
        },
        "id": "KkjqCzthsKSt",
        "outputId": "986e2c66-fa68-4c9b-b206-029cd590b21f"
      },
      "execution_count": null,
      "outputs": [
        {
          "output_type": "stream",
          "name": "stdout",
          "text": [
            "Fahrenheit a C:  -2.77775\n"
          ]
        }
      ]
    },
    {
      "cell_type": "code",
      "source": [
        "gradosCiudades = [27, 30, 32, 35, 40, 45]"
      ],
      "metadata": {
        "id": "_9QcIfYZs_5k"
      },
      "execution_count": null,
      "outputs": []
    },
    {
      "cell_type": "code",
      "source": [
        "print(gradosCiudades, \"Respuesta: \", list(map(convertirFaC, gradosCiudades)))"
      ],
      "metadata": {
        "colab": {
          "base_uri": "https://localhost:8080/"
        },
        "id": "fCSgkAo3t-dh",
        "outputId": "7f7ad37a-bb97-4ea9-9c71-ec3a8b030868"
      },
      "execution_count": null,
      "outputs": [
        {
          "output_type": "stream",
          "name": "stdout",
          "text": [
            "[27, 30, 32, 35, 40, 45] Respuesta:  [-2.77775, -1.1111, 0.0, 1.66665, 4.4444, 7.22215]\n"
          ]
        }
      ]
    },
    {
      "cell_type": "code",
      "source": [
        "c=80.6\n",
        "def convertirFaC(c):\n",
        "  return(c-32)*0.55555"
      ],
      "metadata": {
        "id": "M6F-80I0uRNM"
      },
      "execution_count": null,
      "outputs": []
    },
    {
      "cell_type": "code",
      "source": [
        "print(\"Fahrenheit a C: \", convertirFaC(c))"
      ],
      "metadata": {
        "colab": {
          "base_uri": "https://localhost:8080/"
        },
        "id": "7NJu9VfFvLIW",
        "outputId": "cc109b3f-78de-4dc0-dafe-d60e79c7b71b"
      },
      "execution_count": null,
      "outputs": [
        {
          "output_type": "stream",
          "name": "stdout",
          "text": [
            "Fahrenheit a C:  26.999729999999996\n"
          ]
        }
      ]
    },
    {
      "cell_type": "code",
      "source": [
        "gradosCiudades = [-2.77775, -1.1111, 0.0, 1.66665, 4.4444, 7.22215]\n"
      ],
      "metadata": {
        "id": "M1RSajOzvYmt"
      },
      "execution_count": null,
      "outputs": []
    },
    {
      "cell_type": "code",
      "source": [
        "print(gradosCiudades, \"Respuesta: \", list(map(convertirFaC, gradosCiudades)))"
      ],
      "metadata": {
        "colab": {
          "base_uri": "https://localhost:8080/"
        },
        "id": "R5KcYh51vysM",
        "outputId": "3ec548ef-1dd3-4f9b-fd9f-9ce5c67dfc0e"
      },
      "execution_count": null,
      "outputs": [
        {
          "output_type": "stream",
          "name": "stdout",
          "text": [
            "[-2.77775, -1.1111, 0.0, 1.66665, 4.4444, 7.22215] Respuesta:  [-19.320779012499997, -18.394871605, -17.7776, -16.8516925925, -15.30851358, -13.7653345675]\n"
          ]
        }
      ]
    },
    {
      "cell_type": "code",
      "source": [
        "gradosK = [300.0, 303.0, 308.0, 313.0, 218.0]\n",
        "gradosC = lambda c:(c-273.15)\n",
        "c = list(map(gradosC, gradosK))"
      ],
      "metadata": {
        "id": "e-Ak8uQLwsPQ"
      },
      "execution_count": null,
      "outputs": []
    },
    {
      "cell_type": "code",
      "source": [
        "print(c)"
      ],
      "metadata": {
        "colab": {
          "base_uri": "https://localhost:8080/"
        },
        "id": "TGwyZl3tyfn3",
        "outputId": "e2ad8f83-5309-4d9e-ac28-b2513a16744a"
      },
      "execution_count": null,
      "outputs": [
        {
          "output_type": "stream",
          "name": "stdout",
          "text": [
            "[26.850000000000023, 29.850000000000023, 34.85000000000002, 39.85000000000002, -55.14999999999998]\n"
          ]
        }
      ]
    },
    {
      "cell_type": "code",
      "source": [
        "gradosF = lambda F:F * 9/5 + 32\n",
        "grados = float(input(\"Ingrese un numero\"))\n",
        "print(\"Grados: \", gradosF(grados))"
      ],
      "metadata": {
        "colab": {
          "base_uri": "https://localhost:8080/"
        },
        "id": "xzhekLXSz_wn",
        "outputId": "7c13c372-cb87-47ce-8936-c992d58ca744"
      },
      "execution_count": null,
      "outputs": [
        {
          "output_type": "stream",
          "name": "stdout",
          "text": [
            "Ingrese un numero20\n",
            "Grados:  68.0\n"
          ]
        }
      ]
    },
    {
      "cell_type": "code",
      "source": [
        "edades = (2,5,12,18,65,100) #La tupla es inmutable, es decir, no podemos cambiar su valor y se declara con parentesis pero se usa corchetes"
      ],
      "metadata": {
        "id": "vP8EetAPq2xZ"
      },
      "execution_count": null,
      "outputs": []
    },
    {
      "cell_type": "code",
      "source": [
        "print( edades, \"La edad de bebe es la mejor: \", edades[0])"
      ],
      "metadata": {
        "colab": {
          "base_uri": "https://localhost:8080/"
        },
        "id": "4-hOUj37rZc_",
        "outputId": "0a9bccb8-5ef0-4922-f69c-1490b42ae9d4"
      },
      "execution_count": null,
      "outputs": [
        {
          "output_type": "stream",
          "name": "stdout",
          "text": [
            "(2, 5, 12, 18, 65, 100) La edad de bebe es la mejor:  2\n"
          ]
        }
      ]
    },
    {
      "cell_type": "code",
      "source": [
        "print(\"Edades: \", edades, \"Responsabilidades: \", tuple(filter(lambda e:e>=18, edades)))"
      ],
      "metadata": {
        "colab": {
          "base_uri": "https://localhost:8080/"
        },
        "id": "K5LhdmK7rZbQ",
        "outputId": "d474bd16-f9ed-4189-d477-0b4f37e37c5a"
      },
      "execution_count": null,
      "outputs": [
        {
          "output_type": "stream",
          "name": "stdout",
          "text": [
            "Edades:  (2, 5, 12, 18, 65, 100) Responsabilidades:  (18, 65, 100)\n"
          ]
        }
      ]
    },
    {
      "cell_type": "code",
      "source": [
        "print(\"Edades: \", edades, \"Al cuadrado: \", tuple(map(lambda n:n**2, edades)))"
      ],
      "metadata": {
        "colab": {
          "base_uri": "https://localhost:8080/"
        },
        "id": "6tXL9seBsMYP",
        "outputId": "2b6c3b1b-34f6-4fc2-9fae-0a08d6b0e7a4"
      },
      "execution_count": null,
      "outputs": [
        {
          "output_type": "stream",
          "name": "stdout",
          "text": [
            "Edades:  (2, 5, 12, 18, 65, 100) Al cuadrado:  (4, 25, 144, 324, 4225, 10000)\n"
          ]
        }
      ]
    },
    {
      "cell_type": "code",
      "source": [
        "notas = [6,8,10] # Listas, son mutables, es decir, podemos cambiar sus valores y se declaran y usan con corchetes.\n",
        "print(\"Notas originales: \", notas)"
      ],
      "metadata": {
        "colab": {
          "base_uri": "https://localhost:8080/"
        },
        "id": "YdIZtuBbtIN-",
        "outputId": "e5ad7f2c-eb0e-4be6-fb8d-4713a47e64db"
      },
      "execution_count": null,
      "outputs": [
        {
          "output_type": "stream",
          "name": "stdout",
          "text": [
            "Notas originales:  [6, 8, 10]\n"
          ]
        }
      ]
    },
    {
      "cell_type": "code",
      "source": [
        "notas[0]=9\n",
        "print(\"Notas: \", notas)"
      ],
      "metadata": {
        "colab": {
          "base_uri": "https://localhost:8080/"
        },
        "id": "J5akwKrdtf2t",
        "outputId": "32204e7c-e7d6-4841-ab21-702f343048de"
      },
      "execution_count": null,
      "outputs": [
        {
          "output_type": "stream",
          "name": "stdout",
          "text": [
            "Notas:  [9, 8, 10]\n"
          ]
        }
      ]
    },
    {
      "cell_type": "code",
      "source": [
        "notasprogra = [\n",
        "    [9,8,10],#C1\n",
        "    [10,6,9], #C2\n",
        "    [10,9,10], #C3\n",
        "]\n",
        "print(notasprogra)"
      ],
      "metadata": {
        "colab": {
          "base_uri": "https://localhost:8080/"
        },
        "id": "WsXCS-Iftuol",
        "outputId": "dda64275-786e-4b02-d8f5-415544e71cde"
      },
      "execution_count": null,
      "outputs": [
        {
          "output_type": "stream",
          "name": "stdout",
          "text": [
            "[[9, 8, 10], [10, 6, 9], [10, 9, 10]]\n"
          ]
        }
      ]
    },
    {
      "cell_type": "code",
      "source": [
        "print(\"Lab2 de C1\", notasprogra[0][1])"
      ],
      "metadata": {
        "colab": {
          "base_uri": "https://localhost:8080/"
        },
        "id": "EzQXSz9kudd1",
        "outputId": "1f6e2a23-b56e-4c5f-827a-a176ede81620"
      },
      "execution_count": null,
      "outputs": [
        {
          "output_type": "stream",
          "name": "stdout",
          "text": [
            "Lab2 de C1 8\n"
          ]
        }
      ]
    },
    {
      "cell_type": "code",
      "source": [
        "notas = [\n",
        "[ #Progra III\n",
        " [9,8,[8,9]], #C1\n",
        " [10,6,9], #C2\n",
        " [10,9,10], #C3\n",
        "],\n",
        "[ #Estadistica\n",
        " [5,7,10], #C1\n",
        " [9,8,9], #C2\n",
        " [10,10,10], #C3\n",
        "],\n",
        "[ #BD\n",
        " [7,8,9], #C1\n",
        " [9,8,7], #C2\n",
        " [10,9,10], #C3\n",
        "],\n",
        "[ #Ingles\n",
        " [8,9,10], #C1\n",
        " [9,10,9], #C2\n",
        " [10,10,10], #C3\n",
        "],\n",
        "[ #Circuito Digital\n",
        " [5,8,7], #C1\n",
        " [8,7,9], #C2\n",
        " [9,10,9], #C3\n",
        "]\n",
        "]\n",
        "import functools\n",
        "print(\"Lab1 de Estadistica en C1\", notas[1][0][0], \"Nota de Parcial C1 de Progra III: \", functools.reduce(lambda a,b: a + b, notas[0][0][2])/2)"
      ],
      "metadata": {
        "colab": {
          "base_uri": "https://localhost:8080/"
        },
        "id": "x_Yxlypy7kmC",
        "outputId": "d2bd9500-f919-4af8-8e23-446e66030a45"
      },
      "execution_count": null,
      "outputs": [
        {
          "output_type": "stream",
          "name": "stdout",
          "text": [
            "Lab1 de Estadistica en C1 5 Nota de Parcial C1 de Progra III:  8.5\n"
          ]
        }
      ]
    },
    {
      "cell_type": "code",
      "source": [
        "#diccionarios (JSON): Se declaran con llaves pero se usan con corchetes\n",
        "misNotas = {\n",
        "    \"Programa III\":{\n",
        "        \"C1\": {\n",
        "          \"Lab1\":9,\"Lab2\":8, \"Parcial\":{\"ParteI\":8, \"ParteII\":9}\n",
        "        },\n",
        "        \"C2\":{\n",
        "          \"Lab1\":10,\"Lab2\":6, \"Parcial\":9\n",
        "        },\n",
        "        \"C3\":{\n",
        "          \"Lab1\":10,\"Lab2\":6, \"Parcial\":9\n",
        "        }\n",
        "    },\"Estadistica\":{\n",
        "        \"C1\": {\n",
        "          \"Lab1\":5,\"Lab2\":7, \"Parcial\":10\n",
        "        },\n",
        "        \"C2\":{\n",
        "          \"Lab1\":9,\"Lab2\":8, \"Parcial\":9\n",
        "        },\n",
        "        \"C3\":{\n",
        "          \"Lab1\":10,\"Lab2\":10, \"Parcial\":10\n",
        "        }\n",
        "    }, \"BD\":{\n",
        "        \"C1\": {\n",
        "          \"Lab1\":7,\"Lab2\":8, \"Parcial\":9\n",
        "        },\n",
        "        \"C2\":{\n",
        "          \"Lab1\":9,\"Lab2\":8, \"Parcial\":7\n",
        "        },\n",
        "        \"C3\":{\n",
        "          \"Lab1\":10,\"Lab2\":9, \"Parcial\":10\n",
        "        }\n",
        "    }, \"Ingles\":{\n",
        "        \"C1\": {\n",
        "          \"Lab1\":8,\"Lab2\":9, \"Parcial\":10\n",
        "        },\n",
        "        \"C2\":{\n",
        "          \"Lab1\":9,\"Lab2\":10, \"Parcial\":9\n",
        "        },\n",
        "        \"C3\":{\n",
        "          \"Lab1\":10,\"Lab2\":10, \"Parcial\":10\n",
        "        }\n",
        "    }, \"Circuitos Digitales\":{\n",
        "        \"C1\": {\n",
        "          \"Lab1\":5,\"Lab2\":8, \"Parcial\":7\n",
        "        },\n",
        "        \"C2\":{\n",
        "          \"Lab1\":8,\"Lab2\":7, \"Parcial\":9\n",
        "        },\n",
        "        \"C3\":{\n",
        "          \"Lab1\":9,\"Lab2\":10, \"Parcial\":9\n",
        "        }\n",
        "    }\n",
        "}\n",
        "print(\"Lab1 en C1 de Estadistica: \", misNotas[\"Estadistica\"][\"C1\"][\"Lab1\"])\n",
        "misNotas[\"Estadistica\"][\"C1\"][\"Lab1\"] = float(input(\"Lab1: \"))\n",
        "print(\"Lab1 en C1 de Estadistica: \", misNotas[\"Estadistica\"][\"C1\"][\"Lab1\"])"
      ],
      "metadata": {
        "colab": {
          "base_uri": "https://localhost:8080/"
        },
        "id": "St4NmByA-GIJ",
        "outputId": "c961f4a3-3950-460d-e883-53e0baf2d867"
      },
      "execution_count": null,
      "outputs": [
        {
          "output_type": "stream",
          "name": "stdout",
          "text": [
            "Lab1 en C1 de Estadistica:  5\n",
            "Lab1: 9.5\n",
            "Lab1 en C1 de Estadistica:  9.5\n"
          ]
        }
      ]
    },
    {
      "cell_type": "code",
      "source": [
        "edad = int(input(\"Dime tu edad: \"))\n",
        "if(edad<=2):\n",
        "  print(\"Eres un bebe\")\n",
        "elif(edad<12):\n",
        "  print(\"Eres un niño\")\n",
        "elif( edad<18 ):\n",
        "  print(\"Eres un adolescente\")\n",
        "elif( edad<=55 ):\n",
        "  print(\"Eres un adulto joven\")\n",
        "elif(edad<=65):\n",
        "  print(\"Eres un Adulto\")\n",
        "elif(edad<=85):\n",
        "  print(\"Eres un adulto mayor\")\n",
        "elif(edad<=130):\n",
        "  print(\"Larga vidad...\")\n",
        "else:\n",
        "  print(\"Edad incorrecto\")\n",
        "print(\"Termino\")"
      ],
      "metadata": {
        "colab": {
          "base_uri": "https://localhost:8080/"
        },
        "id": "OBawFg7JjKiI",
        "outputId": "4fdc580f-f909-44aa-e82c-f19afb0cb975"
      },
      "execution_count": null,
      "outputs": [
        {
          "output_type": "stream",
          "name": "stdout",
          "text": [
            "Dime tu edad: 23\n",
            "Eres un adulto joven\n",
            "Termino\n"
          ]
        }
      ]
    },
    {
      "cell_type": "code",
      "source": [
        "#hacer un programa que genera la tabla de multiplicar de x numero ingreso por el usuario\n",
        "nt = int(input(\"Dime la tabla de multiplicar a generar: \"))\n",
        "i=1\n",
        "while i<=10:\n",
        "  print( nt,\"X\",i,\"=\", nt*i )\n",
        "  i+=1"
      ],
      "metadata": {
        "colab": {
          "base_uri": "https://localhost:8080/"
        },
        "id": "9WGpZuKGSxZ9",
        "outputId": "b4adca9f-ed09-435d-e9d0-e601fd28cda3"
      },
      "execution_count": null,
      "outputs": [
        {
          "output_type": "stream",
          "name": "stdout",
          "text": [
            "Dime la tabla de multiplicar a generar: 12\n",
            "12 X 1 = 12\n",
            "12 X 2 = 24\n",
            "12 X 3 = 36\n",
            "12 X 4 = 48\n",
            "12 X 5 = 60\n",
            "12 X 6 = 72\n",
            "12 X 7 = 84\n",
            "12 X 8 = 96\n",
            "12 X 9 = 108\n",
            "12 X 10 = 120\n"
          ]
        }
      ]
    },
    {
      "cell_type": "code",
      "source": [
        "#hacer un programa que genera la tabla de multiplicar de x numero ingreso por el usuario\n",
        "nt = int(input(\"Dime la tabla que deseas generar: \"))\n",
        "for i in range(1,11): #i<11\n",
        "  print(nt,\"X\",i,\"=\", nt*i)"
      ],
      "metadata": {
        "colab": {
          "base_uri": "https://localhost:8080/"
        },
        "id": "r63AhZHhTSbz",
        "outputId": "d15b2516-f8ff-4138-8ab0-26a3eabd59b0"
      },
      "execution_count": null,
      "outputs": [
        {
          "output_type": "stream",
          "name": "stdout",
          "text": [
            "Dime la tabla que deseas generar: 12\n",
            "12 X 1 = 12\n",
            "12 X 2 = 24\n",
            "12 X 3 = 36\n",
            "12 X 4 = 48\n",
            "12 X 5 = 60\n",
            "12 X 6 = 72\n",
            "12 X 7 = 84\n",
            "12 X 8 = 96\n",
            "12 X 9 = 108\n",
            "12 X 10 = 120\n"
          ]
        }
      ]
    },
    {
      "cell_type": "code",
      "source": [
        "#hacer un programa que genera la tabla de multiplicar de x numero ingreso por el usuario\n",
        "s = \"s\"\n",
        "while s==\"s\":\n",
        "  nt = int(input(\"Dime una tabla: \"))\n",
        "  for i in range(1, 11):\n",
        "    print(nt, \"X\",i,\"=\", nt*i)\n",
        "  s = input(\"Desea continua presione la tecla s, sino cualquier otra\")"
      ],
      "metadata": {
        "colab": {
          "base_uri": "https://localhost:8080/"
        },
        "id": "z5v_uVajTaSj",
        "outputId": "8e037d6d-15cd-4540-a486-a725baa2fcf5"
      },
      "execution_count": null,
      "outputs": [
        {
          "name": "stdout",
          "output_type": "stream",
          "text": [
            "Dime una tabla: 12\n",
            "12 X 1 = 12\n",
            "12 X 2 = 24\n",
            "12 X 3 = 36\n",
            "12 X 4 = 48\n",
            "12 X 5 = 60\n",
            "12 X 6 = 72\n",
            "12 X 7 = 84\n",
            "12 X 8 = 96\n",
            "12 X 9 = 108\n",
            "12 X 10 = 120\n",
            "Desea continua presione la tecla s, sino cualquier otras\n",
            "Dime una tabla: 10\n",
            "10 X 1 = 10\n",
            "10 X 2 = 20\n",
            "10 X 3 = 30\n",
            "10 X 4 = 40\n",
            "10 X 5 = 50\n",
            "10 X 6 = 60\n",
            "10 X 7 = 70\n",
            "10 X 8 = 80\n",
            "10 X 9 = 90\n",
            "10 X 10 = 100\n",
            "Desea continua presione la tecla s, sino cualquier otras\n",
            "Dime una tabla: 8\n",
            "8 X 1 = 8\n",
            "8 X 2 = 16\n",
            "8 X 3 = 24\n",
            "8 X 4 = 32\n",
            "8 X 5 = 40\n",
            "8 X 6 = 48\n",
            "8 X 7 = 56\n",
            "8 X 8 = 64\n",
            "8 X 9 = 72\n",
            "8 X 10 = 80\n",
            "Desea continua presione la tecla s, sino cualquier otra\n"
          ]
        }
      ]
    },
    {
      "cell_type": "code",
      "source": [
        "#conversores\n",
        "etiquetas = [\n",
        "    0,\n",
        "    [\"Seleccione un moneda\", \"1. Dolar\", \"2. Colon SV\", \"3. Quetzal\", \"4. Lempira\", \"5. Cordoba\"],\n",
        "    [\"Selecione un almacenamiento\", \"1. MegaByte\", \"2. Bit\", \"3. Byte\", \"4. KiloByte\", \"5. GigaByte\"]\n",
        "    ,3,4,5]\n",
        "\n",
        "valores = [0,\n",
        "  [0,1, 8.75, 7.73, 24.49, 35.96],\n",
        "  [0,1, 8388608, 1048576, 1024, 0.0009765625]  "
      ],
      "metadata": {
        "id": "7K9-javAToCx"
      },
      "execution_count": null,
      "outputs": []
    },
    {
      "cell_type": "code",
      "source": [
        "def convertir(opcion, de, a, cantidad):\n",
        "  return valores[opcion][a] / valores[opcion][de] * cantidad"
      ],
      "metadata": {
        "id": "ET-TnA2RTvd-"
      },
      "execution_count": null,
      "outputs": []
    },
    {
      "cell_type": "code",
      "source": [
        "print(\"** MENU **\")\n",
        "print(\"1. Monedas\")\n",
        "print(\"2. Almacenamiento\")\n",
        "opcion = int(input(\"Opcion: \"))\n",
        "\n",
        "print( etiquetas[opcion] )\n",
        "de = int(input(\"DE: \"))\n",
        "a = int(input(\"A: \"))\n",
        "cantidad = float(input(\"Cantidad: \"))\n",
        "\n",
        "print( etiquetas[opcion][de], \" en \", etiquetas[opcion][a], \" equivale a: \", convertir(opcion, de, a, cantidad) )"
      ],
      "metadata": {
        "colab": {
          "base_uri": "https://localhost:8080/"
        },
        "id": "yuhyLnJxT1B-",
        "outputId": "dd6b51a7-c318-4c2d-d224-67d85e92b529"
      },
      "execution_count": null,
      "outputs": [
        {
          "output_type": "stream",
          "name": "stdout",
          "text": [
            "** MENU **\n",
            "1. Monedas\n",
            "2. Almacenamiento\n",
            "Opcion: 2\n",
            "['Selecione un almacenamiento', '1. MegaByte', '2. Bit', '3. Byte', '4. KiloByte', '5. GigaByte']\n",
            "DE: 5\n",
            "A: 3\n",
            "Cantidad: 36\n",
            "5. GigaByte  en  3. Byte  equivale a:  38654705664.0\n"
          ]
        }
      ]
    },
    {
      "cell_type": "code",
      "source": [
        "# Semana 7 - Miercoles 08/09/2022"
      ],
      "metadata": {
        "id": "WCRZP0xa2fi0"
      },
      "execution_count": null,
      "outputs": []
    },
    {
      "cell_type": "code",
      "source": [
        "#POLIMORFISMO\n",
        "#el polimorfismo lo tiene el signo (objeto) +\n",
        "nombre = \"Vanessa Rivas\"\n",
        "saludo = \"Hola \" + nombre\n",
        "print(saludo)\n",
        "\n",
        "num1 = 5\n",
        "num2 = 4.6\n",
        "resp = num1 + num2\n",
        "mensaje = \"Respuesta \"+ str(resp)\n",
        "print(mensaje)\n",
        "\n",
        "#VB\n",
        "#num1 = 5 #Asignacion\n",
        "#if num1=5: #comparacion\n",
        "#  print(\"La variable num1 es igual a 5\")"
      ],
      "metadata": {
        "colab": {
          "base_uri": "https://localhost:8080/"
        },
        "id": "1lKTk9MY2NH3",
        "outputId": "5b9b549b-10d1-4d29-bdc0-94988089d907"
      },
      "execution_count": null,
      "outputs": [
        {
          "output_type": "stream",
          "name": "stdout",
          "text": [
            "Hola Vanessa Rivas\n",
            "Respuesta 9.6\n"
          ]
        }
      ]
    },
    {
      "cell_type": "code",
      "source": [],
      "metadata": {
        "id": "6Gbxyo9n3eya"
      },
      "execution_count": null,
      "outputs": []
    },
    {
      "cell_type": "code",
      "source": [
        "#polimosfismo\n",
        "\n",
        "num1 = 5.5\n",
        "num2 = 4.5\n",
        "print(\"Suma: \", num1 + num2)\n",
        "\n",
        "nombre = \" Vanessa \"\n",
        "saludo = \"Hola \" + nombre\n",
        "print(saludo)"
      ],
      "metadata": {
        "colab": {
          "base_uri": "https://localhost:8080/"
        },
        "id": "lvBYgvqRFura",
        "outputId": "945074fc-2954-4f68-9890-81cbbb7c1d73"
      },
      "execution_count": null,
      "outputs": [
        {
          "output_type": "stream",
          "name": "stdout",
          "text": [
            "Suma:  10.0\n",
            "Hola  Vanessa \n"
          ]
        }
      ]
    },
    {
      "cell_type": "code",
      "source": [
        "!pip --version\n",
        "!pip -V"
      ],
      "metadata": {
        "colab": {
          "base_uri": "https://localhost:8080/"
        },
        "id": "gsHGoJc92Oq1",
        "outputId": "5ecc52f3-223c-4de7-c8f6-224abfbcb4f7"
      },
      "execution_count": null,
      "outputs": [
        {
          "output_type": "stream",
          "name": "stdout",
          "text": [
            "pip 21.1.3 from /usr/local/lib/python3.7/dist-packages/pip (python 3.7)\n",
            "pip 21.1.3 from /usr/local/lib/python3.7/dist-packages/pip (python 3.7)\n"
          ]
        }
      ]
    },
    {
      "cell_type": "code",
      "source": [
        "# Practica Presencial 09/09/2022"
      ],
      "metadata": {
        "id": "7odKOMqr4bPg"
      },
      "execution_count": null,
      "outputs": []
    },
    {
      "cell_type": "code",
      "source": [
        "!pip install pandas"
      ],
      "metadata": {
        "colab": {
          "base_uri": "https://localhost:8080/"
        },
        "id": "nf-u5yQd2nH0",
        "outputId": "8126ad09-fc45-43e9-e835-dd9f584d6cb9"
      },
      "execution_count": null,
      "outputs": [
        {
          "output_type": "stream",
          "name": "stdout",
          "text": [
            "Looking in indexes: https://pypi.org/simple, https://us-python.pkg.dev/colab-wheels/public/simple/\n",
            "Requirement already satisfied: pandas in /usr/local/lib/python3.7/dist-packages (1.3.5)\n",
            "Requirement already satisfied: numpy>=1.17.3 in /usr/local/lib/python3.7/dist-packages (from pandas) (1.21.6)\n",
            "Requirement already satisfied: pytz>=2017.3 in /usr/local/lib/python3.7/dist-packages (from pandas) (2022.2.1)\n",
            "Requirement already satisfied: python-dateutil>=2.7.3 in /usr/local/lib/python3.7/dist-packages (from pandas) (2.8.2)\n",
            "Requirement already satisfied: six>=1.5 in /usr/local/lib/python3.7/dist-packages (from python-dateutil>=2.7.3->pandas) (1.15.0)\n"
          ]
        }
      ]
    },
    {
      "cell_type": "code",
      "source": [
        "!pip install keras"
      ],
      "metadata": {
        "colab": {
          "base_uri": "https://localhost:8080/"
        },
        "id": "I3WnWQRM4Od4",
        "outputId": "557ce6b0-e723-489a-90e6-7a2175b02fea"
      },
      "execution_count": null,
      "outputs": [
        {
          "output_type": "stream",
          "name": "stdout",
          "text": [
            "Looking in indexes: https://pypi.org/simple, https://us-python.pkg.dev/colab-wheels/public/simple/\n",
            "Requirement already satisfied: keras in /usr/local/lib/python3.7/dist-packages (2.8.0)\n"
          ]
        }
      ]
    },
    {
      "cell_type": "code",
      "source": [
        "# Gestor de paquete de Java Scrip (NPM) "
      ],
      "metadata": {
        "id": "5Kf65m6JGXPm"
      },
      "execution_count": null,
      "outputs": []
    },
    {
      "cell_type": "code",
      "source": [
        "# POO; Self = ella misma; Init = inicializar"
      ],
      "metadata": {
        "id": "ZSM0FG0X4T3o"
      },
      "execution_count": null,
      "outputs": []
    },
    {
      "cell_type": "code",
      "source": [
        "class deducciones:\n",
        "  def __init__(self, sueldo, porcentajeIsss, porcentajeAfp, tablaIsr):\n",
        "    self.sueldo = sueldo\n",
        "    self.porcentajeIsss = porcentajeIsss\n",
        "    self.porcentajeAfp = porcentajeAfp\n",
        "    self.tablaIsr = tablaIsr\n",
        "  \n",
        "  def calcularIsss(self):\n",
        "    return self.sueldo*self.porcentajeIsss/100\n",
        "\n",
        "  def calcularAfp(self):\n",
        "    return self.sueldo*self.porcentajeAfp/100\n",
        "  \n",
        "  def calcularIsr(self):\n",
        "    self.sueldoNeto = self.sueldo - (self.calcularIsss() + self.calcularAfp())\n",
        "    self.isr = 0\n",
        "    for tramo in self.tablaIsr:\n",
        "      if self.sueldoNeto>=tramo[0] and self.sueldoNeto<=tramo[1]:\n",
        "        self.isr = (self.sueldoNeto - tramo[0])*tramo[2]/100 + tramo[3]\n",
        "    return self.isr"
      ],
      "metadata": {
        "id": "AgwlW7oN4gq4"
      },
      "execution_count": null,
      "outputs": []
    },
    {
      "cell_type": "code",
      "source": [
        " #ISSS\n",
        "porcentajeIsssP = 3 #este valor puede venir de una base de datos\n",
        "porcentajeIsssE = 7.5\n",
        "#aFP\n",
        "porcentajeAfpP = 6.25\n",
        "porcentajeAfpE = 7.75\n",
        "#ISR\n",
        "tablaIsr = [\n",
        "    [0.01,    472,     0,  0],     #tramo I\n",
        "    [472.01,  895.24,  10, 17.67], #tramo II\n",
        "    [895.25,  2038.10, 20, 60],    #tramo III\n",
        "    [2038.11, 9999999, 30, 288.57] #tramo IV\n",
        "]"
      ],
      "metadata": {
        "id": "s-TZAsOK-r55"
      },
      "execution_count": null,
      "outputs": []
    },
    {
      "cell_type": "code",
      "source": [
        "sueldo = float(input(\"Sueldo: \"))\n",
        "\n",
        "objDp = deducciones(sueldo, porcentajeIsssP, porcentajeAfpP, tablaIsr)\n",
        "objDe = deducciones(sueldo, porcentajeIsssE, porcentajeAfpE, tablaIsr)\n",
        "\n",
        "print(\"ISSS - Personas: \", round(objDp.calcularIsss(),2), \"ISSS - Empresa:\", round(objDe.calcularIsss(),2))\n",
        "print(\"AFP - Personas: \", round(objDp.calcularAfp(),2), \"AFP - Empresa: \", round(objDe.calcularAfp(), 2))\n",
        "print(\"Isr - Personas: \", round(objDp.calcularIsr(),2) )"
      ],
      "metadata": {
        "id": "iERpFelYDtsu",
        "colab": {
          "base_uri": "https://localhost:8080/"
        },
        "outputId": "bcb91b02-5cbd-4d7e-81c7-20b70abab68e"
      },
      "execution_count": null,
      "outputs": [
        {
          "output_type": "stream",
          "name": "stdout",
          "text": [
            "Sueldo: 511.23\n",
            "ISSS - Personas:  15.34 ISSS - Empresa: 38.34\n",
            "AFP - Personas:  31.95 AFP - Empresa:  39.62\n",
            "Isr - Personas:  0.0\n"
          ]
        }
      ]
    },
    {
      "cell_type": "code",
      "source": [
        "!pip install pandas"
      ],
      "metadata": {
        "colab": {
          "base_uri": "https://localhost:8080/"
        },
        "id": "DrnG9O6B-_yJ",
        "outputId": "729c1bf1-3f17-4f2a-c96f-6cfc7b581bbd"
      },
      "execution_count": null,
      "outputs": [
        {
          "output_type": "stream",
          "name": "stdout",
          "text": [
            "Looking in indexes: https://pypi.org/simple, https://us-python.pkg.dev/colab-wheels/public/simple/\n",
            "Requirement already satisfied: pandas in /usr/local/lib/python3.7/dist-packages (1.3.5)\n",
            "Requirement already satisfied: python-dateutil>=2.7.3 in /usr/local/lib/python3.7/dist-packages (from pandas) (2.8.2)\n",
            "Requirement already satisfied: numpy>=1.17.3 in /usr/local/lib/python3.7/dist-packages (from pandas) (1.21.6)\n",
            "Requirement already satisfied: pytz>=2017.3 in /usr/local/lib/python3.7/dist-packages (from pandas) (2022.2.1)\n",
            "Requirement already satisfied: six>=1.5 in /usr/local/lib/python3.7/dist-packages (from python-dateutil>=2.7.3->pandas) (1.15.0)\n"
          ]
        }
      ]
    },
    {
      "cell_type": "code",
      "source": [
        "!pip --version\n",
        "!pip -V"
      ],
      "metadata": {
        "colab": {
          "base_uri": "https://localhost:8080/"
        },
        "id": "tK0T2oV0CD1R",
        "outputId": "221a224e-8fd6-4b62-bc45-072eb0792c5b"
      },
      "execution_count": null,
      "outputs": [
        {
          "output_type": "stream",
          "name": "stdout",
          "text": [
            "pip 21.1.3 from /usr/local/lib/python3.7/dist-packages/pip (python 3.7)\n",
            "pip 21.1.3 from /usr/local/lib/python3.7/dist-packages/pip (python 3.7)\n"
          ]
        }
      ]
    },
    {
      "cell_type": "code",
      "source": [
        "# Practica - Miercoles/14/Sep/2022"
      ],
      "metadata": {
        "id": "PCAm6h7T5sdc"
      },
      "execution_count": null,
      "outputs": []
    },
    {
      "cell_type": "code",
      "source": [
        "lenguajes = [\"VB\",\"C#\",\"JAVA\",\"XML\",\"PYTHON\",\"PHP\",\"HTML\",\"JS\",\"CSS\"]\n",
        "#print(len(lenguajes), lenguajes.count(\"VB\") )\n",
        "print(lenguajes[2])\n",
        "for lenguaje in lenguajes:\n",
        "  print( lenguaje)\n"
      ],
      "metadata": {
        "colab": {
          "base_uri": "https://localhost:8080/"
        },
        "id": "Dau6MJ9n5sbp",
        "outputId": "5d65baa9-823e-45de-ea00-588c0f9ee82a"
      },
      "execution_count": null,
      "outputs": [
        {
          "output_type": "stream",
          "name": "stdout",
          "text": [
            "JAVA\n",
            "VB\n",
            "C#\n",
            "JAVA\n",
            "XML\n",
            "PYTHON\n",
            "PHP\n",
            "HTML\n",
            "JS\n",
            "CSS\n"
          ]
        }
      ]
    },
    {
      "cell_type": "code",
      "source": [
        "lenguajes ={\n",
        "  0:\"VB\",\n",
        "  1:\"C#\",\n",
        "  2:\"JAVA\",\n",
        "  3:\"XML\",\n",
        "  4:\"PYTHON\",\n",
        "  5:\"JS\",\n",
        "  6:\"HTML\",\n",
        "  7:\"CSS\",\n",
        "  8:\"PHP\",\n",
        "         \n",
        "};\n",
        "pdLenguajes = pd.Series(lenguajes);\n",
        "print( lenguajes, dict(pdLenguajes) );\n",
        "\n",
        "pdLeng = pd.Series([\"VB\", \"CH\", \"JAVA\",\"XML\", \"PYTHON\"], index=[1,2,3,4,5])\n",
        "print( dict(pdLeng), pdLeng[1] )"
      ],
      "metadata": {
        "colab": {
          "base_uri": "https://localhost:8080/"
        },
        "id": "4LGTBXWXGln-",
        "outputId": "bfecfe5f-7b97-4cd8-aec5-1b58ed2fa8f6"
      },
      "execution_count": null,
      "outputs": [
        {
          "output_type": "stream",
          "name": "stdout",
          "text": [
            "{0: 'VB', 1: 'C#', 2: 'JAVA', 3: 'XML', 4: 'PYTHON', 5: 'JS', 6: 'HTML', 7: 'CSS', 8: 'PHP'} {0: 'VB', 1: 'C#', 2: 'JAVA', 3: 'XML', 4: 'PYTHON', 5: 'JS', 6: 'HTML', 7: 'CSS', 8: 'PHP'}\n",
            "{1: 'VB', 2: 'CH', 3: 'JAVA', 4: 'XML', 5: 'PYTHON'} VB\n"
          ]
        }
      ]
    },
    {
      "cell_type": "code",
      "source": [
        "lenguajes = {\n",
        "    \"Fundamentos\":\"VB\",\n",
        "    \"Programacion_I\" : \"C#\",\n",
        "    \"Programacion_II\" : [\"JAVA\", \"XML\"],\n",
        "    \"Programacion_III\" : [\"PYTHON\", \"HTML\", \"JS\", \"CSS\"],\n",
        "    \"Programacion_IV\" : [\"PHP\", \"HTML\", \"JS\", \"CSS\"],\n",
        "\n",
        "}\n",
        "\n",
        "#print( Len(lenguajes[\"Programacion_III\"]))\n",
        "\n",
        "for key in lenguajes:\n",
        "  print(lenguajes[key], type(lenguajes[key]))"
      ],
      "metadata": {
        "colab": {
          "base_uri": "https://localhost:8080/"
        },
        "id": "CIPayLPh-VJT",
        "outputId": "f0f69daf-d546-460d-80b7-8dcf4eb983e6"
      },
      "execution_count": null,
      "outputs": [
        {
          "output_type": "stream",
          "name": "stdout",
          "text": [
            "VB <class 'str'>\n",
            "C# <class 'str'>\n",
            "['JAVA', 'XML'] <class 'list'>\n",
            "['PYTHON', 'HTML', 'JS', 'CSS'] <class 'list'>\n",
            "['PHP', 'HTML', 'JS', 'CSS'] <class 'list'>\n"
          ]
        }
      ]
    },
    {
      "cell_type": "code",
      "source": [
        "#Libreria pandas \n",
        "import pandas as pd"
      ],
      "metadata": {
        "id": "p1mWhSNb-VHK"
      },
      "execution_count": null,
      "outputs": []
    },
    {
      "cell_type": "code",
      "source": [
        "lenguajes = pd.Series(\n",
        "    [\"VB\",\"C#\",\"JAVA\",\"XML\",\"PYTHON\",\"PHP\",\"HTML\",\"JS\",\"CSS\"],\n",
        "    index = [5,1, 2, 2, 3, 4, 4, 4, 4]\n",
        ")\n",
        "print(lenguajes[4])"
      ],
      "metadata": {
        "colab": {
          "base_uri": "https://localhost:8080/"
        },
        "id": "3vjYKZ0jENaJ",
        "outputId": "fa887483-2eda-4e22-9726-5218dc8a9c75"
      },
      "execution_count": null,
      "outputs": [
        {
          "output_type": "stream",
          "name": "stdout",
          "text": [
            "4     PHP\n",
            "4    HTML\n",
            "4      JS\n",
            "4     CSS\n",
            "dtype: object\n"
          ]
        }
      ]
    },
    {
      "cell_type": "code",
      "source": [
        "lenguajes = {\n",
        "    \"Fundamentos\":\"VB\",\n",
        "    1:\"C#\",\n",
        "    2:\"JAVA\"\n",
        "}\n",
        "pdLenguajes = pd.Series(lenguajes)\n",
        "print(pdLenguajes[\"Fundamentos\"])"
      ],
      "metadata": {
        "colab": {
          "base_uri": "https://localhost:8080/"
        },
        "id": "RKA-EQm6Elez",
        "outputId": "adbe7a35-e350-4184-9d68-299b3b175aca"
      },
      "execution_count": null,
      "outputs": [
        {
          "output_type": "stream",
          "name": "stdout",
          "text": [
            "VB\n"
          ]
        }
      ]
    },
    {
      "cell_type": "code",
      "source": [
        "import pandas as pd"
      ],
      "metadata": {
        "id": "qKkUzoRaTm3r"
      },
      "execution_count": null,
      "outputs": []
    },
    {
      "cell_type": "code",
      "source": [
        "#Jacqueline Vanessa Rivas Araujo\n",
        "\n",
        "notas = pd.read_csv(\"/content/notas.csv\", sep=\";\", encoding=\"utf-8\")\n",
        "print(notas)\n"
      ],
      "metadata": {
        "colab": {
          "base_uri": "https://localhost:8080/",
          "height": 380
        },
        "id": "JUBRPMYCG9y9",
        "outputId": "8864e606-bb37-4808-bd59-33b0cbb0fa0c"
      },
      "execution_count": null,
      "outputs": [
        {
          "output_type": "error",
          "ename": "FileNotFoundError",
          "evalue": "ignored",
          "traceback": [
            "\u001b[0;31m---------------------------------------------------------------------------\u001b[0m",
            "\u001b[0;31mFileNotFoundError\u001b[0m                         Traceback (most recent call last)",
            "\u001b[0;32m<ipython-input-54-82708794fa1a>\u001b[0m in \u001b[0;36m<module>\u001b[0;34m\u001b[0m\n\u001b[1;32m      1\u001b[0m \u001b[0;31m#Jacqueline Vanessa Rivas Araujo\u001b[0m\u001b[0;34m\u001b[0m\u001b[0;34m\u001b[0m\u001b[0;34m\u001b[0m\u001b[0m\n\u001b[1;32m      2\u001b[0m \u001b[0;34m\u001b[0m\u001b[0m\n\u001b[0;32m----> 3\u001b[0;31m \u001b[0mnotas\u001b[0m \u001b[0;34m=\u001b[0m \u001b[0mpd\u001b[0m\u001b[0;34m.\u001b[0m\u001b[0mread_csv\u001b[0m\u001b[0;34m(\u001b[0m\u001b[0;34m\"/content/notas.csv\"\u001b[0m\u001b[0;34m,\u001b[0m \u001b[0msep\u001b[0m\u001b[0;34m=\u001b[0m\u001b[0;34m\";\"\u001b[0m\u001b[0;34m,\u001b[0m \u001b[0mencoding\u001b[0m\u001b[0;34m=\u001b[0m\u001b[0;34m\"utf-8\"\u001b[0m\u001b[0;34m)\u001b[0m\u001b[0;34m\u001b[0m\u001b[0;34m\u001b[0m\u001b[0m\n\u001b[0m\u001b[1;32m      4\u001b[0m \u001b[0mprint\u001b[0m\u001b[0;34m(\u001b[0m\u001b[0mnotas\u001b[0m\u001b[0;34m)\u001b[0m\u001b[0;34m\u001b[0m\u001b[0;34m\u001b[0m\u001b[0m\n\u001b[1;32m      5\u001b[0m \u001b[0mprint\u001b[0m \u001b[0;34m(\u001b[0m\u001b[0mnotas\u001b[0m\u001b[0;34m[\u001b[0m\u001b[0;34m\"alumnos\"\u001b[0m\u001b[0;34m]\u001b[0m\u001b[0;34m)\u001b[0m\u001b[0;34m\u001b[0m\u001b[0;34m\u001b[0m\u001b[0m\n",
            "\u001b[0;32m/usr/local/lib/python3.7/dist-packages/pandas/util/_decorators.py\u001b[0m in \u001b[0;36mwrapper\u001b[0;34m(*args, **kwargs)\u001b[0m\n\u001b[1;32m    309\u001b[0m                     \u001b[0mstacklevel\u001b[0m\u001b[0;34m=\u001b[0m\u001b[0mstacklevel\u001b[0m\u001b[0;34m,\u001b[0m\u001b[0;34m\u001b[0m\u001b[0;34m\u001b[0m\u001b[0m\n\u001b[1;32m    310\u001b[0m                 )\n\u001b[0;32m--> 311\u001b[0;31m             \u001b[0;32mreturn\u001b[0m \u001b[0mfunc\u001b[0m\u001b[0;34m(\u001b[0m\u001b[0;34m*\u001b[0m\u001b[0margs\u001b[0m\u001b[0;34m,\u001b[0m \u001b[0;34m**\u001b[0m\u001b[0mkwargs\u001b[0m\u001b[0;34m)\u001b[0m\u001b[0;34m\u001b[0m\u001b[0;34m\u001b[0m\u001b[0m\n\u001b[0m\u001b[1;32m    312\u001b[0m \u001b[0;34m\u001b[0m\u001b[0m\n\u001b[1;32m    313\u001b[0m         \u001b[0;32mreturn\u001b[0m \u001b[0mwrapper\u001b[0m\u001b[0;34m\u001b[0m\u001b[0;34m\u001b[0m\u001b[0m\n",
            "\u001b[0;32m/usr/local/lib/python3.7/dist-packages/pandas/io/parsers/readers.py\u001b[0m in \u001b[0;36mread_csv\u001b[0;34m(filepath_or_buffer, sep, delimiter, header, names, index_col, usecols, squeeze, prefix, mangle_dupe_cols, dtype, engine, converters, true_values, false_values, skipinitialspace, skiprows, skipfooter, nrows, na_values, keep_default_na, na_filter, verbose, skip_blank_lines, parse_dates, infer_datetime_format, keep_date_col, date_parser, dayfirst, cache_dates, iterator, chunksize, compression, thousands, decimal, lineterminator, quotechar, quoting, doublequote, escapechar, comment, encoding, encoding_errors, dialect, error_bad_lines, warn_bad_lines, on_bad_lines, delim_whitespace, low_memory, memory_map, float_precision, storage_options)\u001b[0m\n\u001b[1;32m    584\u001b[0m     \u001b[0mkwds\u001b[0m\u001b[0;34m.\u001b[0m\u001b[0mupdate\u001b[0m\u001b[0;34m(\u001b[0m\u001b[0mkwds_defaults\u001b[0m\u001b[0;34m)\u001b[0m\u001b[0;34m\u001b[0m\u001b[0;34m\u001b[0m\u001b[0m\n\u001b[1;32m    585\u001b[0m \u001b[0;34m\u001b[0m\u001b[0m\n\u001b[0;32m--> 586\u001b[0;31m     \u001b[0;32mreturn\u001b[0m \u001b[0m_read\u001b[0m\u001b[0;34m(\u001b[0m\u001b[0mfilepath_or_buffer\u001b[0m\u001b[0;34m,\u001b[0m \u001b[0mkwds\u001b[0m\u001b[0;34m)\u001b[0m\u001b[0;34m\u001b[0m\u001b[0;34m\u001b[0m\u001b[0m\n\u001b[0m\u001b[1;32m    587\u001b[0m \u001b[0;34m\u001b[0m\u001b[0m\n\u001b[1;32m    588\u001b[0m \u001b[0;34m\u001b[0m\u001b[0m\n",
            "\u001b[0;32m/usr/local/lib/python3.7/dist-packages/pandas/io/parsers/readers.py\u001b[0m in \u001b[0;36m_read\u001b[0;34m(filepath_or_buffer, kwds)\u001b[0m\n\u001b[1;32m    480\u001b[0m \u001b[0;34m\u001b[0m\u001b[0m\n\u001b[1;32m    481\u001b[0m     \u001b[0;31m# Create the parser.\u001b[0m\u001b[0;34m\u001b[0m\u001b[0;34m\u001b[0m\u001b[0;34m\u001b[0m\u001b[0m\n\u001b[0;32m--> 482\u001b[0;31m     \u001b[0mparser\u001b[0m \u001b[0;34m=\u001b[0m \u001b[0mTextFileReader\u001b[0m\u001b[0;34m(\u001b[0m\u001b[0mfilepath_or_buffer\u001b[0m\u001b[0;34m,\u001b[0m \u001b[0;34m**\u001b[0m\u001b[0mkwds\u001b[0m\u001b[0;34m)\u001b[0m\u001b[0;34m\u001b[0m\u001b[0;34m\u001b[0m\u001b[0m\n\u001b[0m\u001b[1;32m    483\u001b[0m \u001b[0;34m\u001b[0m\u001b[0m\n\u001b[1;32m    484\u001b[0m     \u001b[0;32mif\u001b[0m \u001b[0mchunksize\u001b[0m \u001b[0;32mor\u001b[0m \u001b[0miterator\u001b[0m\u001b[0;34m:\u001b[0m\u001b[0;34m\u001b[0m\u001b[0;34m\u001b[0m\u001b[0m\n",
            "\u001b[0;32m/usr/local/lib/python3.7/dist-packages/pandas/io/parsers/readers.py\u001b[0m in \u001b[0;36m__init__\u001b[0;34m(self, f, engine, **kwds)\u001b[0m\n\u001b[1;32m    809\u001b[0m             \u001b[0mself\u001b[0m\u001b[0;34m.\u001b[0m\u001b[0moptions\u001b[0m\u001b[0;34m[\u001b[0m\u001b[0;34m\"has_index_names\"\u001b[0m\u001b[0;34m]\u001b[0m \u001b[0;34m=\u001b[0m \u001b[0mkwds\u001b[0m\u001b[0;34m[\u001b[0m\u001b[0;34m\"has_index_names\"\u001b[0m\u001b[0;34m]\u001b[0m\u001b[0;34m\u001b[0m\u001b[0;34m\u001b[0m\u001b[0m\n\u001b[1;32m    810\u001b[0m \u001b[0;34m\u001b[0m\u001b[0m\n\u001b[0;32m--> 811\u001b[0;31m         \u001b[0mself\u001b[0m\u001b[0;34m.\u001b[0m\u001b[0m_engine\u001b[0m \u001b[0;34m=\u001b[0m \u001b[0mself\u001b[0m\u001b[0;34m.\u001b[0m\u001b[0m_make_engine\u001b[0m\u001b[0;34m(\u001b[0m\u001b[0mself\u001b[0m\u001b[0;34m.\u001b[0m\u001b[0mengine\u001b[0m\u001b[0;34m)\u001b[0m\u001b[0;34m\u001b[0m\u001b[0;34m\u001b[0m\u001b[0m\n\u001b[0m\u001b[1;32m    812\u001b[0m \u001b[0;34m\u001b[0m\u001b[0m\n\u001b[1;32m    813\u001b[0m     \u001b[0;32mdef\u001b[0m \u001b[0mclose\u001b[0m\u001b[0;34m(\u001b[0m\u001b[0mself\u001b[0m\u001b[0;34m)\u001b[0m\u001b[0;34m:\u001b[0m\u001b[0;34m\u001b[0m\u001b[0;34m\u001b[0m\u001b[0m\n",
            "\u001b[0;32m/usr/local/lib/python3.7/dist-packages/pandas/io/parsers/readers.py\u001b[0m in \u001b[0;36m_make_engine\u001b[0;34m(self, engine)\u001b[0m\n\u001b[1;32m   1038\u001b[0m             )\n\u001b[1;32m   1039\u001b[0m         \u001b[0;31m# error: Too many arguments for \"ParserBase\"\u001b[0m\u001b[0;34m\u001b[0m\u001b[0;34m\u001b[0m\u001b[0;34m\u001b[0m\u001b[0m\n\u001b[0;32m-> 1040\u001b[0;31m         \u001b[0;32mreturn\u001b[0m \u001b[0mmapping\u001b[0m\u001b[0;34m[\u001b[0m\u001b[0mengine\u001b[0m\u001b[0;34m]\u001b[0m\u001b[0;34m(\u001b[0m\u001b[0mself\u001b[0m\u001b[0;34m.\u001b[0m\u001b[0mf\u001b[0m\u001b[0;34m,\u001b[0m \u001b[0;34m**\u001b[0m\u001b[0mself\u001b[0m\u001b[0;34m.\u001b[0m\u001b[0moptions\u001b[0m\u001b[0;34m)\u001b[0m  \u001b[0;31m# type: ignore[call-arg]\u001b[0m\u001b[0;34m\u001b[0m\u001b[0;34m\u001b[0m\u001b[0m\n\u001b[0m\u001b[1;32m   1041\u001b[0m \u001b[0;34m\u001b[0m\u001b[0m\n\u001b[1;32m   1042\u001b[0m     \u001b[0;32mdef\u001b[0m \u001b[0m_failover_to_python\u001b[0m\u001b[0;34m(\u001b[0m\u001b[0mself\u001b[0m\u001b[0;34m)\u001b[0m\u001b[0;34m:\u001b[0m\u001b[0;34m\u001b[0m\u001b[0;34m\u001b[0m\u001b[0m\n",
            "\u001b[0;32m/usr/local/lib/python3.7/dist-packages/pandas/io/parsers/c_parser_wrapper.py\u001b[0m in \u001b[0;36m__init__\u001b[0;34m(self, src, **kwds)\u001b[0m\n\u001b[1;32m     49\u001b[0m \u001b[0;34m\u001b[0m\u001b[0m\n\u001b[1;32m     50\u001b[0m         \u001b[0;31m# open handles\u001b[0m\u001b[0;34m\u001b[0m\u001b[0;34m\u001b[0m\u001b[0;34m\u001b[0m\u001b[0m\n\u001b[0;32m---> 51\u001b[0;31m         \u001b[0mself\u001b[0m\u001b[0;34m.\u001b[0m\u001b[0m_open_handles\u001b[0m\u001b[0;34m(\u001b[0m\u001b[0msrc\u001b[0m\u001b[0;34m,\u001b[0m \u001b[0mkwds\u001b[0m\u001b[0;34m)\u001b[0m\u001b[0;34m\u001b[0m\u001b[0;34m\u001b[0m\u001b[0m\n\u001b[0m\u001b[1;32m     52\u001b[0m         \u001b[0;32massert\u001b[0m \u001b[0mself\u001b[0m\u001b[0;34m.\u001b[0m\u001b[0mhandles\u001b[0m \u001b[0;32mis\u001b[0m \u001b[0;32mnot\u001b[0m \u001b[0;32mNone\u001b[0m\u001b[0;34m\u001b[0m\u001b[0;34m\u001b[0m\u001b[0m\n\u001b[1;32m     53\u001b[0m \u001b[0;34m\u001b[0m\u001b[0m\n",
            "\u001b[0;32m/usr/local/lib/python3.7/dist-packages/pandas/io/parsers/base_parser.py\u001b[0m in \u001b[0;36m_open_handles\u001b[0;34m(self, src, kwds)\u001b[0m\n\u001b[1;32m    227\u001b[0m             \u001b[0mmemory_map\u001b[0m\u001b[0;34m=\u001b[0m\u001b[0mkwds\u001b[0m\u001b[0;34m.\u001b[0m\u001b[0mget\u001b[0m\u001b[0;34m(\u001b[0m\u001b[0;34m\"memory_map\"\u001b[0m\u001b[0;34m,\u001b[0m \u001b[0;32mFalse\u001b[0m\u001b[0;34m)\u001b[0m\u001b[0;34m,\u001b[0m\u001b[0;34m\u001b[0m\u001b[0;34m\u001b[0m\u001b[0m\n\u001b[1;32m    228\u001b[0m             \u001b[0mstorage_options\u001b[0m\u001b[0;34m=\u001b[0m\u001b[0mkwds\u001b[0m\u001b[0;34m.\u001b[0m\u001b[0mget\u001b[0m\u001b[0;34m(\u001b[0m\u001b[0;34m\"storage_options\"\u001b[0m\u001b[0;34m,\u001b[0m \u001b[0;32mNone\u001b[0m\u001b[0;34m)\u001b[0m\u001b[0;34m,\u001b[0m\u001b[0;34m\u001b[0m\u001b[0;34m\u001b[0m\u001b[0m\n\u001b[0;32m--> 229\u001b[0;31m             \u001b[0merrors\u001b[0m\u001b[0;34m=\u001b[0m\u001b[0mkwds\u001b[0m\u001b[0;34m.\u001b[0m\u001b[0mget\u001b[0m\u001b[0;34m(\u001b[0m\u001b[0;34m\"encoding_errors\"\u001b[0m\u001b[0;34m,\u001b[0m \u001b[0;34m\"strict\"\u001b[0m\u001b[0;34m)\u001b[0m\u001b[0;34m,\u001b[0m\u001b[0;34m\u001b[0m\u001b[0;34m\u001b[0m\u001b[0m\n\u001b[0m\u001b[1;32m    230\u001b[0m         )\n\u001b[1;32m    231\u001b[0m \u001b[0;34m\u001b[0m\u001b[0m\n",
            "\u001b[0;32m/usr/local/lib/python3.7/dist-packages/pandas/io/common.py\u001b[0m in \u001b[0;36mget_handle\u001b[0;34m(path_or_buf, mode, encoding, compression, memory_map, is_text, errors, storage_options)\u001b[0m\n\u001b[1;32m    705\u001b[0m                 \u001b[0mencoding\u001b[0m\u001b[0;34m=\u001b[0m\u001b[0mioargs\u001b[0m\u001b[0;34m.\u001b[0m\u001b[0mencoding\u001b[0m\u001b[0;34m,\u001b[0m\u001b[0;34m\u001b[0m\u001b[0;34m\u001b[0m\u001b[0m\n\u001b[1;32m    706\u001b[0m                 \u001b[0merrors\u001b[0m\u001b[0;34m=\u001b[0m\u001b[0merrors\u001b[0m\u001b[0;34m,\u001b[0m\u001b[0;34m\u001b[0m\u001b[0;34m\u001b[0m\u001b[0m\n\u001b[0;32m--> 707\u001b[0;31m                 \u001b[0mnewline\u001b[0m\u001b[0;34m=\u001b[0m\u001b[0;34m\"\"\u001b[0m\u001b[0;34m,\u001b[0m\u001b[0;34m\u001b[0m\u001b[0;34m\u001b[0m\u001b[0m\n\u001b[0m\u001b[1;32m    708\u001b[0m             )\n\u001b[1;32m    709\u001b[0m         \u001b[0;32melse\u001b[0m\u001b[0;34m:\u001b[0m\u001b[0;34m\u001b[0m\u001b[0;34m\u001b[0m\u001b[0m\n",
            "\u001b[0;31mFileNotFoundError\u001b[0m: [Errno 2] No such file or directory: '/content/notas.csv'"
          ]
        }
      ]
    },
    {
      "cell_type": "code",
      "source": [
        "#Alumnos con una nota"
      ],
      "metadata": {
        "id": "Dgs8kH7LPz3z"
      },
      "execution_count": null,
      "outputs": []
    },
    {
      "cell_type": "code",
      "source": [
        "# Alumnos con una nota\n",
        "aprobados = pd.crosstab(index=notas[\"notas\"], columns=\"frecuencia\")\n",
        "print(aprobados)"
      ],
      "metadata": {
        "colab": {
          "base_uri": "https://localhost:8080/",
          "height": 200
        },
        "id": "9pBszAEZP7Mo",
        "outputId": "8482be02-c83f-4aef-dff8-b59274473af3"
      },
      "execution_count": null,
      "outputs": [
        {
          "output_type": "error",
          "ename": "NameError",
          "evalue": "ignored",
          "traceback": [
            "\u001b[0;31m---------------------------------------------------------------------------\u001b[0m",
            "\u001b[0;31mNameError\u001b[0m                                 Traceback (most recent call last)",
            "\u001b[0;32m<ipython-input-55-1d590fd0c645>\u001b[0m in \u001b[0;36m<module>\u001b[0;34m\u001b[0m\n\u001b[1;32m      1\u001b[0m \u001b[0;31m# Alumnos con una nota\u001b[0m\u001b[0;34m\u001b[0m\u001b[0;34m\u001b[0m\u001b[0;34m\u001b[0m\u001b[0m\n\u001b[0;32m----> 2\u001b[0;31m \u001b[0maprobados\u001b[0m \u001b[0;34m=\u001b[0m \u001b[0mpd\u001b[0m\u001b[0;34m.\u001b[0m\u001b[0mcrosstab\u001b[0m\u001b[0;34m(\u001b[0m\u001b[0mindex\u001b[0m\u001b[0;34m=\u001b[0m\u001b[0mnotas\u001b[0m\u001b[0;34m[\u001b[0m\u001b[0;34m\"notas\"\u001b[0m\u001b[0;34m]\u001b[0m\u001b[0;34m,\u001b[0m \u001b[0mcolumns\u001b[0m\u001b[0;34m=\u001b[0m\u001b[0;34m\"frecuencia\"\u001b[0m\u001b[0;34m)\u001b[0m\u001b[0;34m\u001b[0m\u001b[0;34m\u001b[0m\u001b[0m\n\u001b[0m\u001b[1;32m      3\u001b[0m \u001b[0mprint\u001b[0m\u001b[0;34m(\u001b[0m\u001b[0maprobados\u001b[0m\u001b[0;34m)\u001b[0m\u001b[0;34m\u001b[0m\u001b[0;34m\u001b[0m\u001b[0m\n",
            "\u001b[0;31mNameError\u001b[0m: name 'notas' is not defined"
          ]
        }
      ]
    },
    {
      "cell_type": "code",
      "source": [
        "# Obtener estudiantes mas sobresalientes\n",
        "print(\"**Estudiantes mas sobresalientes**\")\n",
        "sobreSal = aprobados.loc[aprobados.index>9][\"frecuencia\"]\n",
        "print(sobreSal)"
      ],
      "metadata": {
        "colab": {
          "base_uri": "https://localhost:8080/",
          "height": 235
        },
        "id": "afc_Zf7KRCX6",
        "outputId": "665520a5-efba-400e-e454-795665496875"
      },
      "execution_count": null,
      "outputs": [
        {
          "output_type": "stream",
          "name": "stdout",
          "text": [
            "**Estudiantes mas sobresalientes**\n"
          ]
        },
        {
          "output_type": "error",
          "ename": "NameError",
          "evalue": "ignored",
          "traceback": [
            "\u001b[0;31m---------------------------------------------------------------------------\u001b[0m",
            "\u001b[0;31mNameError\u001b[0m                                 Traceback (most recent call last)",
            "\u001b[0;32m<ipython-input-56-37e6368c9058>\u001b[0m in \u001b[0;36m<module>\u001b[0;34m\u001b[0m\n\u001b[1;32m      1\u001b[0m \u001b[0;31m# Obtener estudiantes mas sobresalientes\u001b[0m\u001b[0;34m\u001b[0m\u001b[0;34m\u001b[0m\u001b[0;34m\u001b[0m\u001b[0m\n\u001b[1;32m      2\u001b[0m \u001b[0mprint\u001b[0m\u001b[0;34m(\u001b[0m\u001b[0;34m\"**Estudiantes mas sobresalientes**\"\u001b[0m\u001b[0;34m)\u001b[0m\u001b[0;34m\u001b[0m\u001b[0;34m\u001b[0m\u001b[0m\n\u001b[0;32m----> 3\u001b[0;31m \u001b[0msobreSal\u001b[0m \u001b[0;34m=\u001b[0m \u001b[0maprobados\u001b[0m\u001b[0;34m.\u001b[0m\u001b[0mloc\u001b[0m\u001b[0;34m[\u001b[0m\u001b[0maprobados\u001b[0m\u001b[0;34m.\u001b[0m\u001b[0mindex\u001b[0m\u001b[0;34m>\u001b[0m\u001b[0;36m9\u001b[0m\u001b[0;34m]\u001b[0m\u001b[0;34m[\u001b[0m\u001b[0;34m\"frecuencia\"\u001b[0m\u001b[0;34m]\u001b[0m\u001b[0;34m\u001b[0m\u001b[0;34m\u001b[0m\u001b[0m\n\u001b[0m\u001b[1;32m      4\u001b[0m \u001b[0mprint\u001b[0m\u001b[0;34m(\u001b[0m\u001b[0msobreSal\u001b[0m\u001b[0;34m)\u001b[0m\u001b[0;34m\u001b[0m\u001b[0;34m\u001b[0m\u001b[0m\n",
            "\u001b[0;31mNameError\u001b[0m: name 'aprobados' is not defined"
          ]
        }
      ]
    },
    {
      "cell_type": "code",
      "source": [
        "print(\"\\N**Estudiantes mas sobresalientes**\")\n",
        "sobresalientes = notas.loc[notas[\"notas\"]>=9]\n",
        "print(sobresalientes)"
      ],
      "metadata": {
        "colab": {
          "base_uri": "https://localhost:8080/",
          "height": 131
        },
        "id": "ayByOxOWRuoP",
        "outputId": "ad873ebe-1a2d-4cb4-b117-e6c6e5f00fd5"
      },
      "execution_count": null,
      "outputs": [
        {
          "output_type": "error",
          "ename": "SyntaxError",
          "evalue": "ignored",
          "traceback": [
            "\u001b[0;36m  File \u001b[0;32m\"<ipython-input-57-112831b5a4b0>\"\u001b[0;36m, line \u001b[0;32m1\u001b[0m\n\u001b[0;31m    print(\"\\N**Estudiantes mas sobresalientes**\")\u001b[0m\n\u001b[0m         ^\u001b[0m\n\u001b[0;31mSyntaxError\u001b[0m\u001b[0;31m:\u001b[0m (unicode error) 'unicodeescape' codec can't decode bytes in position 0-1: malformed \\N character escape\n"
          ]
        }
      ]
    },
    {
      "cell_type": "code",
      "source": [
        "estudiantesAprobados = notas.loc[notas[\"notas\"]>=6]\n",
        "print(\"\\N**Estudiantes Aprobados**\")\n",
        "print(estudiantesAprobados)"
      ],
      "metadata": {
        "colab": {
          "base_uri": "https://localhost:8080/",
          "height": 131
        },
        "id": "eeOHudrPSgwF",
        "outputId": "213b8ebd-c60b-42bc-98f2-d4a257691747"
      },
      "execution_count": null,
      "outputs": [
        {
          "output_type": "error",
          "ename": "SyntaxError",
          "evalue": "ignored",
          "traceback": [
            "\u001b[0;36m  File \u001b[0;32m\"<ipython-input-48-ccae75b6c35c>\"\u001b[0;36m, line \u001b[0;32m2\u001b[0m\n\u001b[0;31m    print(\"\\N**Estudiantes Aprobados**\")\u001b[0m\n\u001b[0m         ^\u001b[0m\n\u001b[0;31mSyntaxError\u001b[0m\u001b[0;31m:\u001b[0m (unicode error) 'unicodeescape' codec can't decode bytes in position 0-1: malformed \\N character escape\n"
          ]
        }
      ]
    },
    {
      "cell_type": "code",
      "source": [
        "print(\"\\N**Estudiantes Reprobados**\")\n",
        "estudiantesReprobados = notas.loc[notas[\"notas\"]<6]\n",
        "print(estudiantesReprobados)"
      ],
      "metadata": {
        "colab": {
          "base_uri": "https://localhost:8080/",
          "height": 131
        },
        "id": "hx9NYNd9P7Kl",
        "outputId": "b7b2c931-e0ee-4e5f-9720-917fb9630fda"
      },
      "execution_count": null,
      "outputs": [
        {
          "output_type": "error",
          "ename": "SyntaxError",
          "evalue": "ignored",
          "traceback": [
            "\u001b[0;36m  File \u001b[0;32m\"<ipython-input-47-d3055b98da70>\"\u001b[0;36m, line \u001b[0;32m1\u001b[0m\n\u001b[0;31m    print(\"\\N**Estudiantes Reprobados**\")\u001b[0m\n\u001b[0m         ^\u001b[0m\n\u001b[0;31mSyntaxError\u001b[0m\u001b[0;31m:\u001b[0m (unicode error) 'unicodeescape' codec can't decode bytes in position 0-1: malformed \\N character escape\n"
          ]
        }
      ]
    },
    {
      "cell_type": "code",
      "source": [
        "# Clase del dia Miercoles/21/Sep/2022"
      ],
      "metadata": {
        "id": "U1ITAY8WtlEA"
      },
      "execution_count": null,
      "outputs": []
    },
    {
      "cell_type": "code",
      "source": [
        "import pandas as pd\n",
        "import matplotlib.pyplot as plt\n"
      ],
      "metadata": {
        "id": "b11b3Wp5tlCm"
      },
      "execution_count": 3,
      "outputs": []
    },
    {
      "cell_type": "code",
      "source": [
        "Prueba = pd.read_csv(\"/content/Prueba.csv\", sep=\";\")\n",
        "print(Prueba)\n"
      ],
      "metadata": {
        "colab": {
          "base_uri": "https://localhost:8080/"
        },
        "id": "z1nG_aLy690Q",
        "outputId": "768b17d8-e84f-45d5-b242-739cd2d24c73"
      },
      "execution_count": 10,
      "outputs": [
        {
          "output_type": "stream",
          "name": "stdout",
          "text": [
            "                  alumnos  notas\n",
            "0         Julio Alexander   10.0\n",
            "1             Juan Carlos    9.5\n",
            "2            Ana Carolina    9.0\n",
            "3          Nathaly Milena   10.0\n",
            "4         Ana Maria Perez    4.0\n",
            "5      Jose Pedro Ramirez    2.0\n",
            "6             Carlos Ruiz    1.0\n",
            "7         Oscar Hernandez    3.0\n",
            "8  David Antonio Palacios    9.8\n"
          ]
        }
      ]
    },
    {
      "cell_type": "code",
      "source": [
        "sobresalientes = Prueba.loc[Prueba[\"notas\"]>=9]\n",
        "print(sobresalientes)\n",
        "\n",
        "sobresalientes.to_csv(\"/content/sobresalientes.csv\", sep=\";\")"
      ],
      "metadata": {
        "colab": {
          "base_uri": "https://localhost:8080/"
        },
        "id": "MNtZKiJ39GEO",
        "outputId": "efbde958-a4c1-422e-a8ac-0ccdd6b9a608"
      },
      "execution_count": 29,
      "outputs": [
        {
          "output_type": "stream",
          "name": "stdout",
          "text": [
            "                  alumnos  notas\n",
            "0         Julio Alexander   10.0\n",
            "1             Juan Carlos    9.5\n",
            "2            Ana Carolina    9.0\n",
            "3          Nathaly Milena   10.0\n",
            "8  David Antonio Palacios    9.8\n"
          ]
        }
      ]
    },
    {
      "cell_type": "code",
      "source": [
        "reprobados = Prueba.loc[Prueba[\"notas\"]<6]\n",
        "print(reprobados)\n",
        "\n",
        "reprobados.to_csv(\"/content/reprobados.csv\", sep=\";\")"
      ],
      "metadata": {
        "colab": {
          "base_uri": "https://localhost:8080/"
        },
        "id": "mXPtLEAE-Mqs",
        "outputId": "9c3bd834-2e49-4d8e-e471-0de64e1ec236"
      },
      "execution_count": 30,
      "outputs": [
        {
          "output_type": "stream",
          "name": "stdout",
          "text": [
            "              alumnos  notas\n",
            "4     Ana Maria Perez    4.0\n",
            "5  Jose Pedro Ramirez    2.0\n",
            "6         Carlos Ruiz    1.0\n",
            "7     Oscar Hernandez    3.0\n"
          ]
        }
      ]
    },
    {
      "cell_type": "code",
      "source": [
        "count_reprobados = Prueba.loc[Prueba[\"notas\"]<6].agg({\"count\"})"
      ],
      "metadata": {
        "id": "B_bYT_ws_5ek"
      },
      "execution_count": 31,
      "outputs": []
    },
    {
      "cell_type": "code",
      "source": [
        "tabla_sobresalientes = pd.crosstab(index=sobresalientes[\"notas\"], columns=\"Fr\")\n",
        "plt.pie(tabla_sobresalientes, labels=tabla_sobresalientes.index)\n",
        "plt.xlabel(\"Cantidad de Estudiantes con buena nota\")\n",
        "plt.show()\n",
        "\n",
        "sobresalientes.to_csv(\"/content/graficasobresalientes.csv\", sep=\";\")"
      ],
      "metadata": {
        "colab": {
          "base_uri": "https://localhost:8080/",
          "height": 317
        },
        "id": "JIgL4t7L_5c8",
        "outputId": "dd603072-ccf4-4dcb-c774-44423e4d56aa"
      },
      "execution_count": 35,
      "outputs": [
        {
          "output_type": "stream",
          "name": "stderr",
          "text": [
            "/usr/local/lib/python3.7/dist-packages/ipykernel_launcher.py:2: MatplotlibDeprecationWarning: Non-1D inputs to pie() are currently squeeze()d, but this behavior is deprecated since 3.1 and will be removed in 3.3; pass a 1D array instead.\n",
            "  \n"
          ]
        },
        {
          "output_type": "display_data",
          "data": {
            "text/plain": [
              "<Figure size 432x288 with 1 Axes>"
            ],
            "image/png": "[encoded data removed]"
          },
          "metadata": {}
        }
      ]
    },
    {
      "cell_type": "code",
      "source": [
        "tabla_sobresalientes = pd.crosstab(index=sobresalientes[\"notas\"], columns=\"Fr\")\n",
        "plt.bar(sobresalientes[\"alumnos\"], sobresalientes[\"notas\"])\n",
        "plt.xlabel(\"Cantidad de Estudiantes con buena nota\")\n",
        "plt.show()\n",
        "\n",
        "sobresalientes.to_csv(\"/content/graficasobresalientes.csv\", sep=\";\")"
      ],
      "metadata": {
        "colab": {
          "base_uri": "https://localhost:8080/",
          "height": 279
        },
        "id": "SpDqhQSiDD00",
        "outputId": "aa8b921d-f701-4cc9-dacf-bc400b631701"
      },
      "execution_count": 40,
      "outputs": [
        {
          "output_type": "display_data",
          "data": {
            "text/plain": [
              "<Figure size 432x288 with 1 Axes>"
            ],
            "image/png": "[encoded data removed]"
          },
          "metadata": {
            "needs_background": "light"
          }
        }
      ]
    }
  ]
}