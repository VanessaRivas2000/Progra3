{
  "nbformat": 4,
  "nbformat_minor": 0,
  "metadata": {
    "colab": {
      "name": "Copia de Untitled0.ipynb",
      "provenance": [],
      "collapsed_sections": [],
      "authorship_tag": "ABX9TyNipRyVKXOaCCOdkTwVYscJ",
      "include_colab_link": true
    },
    "kernelspec": {
      "name": "python3",
      "display_name": "Python 3"
    },
    "language_info": {
      "name": "python"
    }
  },
  "cells": [
    {
      "cell_type": "markdown",
      "metadata": {
        "id": "view-in-github",
        "colab_type": "text"
      },
      "source": [
        "<a href=\"https://colab.research.google.com/github/VanessaRivas2000/Progra3/blob/main/Practica2.ipynb\" target=\"_parent\"><img src=\"https://colab.research.google.com/assets/colab-badge.svg\" alt=\"Open In Colab\"/></a>"
      ]
    },
    {
      "cell_type": "code",
      "execution_count": null,
      "metadata": {
        "colab": {
          "base_uri": "https://localhost:8080/"
        },
        "id": "CqiBCy0GeQ4m",
        "outputId": "32bc518f-971d-4d34-8252-489d68346153"
      },
      "outputs": [
        {
          "output_type": "stream",
          "name": "stdout",
          "text": [
            "la suma de num1:  5 + num2: 4.6 es igual a: 9.6\n"
          ]
        }
      ],
      "source": [
        "num1 = 5\n",
        "num2 = 4.6\n",
        "resp = num1 + num2\n",
        "print(\"la suma de num1: \", num1, \"+ num2:\", num2, \"es igual a:\",resp)"
      ]
    },
    {
      "cell_type": "code",
      "source": [
        "num3 = 15\n",
        "num4 =7\n",
        "resp = num3 - num4\n",
        "print(\"la resta de num3: \", num3, \"- num4:\", num4, \"es igual a:\",resp)"
      ],
      "metadata": {
        "colab": {
          "base_uri": "https://localhost:8080/"
        },
        "id": "4ZXA00G7kl_v",
        "outputId": "92b5af0b-312b-48fb-b659-9af0717a206c"
      },
      "execution_count": null,
      "outputs": [
        {
          "output_type": "stream",
          "name": "stdout",
          "text": [
            "la resta de num3:  15 - num4: 7 es igual a: 8\n"
          ]
        }
      ]
    },
    {
      "cell_type": "code",
      "source": [
        "num1 = float(input(\"ingrese un numero entero:\"))\n",
        "num2 = float(input(\"ingrese otro Num decimal:\"))\n",
        "resp = num1 + num2\n",
        "print(\"suma\", resp, type(resp))"
      ],
      "metadata": {
        "colab": {
          "base_uri": "https://localhost:8080/"
        },
        "id": "dfmt-E4Ulm-P",
        "outputId": "ce07889f-ff9b-4f47-a82c-e5dbb812a93b"
      },
      "execution_count": null,
      "outputs": [
        {
          "output_type": "stream",
          "name": "stdout",
          "text": [
            "ingrese un numero entero:25\n",
            "ingrese otro Num decimal:5\n",
            "suma 30.0 <class 'float'>\n"
          ]
        }
      ]
    },
    {
      "cell_type": "code",
      "source": [
        "num3 = float(input(\"ingrese un numero entero:\"))\n",
        "num4 = float(input(\"ingrese un numero decimal:\"))\n",
        "resp = num3 * num4\n",
        "print(\"multiplicacion\", resp, type(resp))\n"
      ],
      "metadata": {
        "colab": {
          "base_uri": "https://localhost:8080/"
        },
        "id": "WPCqOvYHn4ou",
        "outputId": "bb602e0f-9cfb-486b-ff6a-56bb23f751aa"
      },
      "execution_count": null,
      "outputs": [
        {
          "output_type": "stream",
          "name": "stdout",
          "text": [
            "ingrese un numero entero:3\n",
            "ingrese un numero decimal:9\n",
            "multiplicacion 27.0 <class 'float'>\n"
          ]
        }
      ]
    },
    {
      "cell_type": "code",
      "source": [
        "nombre = input(\"Dime tu nombre:\")\n",
        "print(nombre, type(nombre), len(nombre))\n",
        "\n",
        "print(nombre[0], nombre[1], nombre[2], nombre[3], nombre[4])\n"
      ],
      "metadata": {
        "colab": {
          "base_uri": "https://localhost:8080/"
        },
        "id": "Ro_0RSdmn4nk",
        "outputId": "774a244e-1e9a-49e9-a773-4c764fcf3e7a"
      },
      "execution_count": null,
      "outputs": [
        {
          "output_type": "stream",
          "name": "stdout",
          "text": [
            "Dime tu nombre:Jacky\n",
            "Jacky <class 'str'> 5\n",
            "J a c k y\n"
          ]
        }
      ]
    },
    {
      "cell_type": "code",
      "source": [
        "resp = 4 - 4 * 6 /2 + 1\n",
        "print(resp)"
      ],
      "metadata": {
        "colab": {
          "base_uri": "https://localhost:8080/"
        },
        "id": "ZOnBRfjos_Fc",
        "outputId": "2cad0cbd-bcd5-4e9b-9632-37d8d93d75e1"
      },
      "execution_count": null,
      "outputs": [
        {
          "output_type": "stream",
          "name": "stdout",
          "text": [
            "-7.0\n"
          ]
        }
      ]
    },
    {
      "cell_type": "code",
      "source": [
        "gustaProgramacion = True #False\n",
        "print(\"Te gusta programar:\", gustaProgramacion)\n",
        "\n",
        "gustaDiseño = False\n",
        "print(\"Te gusta diseñar:\", gustaDiseño)"
      ],
      "metadata": {
        "colab": {
          "base_uri": "https://localhost:8080/"
        },
        "id": "Sww8mnDYuB8t",
        "outputId": "51efc0b0-3afa-47a0-f9f0-6afb1dd4dcaf"
      },
      "execution_count": null,
      "outputs": [
        {
          "output_type": "stream",
          "name": "stdout",
          "text": [
            "Te gusta programar: True\n",
            "Te gusta diseñar: False\n"
          ]
        }
      ]
    },
    {
      "cell_type": "code",
      "source": [
        "def suma(num1, num2):\n",
        "  return num1 + num2\n",
        "print(\"la suma de 5 + 7 =\", suma(5,7))"
      ],
      "metadata": {
        "colab": {
          "base_uri": "https://localhost:8080/"
        },
        "id": "C8jf0NiJwHBA",
        "outputId": "910520ff-b039-42f0-ce17-1f204196c44d"
      },
      "execution_count": null,
      "outputs": [
        {
          "output_type": "stream",
          "name": "stdout",
          "text": [
            "la suma de 5 + 7 = 12\n"
          ]
        }
      ]
    },
    {
      "cell_type": "code",
      "source": [
        "def suma(num1, num2):\n",
        "  return num1 + num2\n",
        "  num1 = float(input(\"Dime un numero:\"))\n",
        "  num2 = float(input(\"Dime otro numero\"))\n",
        "  print(\"La suma es:\", suma)(num1, num2)"
      ],
      "metadata": {
        "id": "9nfegvjzw1-7"
      },
      "execution_count": null,
      "outputs": []
    },
    {
      "cell_type": "code",
      "source": [
        "c = 27"
      ],
      "metadata": {
        "id": "z-BF8z85mOba"
      },
      "execution_count": null,
      "outputs": []
    },
    {
      "cell_type": "code",
      "source": [
        "def convertirCaF(c):\n",
        "  return c*9/5 + 32"
      ],
      "metadata": {
        "id": "bs6nLycVmhVG"
      },
      "execution_count": null,
      "outputs": []
    },
    {
      "cell_type": "code",
      "source": [
        "print(\"Celsius a F: \", convertirCaF(c))"
      ],
      "metadata": {
        "colab": {
          "base_uri": "https://localhost:8080/"
        },
        "id": "d3KkC1fSo3gL",
        "outputId": "c647b59e-4c69-493e-dfc6-3a2b3bccc71c"
      },
      "execution_count": null,
      "outputs": [
        {
          "output_type": "stream",
          "name": "stdout",
          "text": [
            "Celsius a F:  80.6\n"
          ]
        }
      ]
    },
    {
      "cell_type": "code",
      "source": [
        "gradosCiudades = [27, 30, 32, 35, 40, 45]"
      ],
      "metadata": {
        "id": "EI0mLVx5poYg"
      },
      "execution_count": null,
      "outputs": []
    },
    {
      "cell_type": "code",
      "source": [
        "print(gradosCiudades, \"Respuesta: \", list(map(convertirCaF, gradosCiudades)))"
      ],
      "metadata": {
        "colab": {
          "base_uri": "https://localhost:8080/"
        },
        "id": "qZ8-jsYPqKmR",
        "outputId": "0f664508-2f06-48cf-9cbf-903a2ad0ad3b"
      },
      "execution_count": null,
      "outputs": [
        {
          "output_type": "stream",
          "name": "stdout",
          "text": [
            "[27, 30, 32, 35, 40, 45] Respuesta:  [80.6, 86.0, 89.6, 95.0, 104.0, 113.0]\n"
          ]
        }
      ]
    },
    {
      "cell_type": "code",
      "source": [
        "c=27\n",
        "def convertirFaC(c):\n",
        "  return (c-32)*0.55555\n",
        "  "
      ],
      "metadata": {
        "id": "7a20rt46rNrl"
      },
      "execution_count": null,
      "outputs": []
    },
    {
      "cell_type": "code",
      "source": [
        "print(\"Fahrenheit a C: \", convertirFaC(c))"
      ],
      "metadata": {
        "colab": {
          "base_uri": "https://localhost:8080/"
        },
        "id": "KkjqCzthsKSt",
        "outputId": "a9856881-f6e1-48f8-e938-b964fbf51b28"
      },
      "execution_count": null,
      "outputs": [
        {
          "output_type": "stream",
          "name": "stdout",
          "text": [
            "Fahrenheit a C:  -2.77775\n"
          ]
        }
      ]
    },
    {
      "cell_type": "code",
      "source": [
        "gradosCiudades = [27, 30, 32, 35, 40, 45]"
      ],
      "metadata": {
        "id": "_9QcIfYZs_5k"
      },
      "execution_count": null,
      "outputs": []
    },
    {
      "cell_type": "code",
      "source": [
        "print(gradosCiudades, \"Respuesta: \", list(map(convertirFaC, gradosCiudades)))"
      ],
      "metadata": {
        "colab": {
          "base_uri": "https://localhost:8080/"
        },
        "id": "fCSgkAo3t-dh",
        "outputId": "360cbe20-3495-49b7-ebf2-7cf7cb2535be"
      },
      "execution_count": null,
      "outputs": [
        {
          "output_type": "stream",
          "name": "stdout",
          "text": [
            "[27, 30, 32, 35, 40, 45] Respuesta:  [-2.77775, -1.1111, 0.0, 1.66665, 4.4444, 7.22215]\n"
          ]
        }
      ]
    },
    {
      "cell_type": "code",
      "source": [
        "c=80.6\n",
        "def convertirFaC(c):\n",
        "  return(c-32)*0.55555"
      ],
      "metadata": {
        "id": "M6F-80I0uRNM"
      },
      "execution_count": null,
      "outputs": []
    },
    {
      "cell_type": "code",
      "source": [
        "print(\"Fahrenheit a C: \", convertirFaC(c))"
      ],
      "metadata": {
        "colab": {
          "base_uri": "https://localhost:8080/"
        },
        "id": "7NJu9VfFvLIW",
        "outputId": "e06b7533-5326-49a0-fea8-8998fa2ba92c"
      },
      "execution_count": null,
      "outputs": [
        {
          "output_type": "stream",
          "name": "stdout",
          "text": [
            "Fahrenheit a C:  26.999729999999996\n"
          ]
        }
      ]
    },
    {
      "cell_type": "code",
      "source": [
        "gradosCiudades = [-2.77775, -1.1111, 0.0, 1.66665, 4.4444, 7.22215]\n"
      ],
      "metadata": {
        "id": "M1RSajOzvYmt"
      },
      "execution_count": null,
      "outputs": []
    },
    {
      "cell_type": "code",
      "source": [
        "print(gradosCiudades, \"Respuesta: \", list(map(convertirFaC, gradosCiudades)))"
      ],
      "metadata": {
        "colab": {
          "base_uri": "https://localhost:8080/"
        },
        "id": "R5KcYh51vysM",
        "outputId": "a65ca7c9-2228-4939-b5ad-c7fea3bff413"
      },
      "execution_count": null,
      "outputs": [
        {
          "output_type": "stream",
          "name": "stdout",
          "text": [
            "[-2.77775, -1.1111, 0.0, 1.66665, 4.4444, 7.22215] Respuesta:  [-19.320779012499997, -18.394871605, -17.7776, -16.8516925925, -15.30851358, -13.7653345675]\n"
          ]
        }
      ]
    },
    {
      "cell_type": "code",
      "source": [
        "gradosK = [300.0, 303.0, 308.0, 313.0, 218.0]\n",
        "gradosC = lambda c:(c-273.15)\n",
        "c = list(map(gradosC, gradosK))"
      ],
      "metadata": {
        "id": "e-Ak8uQLwsPQ"
      },
      "execution_count": null,
      "outputs": []
    },
    {
      "cell_type": "code",
      "source": [
        "print(c)"
      ],
      "metadata": {
        "colab": {
          "base_uri": "https://localhost:8080/"
        },
        "id": "TGwyZl3tyfn3",
        "outputId": "835917fb-de64-4cf7-d4b6-bbac9b27e890"
      },
      "execution_count": null,
      "outputs": [
        {
          "output_type": "stream",
          "name": "stdout",
          "text": [
            "[26.850000000000023, 29.850000000000023, 34.85000000000002, 39.85000000000002, -55.14999999999998]\n"
          ]
        }
      ]
    },
    {
      "cell_type": "code",
      "source": [
        "gradosF = lambda F:F * 9/5 + 32\n",
        "grados = float(input(\"Ingrese un numero\"))\n",
        "print(\"Grados: \", gradosF(grados))"
      ],
      "metadata": {
        "colab": {
          "base_uri": "https://localhost:8080/"
        },
        "id": "xzhekLXSz_wn",
        "outputId": "bdec74c5-f0c7-46d4-b07c-5aab95cb5f49"
      },
      "execution_count": null,
      "outputs": [
        {
          "output_type": "stream",
          "name": "stdout",
          "text": [
            "Ingrese un numero27\n",
            "Grados:  80.6\n"
          ]
        }
      ]
    },
    {
      "cell_type": "markdown",
      "source": [
        ""
      ],
      "metadata": {
        "id": "EL1xgjHovpJm"
      }
    }
  ]
}