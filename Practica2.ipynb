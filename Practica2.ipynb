{
  "nbformat": 4,
  "nbformat_minor": 0,
  "metadata": {
    "colab": {
      "name": "Practica2.ipynb",
      "provenance": [],
      "collapsed_sections": [],
      "authorship_tag": "ABX9TyMgIB1wygMhC/p5Uq/D23nl",
      "include_colab_link": true
    },
    "kernelspec": {
      "name": "python3",
      "display_name": "Python 3"
    },
    "language_info": {
      "name": "python"
    }
  },
  "cells": [
    {
      "cell_type": "markdown",
      "metadata": {
        "id": "view-in-github",
        "colab_type": "text"
      },
      "source": [
        "<a href=\"https://colab.research.google.com/github/VanessaRivas2000/Progra3/blob/main/Practica2.ipynb\" target=\"_parent\"><img src=\"https://colab.research.google.com/assets/colab-badge.svg\" alt=\"Open In Colab\"/></a>"
      ]
    },
    {
      "cell_type": "code",
      "source": [
        "print(\"Hola Mundo\", \"Bienvendos a Programacion Computacional III, con Python\")\n",
        "print(\"Mi nombre es: \", \"Vanessa Rivas\")"
      ],
      "metadata": {
        "colab": {
          "base_uri": "https://localhost:8080/"
        },
        "id": "91lGJ7wt_k7J",
        "outputId": "2437179e-b4c0-4071-9379-ddf06321e5eb"
      },
      "execution_count": null,
      "outputs": [
        {
          "output_type": "stream",
          "name": "stdout",
          "text": [
            "Hola Mundo Bienvendos a Programacion Computacional III, con Python\n",
            "Mi nombre es:  Vanessa Rivas\n"
          ]
        }
      ]
    },
    {
      "cell_type": "code",
      "source": [
        "nombre = \"Vanessa Rivas\"\n",
        "print(\"Hola \", nombre, type(nombre))\n",
        "nombre = 21\n",
        "print(\"Tu edad es: \", nombre + 2, type(nombre))"
      ],
      "metadata": {
        "colab": {
          "base_uri": "https://localhost:8080/"
        },
        "id": "UoRITVUI_37A",
        "outputId": "1a015566-29de-4afe-961e-b743201b3ba3"
      },
      "execution_count": null,
      "outputs": [
        {
          "output_type": "stream",
          "name": "stdout",
          "text": [
            "Hola  Vanessa Rivas <class 'str'>\n",
            "Tu edad es:  23 <class 'int'>\n"
          ]
        }
      ]
    },
    {
      "cell_type": "code",
      "source": [
        "nombre = \"Vanessa Rivas\"\n",
        "print(\"Tu nombre es: \", nombre, \"Longuitud de tu nombre: \", len(nombre), \"Iniciales: \", nombre[0],nombre[8])"
      ],
      "metadata": {
        "colab": {
          "base_uri": "https://localhost:8080/"
        },
        "id": "_Gb7drmcAhhC",
        "outputId": "20da5e76-61ea-4580-aade-080378aef08a"
      },
      "execution_count": null,
      "outputs": [
        {
          "output_type": "stream",
          "name": "stdout",
          "text": [
            "Tu nombre es:  Vanessa Rivas Longuitud de tu nombre:  13 Iniciales:  V R\n"
          ]
        }
      ]
    },
    {
      "cell_type": "code",
      "execution_count": null,
      "metadata": {
        "colab": {
          "base_uri": "https://localhost:8080/"
        },
        "id": "CqiBCy0GeQ4m",
        "outputId": "7d66e344-798e-4441-9bc4-a59e09ceca64"
      },
      "outputs": [
        {
          "output_type": "stream",
          "name": "stdout",
          "text": [
            "la suma de num1:  5 + num2: 4.6 es igual a: 9.6\n"
          ]
        }
      ],
      "source": [
        "num1 = 5\n",
        "num2 = 4.6\n",
        "resp = num1 + num2\n",
        "print(\"la suma de num1: \", num1, \"+ num2:\", num2, \"es igual a:\",resp)"
      ]
    },
    {
      "cell_type": "code",
      "source": [
        "num3 = 15\n",
        "num4 =7\n",
        "resp = num3 - num4\n",
        "print(\"la resta de num3: \", num3, \"- num4:\", num4, \"es igual a:\",resp)"
      ],
      "metadata": {
        "colab": {
          "base_uri": "https://localhost:8080/"
        },
        "id": "4ZXA00G7kl_v",
        "outputId": "58fa1e72-16b4-4b05-9224-fcf0e3e8ab2f"
      },
      "execution_count": null,
      "outputs": [
        {
          "output_type": "stream",
          "name": "stdout",
          "text": [
            "la resta de num3:  15 - num4: 7 es igual a: 8\n"
          ]
        }
      ]
    },
    {
      "cell_type": "code",
      "source": [
        "num1 = float(input(\"ingrese un numero entero:\"))\n",
        "num2 = float(input(\"ingrese otro Num decimal:\"))\n",
        "resp = num1 + num2\n",
        "print(\"suma\", resp, type(resp))"
      ],
      "metadata": {
        "colab": {
          "base_uri": "https://localhost:8080/"
        },
        "id": "dfmt-E4Ulm-P",
        "outputId": "6ec6999c-e0d2-4b87-a436-dcafd53fdaa3"
      },
      "execution_count": null,
      "outputs": [
        {
          "output_type": "stream",
          "name": "stdout",
          "text": [
            "ingrese un numero entero:20\n",
            "ingrese otro Num decimal:2\n",
            "suma 22.0 <class 'float'>\n"
          ]
        }
      ]
    },
    {
      "cell_type": "code",
      "source": [
        "num3 = float(input(\"ingrese un numero entero:\"))\n",
        "num4 = float(input(\"ingrese un numero decimal:\"))\n",
        "resp = num3 * num4\n",
        "print(\"multiplicacion\", resp, type(resp))\n"
      ],
      "metadata": {
        "colab": {
          "base_uri": "https://localhost:8080/"
        },
        "id": "WPCqOvYHn4ou",
        "outputId": "22e68e1c-8e65-4389-d8a3-ec061b3126a6"
      },
      "execution_count": null,
      "outputs": [
        {
          "output_type": "stream",
          "name": "stdout",
          "text": [
            "ingrese un numero entero:25\n",
            "ingrese un numero decimal:2\n",
            "multiplicacion 50.0 <class 'float'>\n"
          ]
        }
      ]
    },
    {
      "cell_type": "code",
      "source": [
        "nombre = input(\"Dime tu nombre:\")\n",
        "print(nombre, type(nombre), len(nombre))\n",
        "\n",
        "print(nombre[0], nombre[1], nombre[2], nombre[3], nombre[4], nombre[5], nombre[6])\n"
      ],
      "metadata": {
        "colab": {
          "base_uri": "https://localhost:8080/"
        },
        "id": "Ro_0RSdmn4nk",
        "outputId": "8666dd9b-a48c-4dfe-8775-732f20299d45"
      },
      "execution_count": null,
      "outputs": [
        {
          "output_type": "stream",
          "name": "stdout",
          "text": [
            "Dime tu nombre:Vanessa\n",
            "Vanessa <class 'str'> 7\n",
            "V a n e s s a\n"
          ]
        }
      ]
    },
    {
      "cell_type": "code",
      "source": [
        "resp = 4 - 4 * 6 /2 + 1\n",
        "print(resp)"
      ],
      "metadata": {
        "colab": {
          "base_uri": "https://localhost:8080/"
        },
        "id": "ZOnBRfjos_Fc",
        "outputId": "a5b06cd5-2655-45c8-a0f2-cef0e70afcee"
      },
      "execution_count": null,
      "outputs": [
        {
          "output_type": "stream",
          "name": "stdout",
          "text": [
            "-7.0\n"
          ]
        }
      ]
    },
    {
      "cell_type": "code",
      "source": [
        "gustaProgramacion = True #False\n",
        "print(\"Te gusta programar:\", gustaProgramacion)\n",
        "\n",
        "gustaDiseño = False\n",
        "print(\"Te gusta diseñar:\", gustaDiseño)"
      ],
      "metadata": {
        "colab": {
          "base_uri": "https://localhost:8080/"
        },
        "id": "Sww8mnDYuB8t",
        "outputId": "205ba5da-ee69-4a7c-cb48-a83e2c808896"
      },
      "execution_count": null,
      "outputs": [
        {
          "output_type": "stream",
          "name": "stdout",
          "text": [
            "Te gusta programar: True\n",
            "Te gusta diseñar: False\n"
          ]
        }
      ]
    },
    {
      "cell_type": "code",
      "source": [
        "def suma(num1, num2):\n",
        "  return num1 + num2\n",
        "print(\"la suma de 5 + 7 =\", suma(5,7))"
      ],
      "metadata": {
        "colab": {
          "base_uri": "https://localhost:8080/"
        },
        "id": "C8jf0NiJwHBA",
        "outputId": "406c3656-435e-41e5-a4b2-c2d4e6ceb13b"
      },
      "execution_count": null,
      "outputs": [
        {
          "output_type": "stream",
          "name": "stdout",
          "text": [
            "la suma de 5 + 7 = 12\n"
          ]
        }
      ]
    },
    {
      "cell_type": "code",
      "source": [
        "def suma(num1, num2):\n",
        "  return num1 + num2\n",
        "  num1 = float(input(\"Dime un numero:\"))\n",
        "  num2 = float(input(\"Dime otro numero\"))\n",
        "  print(\"La suma es:\", suma)(num1, num2)"
      ],
      "metadata": {
        "id": "9nfegvjzw1-7"
      },
      "execution_count": null,
      "outputs": []
    },
    {
      "cell_type": "code",
      "source": [
        "c = 27"
      ],
      "metadata": {
        "id": "z-BF8z85mOba"
      },
      "execution_count": null,
      "outputs": []
    },
    {
      "cell_type": "code",
      "source": [
        "def convertirCaF(c):\n",
        "  return c*9/5 + 32"
      ],
      "metadata": {
        "id": "bs6nLycVmhVG"
      },
      "execution_count": null,
      "outputs": []
    },
    {
      "cell_type": "code",
      "source": [
        "print(\"Celsius a F: \", convertirCaF(c))"
      ],
      "metadata": {
        "colab": {
          "base_uri": "https://localhost:8080/"
        },
        "id": "d3KkC1fSo3gL",
        "outputId": "a4926ac2-59a9-478c-bd7e-d772a8374158"
      },
      "execution_count": null,
      "outputs": [
        {
          "output_type": "stream",
          "name": "stdout",
          "text": [
            "Celsius a F:  80.6\n"
          ]
        }
      ]
    },
    {
      "cell_type": "code",
      "source": [
        "gradosCiudades = [27, 30, 32, 35, 40, 45]"
      ],
      "metadata": {
        "id": "EI0mLVx5poYg"
      },
      "execution_count": null,
      "outputs": []
    },
    {
      "cell_type": "code",
      "source": [
        "print(gradosCiudades, \"Respuesta: \", list(map(convertirCaF, gradosCiudades)))"
      ],
      "metadata": {
        "colab": {
          "base_uri": "https://localhost:8080/"
        },
        "id": "qZ8-jsYPqKmR",
        "outputId": "eb03b153-4041-47a7-998c-b923a1f7935e"
      },
      "execution_count": null,
      "outputs": [
        {
          "output_type": "stream",
          "name": "stdout",
          "text": [
            "[27, 30, 32, 35, 40, 45] Respuesta:  [80.6, 86.0, 89.6, 95.0, 104.0, 113.0]\n"
          ]
        }
      ]
    },
    {
      "cell_type": "code",
      "source": [
        "c=27\n",
        "def convertirFaC(c):\n",
        "  return (c-32)*0.55555\n",
        "  "
      ],
      "metadata": {
        "id": "7a20rt46rNrl"
      },
      "execution_count": null,
      "outputs": []
    },
    {
      "cell_type": "code",
      "source": [
        "print(\"Fahrenheit a C: \", convertirFaC(c))"
      ],
      "metadata": {
        "colab": {
          "base_uri": "https://localhost:8080/"
        },
        "id": "KkjqCzthsKSt",
        "outputId": "986e2c66-fa68-4c9b-b206-029cd590b21f"
      },
      "execution_count": null,
      "outputs": [
        {
          "output_type": "stream",
          "name": "stdout",
          "text": [
            "Fahrenheit a C:  -2.77775\n"
          ]
        }
      ]
    },
    {
      "cell_type": "code",
      "source": [
        "gradosCiudades = [27, 30, 32, 35, 40, 45]"
      ],
      "metadata": {
        "id": "_9QcIfYZs_5k"
      },
      "execution_count": null,
      "outputs": []
    },
    {
      "cell_type": "code",
      "source": [
        "print(gradosCiudades, \"Respuesta: \", list(map(convertirFaC, gradosCiudades)))"
      ],
      "metadata": {
        "colab": {
          "base_uri": "https://localhost:8080/"
        },
        "id": "fCSgkAo3t-dh",
        "outputId": "7f7ad37a-bb97-4ea9-9c71-ec3a8b030868"
      },
      "execution_count": null,
      "outputs": [
        {
          "output_type": "stream",
          "name": "stdout",
          "text": [
            "[27, 30, 32, 35, 40, 45] Respuesta:  [-2.77775, -1.1111, 0.0, 1.66665, 4.4444, 7.22215]\n"
          ]
        }
      ]
    },
    {
      "cell_type": "code",
      "source": [
        "c=80.6\n",
        "def convertirFaC(c):\n",
        "  return(c-32)*0.55555"
      ],
      "metadata": {
        "id": "M6F-80I0uRNM"
      },
      "execution_count": null,
      "outputs": []
    },
    {
      "cell_type": "code",
      "source": [
        "print(\"Fahrenheit a C: \", convertirFaC(c))"
      ],
      "metadata": {
        "colab": {
          "base_uri": "https://localhost:8080/"
        },
        "id": "7NJu9VfFvLIW",
        "outputId": "cc109b3f-78de-4dc0-dafe-d60e79c7b71b"
      },
      "execution_count": null,
      "outputs": [
        {
          "output_type": "stream",
          "name": "stdout",
          "text": [
            "Fahrenheit a C:  26.999729999999996\n"
          ]
        }
      ]
    },
    {
      "cell_type": "code",
      "source": [
        "gradosCiudades = [-2.77775, -1.1111, 0.0, 1.66665, 4.4444, 7.22215]\n"
      ],
      "metadata": {
        "id": "M1RSajOzvYmt"
      },
      "execution_count": null,
      "outputs": []
    },
    {
      "cell_type": "code",
      "source": [
        "print(gradosCiudades, \"Respuesta: \", list(map(convertirFaC, gradosCiudades)))"
      ],
      "metadata": {
        "colab": {
          "base_uri": "https://localhost:8080/"
        },
        "id": "R5KcYh51vysM",
        "outputId": "3ec548ef-1dd3-4f9b-fd9f-9ce5c67dfc0e"
      },
      "execution_count": null,
      "outputs": [
        {
          "output_type": "stream",
          "name": "stdout",
          "text": [
            "[-2.77775, -1.1111, 0.0, 1.66665, 4.4444, 7.22215] Respuesta:  [-19.320779012499997, -18.394871605, -17.7776, -16.8516925925, -15.30851358, -13.7653345675]\n"
          ]
        }
      ]
    },
    {
      "cell_type": "code",
      "source": [
        "gradosK = [300.0, 303.0, 308.0, 313.0, 218.0]\n",
        "gradosC = lambda c:(c-273.15)\n",
        "c = list(map(gradosC, gradosK))"
      ],
      "metadata": {
        "id": "e-Ak8uQLwsPQ"
      },
      "execution_count": null,
      "outputs": []
    },
    {
      "cell_type": "code",
      "source": [
        "print(c)"
      ],
      "metadata": {
        "colab": {
          "base_uri": "https://localhost:8080/"
        },
        "id": "TGwyZl3tyfn3",
        "outputId": "e2ad8f83-5309-4d9e-ac28-b2513a16744a"
      },
      "execution_count": null,
      "outputs": [
        {
          "output_type": "stream",
          "name": "stdout",
          "text": [
            "[26.850000000000023, 29.850000000000023, 34.85000000000002, 39.85000000000002, -55.14999999999998]\n"
          ]
        }
      ]
    },
    {
      "cell_type": "code",
      "source": [
        "gradosF = lambda F:F * 9/5 + 32\n",
        "grados = float(input(\"Ingrese un numero\"))\n",
        "print(\"Grados: \", gradosF(grados))"
      ],
      "metadata": {
        "colab": {
          "base_uri": "https://localhost:8080/"
        },
        "id": "xzhekLXSz_wn",
        "outputId": "7c13c372-cb87-47ce-8936-c992d58ca744"
      },
      "execution_count": null,
      "outputs": [
        {
          "output_type": "stream",
          "name": "stdout",
          "text": [
            "Ingrese un numero20\n",
            "Grados:  68.0\n"
          ]
        }
      ]
    },
    {
      "cell_type": "code",
      "source": [
        "edades = (2,5,12,18,65,100) #La tupla es inmutable, es decir, no podemos cambiar su valor y se declara con parentesis pero se usa corchetes"
      ],
      "metadata": {
        "id": "vP8EetAPq2xZ"
      },
      "execution_count": null,
      "outputs": []
    },
    {
      "cell_type": "code",
      "source": [
        "print( edades, \"La edad de bebe es la mejor: \", edades[0])"
      ],
      "metadata": {
        "colab": {
          "base_uri": "https://localhost:8080/"
        },
        "id": "4-hOUj37rZc_",
        "outputId": "0a9bccb8-5ef0-4922-f69c-1490b42ae9d4"
      },
      "execution_count": null,
      "outputs": [
        {
          "output_type": "stream",
          "name": "stdout",
          "text": [
            "(2, 5, 12, 18, 65, 100) La edad de bebe es la mejor:  2\n"
          ]
        }
      ]
    },
    {
      "cell_type": "code",
      "source": [
        "print(\"Edades: \", edades, \"Responsabilidades: \", tuple(filter(lambda e:e>=18, edades)))"
      ],
      "metadata": {
        "colab": {
          "base_uri": "https://localhost:8080/"
        },
        "id": "K5LhdmK7rZbQ",
        "outputId": "d474bd16-f9ed-4189-d477-0b4f37e37c5a"
      },
      "execution_count": null,
      "outputs": [
        {
          "output_type": "stream",
          "name": "stdout",
          "text": [
            "Edades:  (2, 5, 12, 18, 65, 100) Responsabilidades:  (18, 65, 100)\n"
          ]
        }
      ]
    },
    {
      "cell_type": "code",
      "source": [
        "print(\"Edades: \", edades, \"Al cuadrado: \", tuple(map(lambda n:n**2, edades)))"
      ],
      "metadata": {
        "colab": {
          "base_uri": "https://localhost:8080/"
        },
        "id": "6tXL9seBsMYP",
        "outputId": "2b6c3b1b-34f6-4fc2-9fae-0a08d6b0e7a4"
      },
      "execution_count": null,
      "outputs": [
        {
          "output_type": "stream",
          "name": "stdout",
          "text": [
            "Edades:  (2, 5, 12, 18, 65, 100) Al cuadrado:  (4, 25, 144, 324, 4225, 10000)\n"
          ]
        }
      ]
    },
    {
      "cell_type": "code",
      "source": [
        "notas = [6,8,10] # Listas, son mutables, es decir, podemos cambiar sus valores y se declaran y usan con corchetes.\n",
        "print(\"Notas originales: \", notas)"
      ],
      "metadata": {
        "colab": {
          "base_uri": "https://localhost:8080/"
        },
        "id": "YdIZtuBbtIN-",
        "outputId": "e5ad7f2c-eb0e-4be6-fb8d-4713a47e64db"
      },
      "execution_count": null,
      "outputs": [
        {
          "output_type": "stream",
          "name": "stdout",
          "text": [
            "Notas originales:  [6, 8, 10]\n"
          ]
        }
      ]
    },
    {
      "cell_type": "code",
      "source": [
        "notas[0]=9\n",
        "print(\"Notas: \", notas)"
      ],
      "metadata": {
        "colab": {
          "base_uri": "https://localhost:8080/"
        },
        "id": "J5akwKrdtf2t",
        "outputId": "32204e7c-e7d6-4841-ab21-702f343048de"
      },
      "execution_count": null,
      "outputs": [
        {
          "output_type": "stream",
          "name": "stdout",
          "text": [
            "Notas:  [9, 8, 10]\n"
          ]
        }
      ]
    },
    {
      "cell_type": "code",
      "source": [
        "notasprogra = [\n",
        "    [9,8,10],#C1\n",
        "    [10,6,9], #C2\n",
        "    [10,9,10], #C3\n",
        "]\n",
        "print(notasprogra)"
      ],
      "metadata": {
        "colab": {
          "base_uri": "https://localhost:8080/"
        },
        "id": "WsXCS-Iftuol",
        "outputId": "dda64275-786e-4b02-d8f5-415544e71cde"
      },
      "execution_count": null,
      "outputs": [
        {
          "output_type": "stream",
          "name": "stdout",
          "text": [
            "[[9, 8, 10], [10, 6, 9], [10, 9, 10]]\n"
          ]
        }
      ]
    },
    {
      "cell_type": "code",
      "source": [
        "print(\"Lab2 de C1\", notasprogra[0][1])"
      ],
      "metadata": {
        "colab": {
          "base_uri": "https://localhost:8080/"
        },
        "id": "EzQXSz9kudd1",
        "outputId": "1f6e2a23-b56e-4c5f-827a-a176ede81620"
      },
      "execution_count": null,
      "outputs": [
        {
          "output_type": "stream",
          "name": "stdout",
          "text": [
            "Lab2 de C1 8\n"
          ]
        }
      ]
    },
    {
      "cell_type": "code",
      "source": [
        "notas = [\n",
        "[ #Progra III\n",
        " [9,8,[8,9]], #C1\n",
        " [10,6,9], #C2\n",
        " [10,9,10], #C3\n",
        "],\n",
        "[ #Estadistica\n",
        " [5,7,10], #C1\n",
        " [9,8,9], #C2\n",
        " [10,10,10], #C3\n",
        "],\n",
        "[ #BD\n",
        " [7,8,9], #C1\n",
        " [9,8,7], #C2\n",
        " [10,9,10], #C3\n",
        "],\n",
        "[ #Ingles\n",
        " [8,9,10], #C1\n",
        " [9,10,9], #C2\n",
        " [10,10,10], #C3\n",
        "],\n",
        "[ #Circuito Digital\n",
        " [5,8,7], #C1\n",
        " [8,7,9], #C2\n",
        " [9,10,9], #C3\n",
        "]\n",
        "]\n",
        "import functools\n",
        "print(\"Lab1 de Estadistica en C1\", notas[1][0][0], \"Nota de Parcial C1 de Progra III: \", functools.reduce(lambda a,b: a + b, notas[0][0][2])/2)"
      ],
      "metadata": {
        "colab": {
          "base_uri": "https://localhost:8080/"
        },
        "id": "x_Yxlypy7kmC",
        "outputId": "d2bd9500-f919-4af8-8e23-446e66030a45"
      },
      "execution_count": null,
      "outputs": [
        {
          "output_type": "stream",
          "name": "stdout",
          "text": [
            "Lab1 de Estadistica en C1 5 Nota de Parcial C1 de Progra III:  8.5\n"
          ]
        }
      ]
    },
    {
      "cell_type": "code",
      "source": [
        "#diccionarios (JSON): Se declaran con llaves pero se usan con corchetes\n",
        "misNotas = {\n",
        "    \"Programa III\":{\n",
        "        \"C1\": {\n",
        "          \"Lab1\":9,\"Lab2\":8, \"Parcial\":{\"ParteI\":8, \"ParteII\":9}\n",
        "        },\n",
        "        \"C2\":{\n",
        "          \"Lab1\":10,\"Lab2\":6, \"Parcial\":9\n",
        "        },\n",
        "        \"C3\":{\n",
        "          \"Lab1\":10,\"Lab2\":6, \"Parcial\":9\n",
        "        }\n",
        "    },\"Estadistica\":{\n",
        "        \"C1\": {\n",
        "          \"Lab1\":5,\"Lab2\":7, \"Parcial\":10\n",
        "        },\n",
        "        \"C2\":{\n",
        "          \"Lab1\":9,\"Lab2\":8, \"Parcial\":9\n",
        "        },\n",
        "        \"C3\":{\n",
        "          \"Lab1\":10,\"Lab2\":10, \"Parcial\":10\n",
        "        }\n",
        "    }, \"BD\":{\n",
        "        \"C1\": {\n",
        "          \"Lab1\":7,\"Lab2\":8, \"Parcial\":9\n",
        "        },\n",
        "        \"C2\":{\n",
        "          \"Lab1\":9,\"Lab2\":8, \"Parcial\":7\n",
        "        },\n",
        "        \"C3\":{\n",
        "          \"Lab1\":10,\"Lab2\":9, \"Parcial\":10\n",
        "        }\n",
        "    }, \"Ingles\":{\n",
        "        \"C1\": {\n",
        "          \"Lab1\":8,\"Lab2\":9, \"Parcial\":10\n",
        "        },\n",
        "        \"C2\":{\n",
        "          \"Lab1\":9,\"Lab2\":10, \"Parcial\":9\n",
        "        },\n",
        "        \"C3\":{\n",
        "          \"Lab1\":10,\"Lab2\":10, \"Parcial\":10\n",
        "        }\n",
        "    }, \"Circuitos Digitales\":{\n",
        "        \"C1\": {\n",
        "          \"Lab1\":5,\"Lab2\":8, \"Parcial\":7\n",
        "        },\n",
        "        \"C2\":{\n",
        "          \"Lab1\":8,\"Lab2\":7, \"Parcial\":9\n",
        "        },\n",
        "        \"C3\":{\n",
        "          \"Lab1\":9,\"Lab2\":10, \"Parcial\":9\n",
        "        }\n",
        "    }\n",
        "}\n",
        "print(\"Lab1 en C1 de Estadistica: \", misNotas[\"Estadistica\"][\"C1\"][\"Lab1\"])\n",
        "misNotas[\"Estadistica\"][\"C1\"][\"Lab1\"] = float(input(\"Lab1: \"))\n",
        "print(\"Lab1 en C1 de Estadistica: \", misNotas[\"Estadistica\"][\"C1\"][\"Lab1\"])"
      ],
      "metadata": {
        "colab": {
          "base_uri": "https://localhost:8080/"
        },
        "id": "St4NmByA-GIJ",
        "outputId": "c961f4a3-3950-460d-e883-53e0baf2d867"
      },
      "execution_count": null,
      "outputs": [
        {
          "output_type": "stream",
          "name": "stdout",
          "text": [
            "Lab1 en C1 de Estadistica:  5\n",
            "Lab1: 9.5\n",
            "Lab1 en C1 de Estadistica:  9.5\n"
          ]
        }
      ]
    },
    {
      "cell_type": "code",
      "source": [
        "edad = int(input(\"Dime tu edad: \"))\n",
        "if(edad<=2):\n",
        "  print(\"Eres un bebe\")\n",
        "elif(edad<12):\n",
        "  print(\"Eres un niño\")\n",
        "elif( edad<18 ):\n",
        "  print(\"Eres un adolescente\")\n",
        "elif( edad<=55 ):\n",
        "  print(\"Eres un adulto joven\")\n",
        "elif(edad<=65):\n",
        "  print(\"Eres un Adulto\")\n",
        "elif(edad<=85):\n",
        "  print(\"Eres un adulto mayor\")\n",
        "elif(edad<=130):\n",
        "  print(\"Larga vidad...\")\n",
        "else:\n",
        "  print(\"Edad incorrecto\")\n",
        "print(\"Termino\")"
      ],
      "metadata": {
        "colab": {
          "base_uri": "https://localhost:8080/"
        },
        "id": "OBawFg7JjKiI",
        "outputId": "4fdc580f-f909-44aa-e82c-f19afb0cb975"
      },
      "execution_count": null,
      "outputs": [
        {
          "output_type": "stream",
          "name": "stdout",
          "text": [
            "Dime tu edad: 23\n",
            "Eres un adulto joven\n",
            "Termino\n"
          ]
        }
      ]
    },
    {
      "cell_type": "code",
      "source": [
        "#hacer un programa que genera la tabla de multiplicar de x numero ingreso por el usuario\n",
        "nt = int(input(\"Dime la tabla de multiplicar a generar: \"))\n",
        "i=1\n",
        "while i<=10:\n",
        "  print( nt,\"X\",i,\"=\", nt*i )\n",
        "  i+=1"
      ],
      "metadata": {
        "colab": {
          "base_uri": "https://localhost:8080/"
        },
        "id": "9WGpZuKGSxZ9",
        "outputId": "b4adca9f-ed09-435d-e9d0-e601fd28cda3"
      },
      "execution_count": 1,
      "outputs": [
        {
          "output_type": "stream",
          "name": "stdout",
          "text": [
            "Dime la tabla de multiplicar a generar: 12\n",
            "12 X 1 = 12\n",
            "12 X 2 = 24\n",
            "12 X 3 = 36\n",
            "12 X 4 = 48\n",
            "12 X 5 = 60\n",
            "12 X 6 = 72\n",
            "12 X 7 = 84\n",
            "12 X 8 = 96\n",
            "12 X 9 = 108\n",
            "12 X 10 = 120\n"
          ]
        }
      ]
    },
    {
      "cell_type": "code",
      "source": [
        "#hacer un programa que genera la tabla de multiplicar de x numero ingreso por el usuario\n",
        "nt = int(input(\"Dime la tabla que deseas generar: \"))\n",
        "for i in range(1,11): #i<11\n",
        "  print(nt,\"X\",i,\"=\", nt*i)"
      ],
      "metadata": {
        "colab": {
          "base_uri": "https://localhost:8080/"
        },
        "id": "r63AhZHhTSbz",
        "outputId": "d15b2516-f8ff-4138-8ab0-26a3eabd59b0"
      },
      "execution_count": 2,
      "outputs": [
        {
          "output_type": "stream",
          "name": "stdout",
          "text": [
            "Dime la tabla que deseas generar: 12\n",
            "12 X 1 = 12\n",
            "12 X 2 = 24\n",
            "12 X 3 = 36\n",
            "12 X 4 = 48\n",
            "12 X 5 = 60\n",
            "12 X 6 = 72\n",
            "12 X 7 = 84\n",
            "12 X 8 = 96\n",
            "12 X 9 = 108\n",
            "12 X 10 = 120\n"
          ]
        }
      ]
    },
    {
      "cell_type": "code",
      "source": [
        "#hacer un programa que genera la tabla de multiplicar de x numero ingreso por el usuario\n",
        "s = \"s\"\n",
        "while s==\"s\":\n",
        "  nt = int(input(\"Dime una tabla: \"))\n",
        "  for i in range(1, 11):\n",
        "    print(nt, \"X\",i,\"=\", nt*i)\n",
        "  s = input(\"Desea continua presione la tecla s, sino cualquier otra\")"
      ],
      "metadata": {
        "colab": {
          "base_uri": "https://localhost:8080/"
        },
        "id": "z5v_uVajTaSj",
        "outputId": "8e037d6d-15cd-4540-a486-a725baa2fcf5"
      },
      "execution_count": 3,
      "outputs": [
        {
          "name": "stdout",
          "output_type": "stream",
          "text": [
            "Dime una tabla: 12\n",
            "12 X 1 = 12\n",
            "12 X 2 = 24\n",
            "12 X 3 = 36\n",
            "12 X 4 = 48\n",
            "12 X 5 = 60\n",
            "12 X 6 = 72\n",
            "12 X 7 = 84\n",
            "12 X 8 = 96\n",
            "12 X 9 = 108\n",
            "12 X 10 = 120\n",
            "Desea continua presione la tecla s, sino cualquier otras\n",
            "Dime una tabla: 10\n",
            "10 X 1 = 10\n",
            "10 X 2 = 20\n",
            "10 X 3 = 30\n",
            "10 X 4 = 40\n",
            "10 X 5 = 50\n",
            "10 X 6 = 60\n",
            "10 X 7 = 70\n",
            "10 X 8 = 80\n",
            "10 X 9 = 90\n",
            "10 X 10 = 100\n",
            "Desea continua presione la tecla s, sino cualquier otras\n",
            "Dime una tabla: 8\n",
            "8 X 1 = 8\n",
            "8 X 2 = 16\n",
            "8 X 3 = 24\n",
            "8 X 4 = 32\n",
            "8 X 5 = 40\n",
            "8 X 6 = 48\n",
            "8 X 7 = 56\n",
            "8 X 8 = 64\n",
            "8 X 9 = 72\n",
            "8 X 10 = 80\n",
            "Desea continua presione la tecla s, sino cualquier otra\n"
          ]
        }
      ]
    },
    {
      "cell_type": "code",
      "source": [
        "#conversores\n",
        "etiquetas = [\n",
        "    0,\n",
        "    [\"Seleccione un moneda\", \"1. Dolar\", \"2. Colon SV\", \"3. Quetzal\", \"4. Lempira\", \"5. Cordoba\"],\n",
        "    [\"Selecione un almacenamiento\", \"1. MegaByte\", \"2. Bit\", \"3. Byte\", \"4. KiloByte\", \"5. GigaByte\"]\n",
        "    ,3,4,5]\n",
        "\n",
        "valores = [0,\n",
        "  [0,1, 8.75, 7.73, 24.49, 35.96],\n",
        "  [0,1, 8388608, 1048576, 1024, 0.0009765625]  "
      ],
      "metadata": {
        "id": "7K9-javAToCx"
      },
      "execution_count": 4,
      "outputs": []
    },
    {
      "cell_type": "code",
      "source": [
        "def convertir(opcion, de, a, cantidad):\n",
        "  return valores[opcion][a] / valores[opcion][de] * cantidad"
      ],
      "metadata": {
        "id": "ET-TnA2RTvd-"
      },
      "execution_count": 5,
      "outputs": []
    },
    {
      "cell_type": "code",
      "source": [
        "print(\"** MENU **\")\n",
        "print(\"1. Monedas\")\n",
        "print(\"2. Almacenamiento\")\n",
        "opcion = int(input(\"Opcion: \"))\n",
        "\n",
        "print( etiquetas[opcion] )\n",
        "de = int(input(\"DE: \"))\n",
        "a = int(input(\"A: \"))\n",
        "cantidad = float(input(\"Cantidad: \"))\n",
        "\n",
        "print( etiquetas[opcion][de], \" en \", etiquetas[opcion][a], \" equivale a: \", convertir(opcion, de, a, cantidad) )"
      ],
      "metadata": {
        "colab": {
          "base_uri": "https://localhost:8080/"
        },
        "id": "yuhyLnJxT1B-",
        "outputId": "dd6b51a7-c318-4c2d-d224-67d85e92b529"
      },
      "execution_count": 7,
      "outputs": [
        {
          "output_type": "stream",
          "name": "stdout",
          "text": [
            "** MENU **\n",
            "1. Monedas\n",
            "2. Almacenamiento\n",
            "Opcion: 2\n",
            "['Selecione un almacenamiento', '1. MegaByte', '2. Bit', '3. Byte', '4. KiloByte', '5. GigaByte']\n",
            "DE: 5\n",
            "A: 3\n",
            "Cantidad: 36\n",
            "5. GigaByte  en  3. Byte  equivale a:  38654705664.0\n"
          ]
        }
      ]
    },
    {
      "cell_type": "code",
      "source": [
        "  #TAREA:\n",
        "# * Hacer un algoritmo en python que convierta de grados Celsius a Kelvin y viceversa, usando funciones de usuario y lambda.\n",
        "\n",
        "# * Hacer un algoritmo en python que encuentre la Nota Final de Ciclo de una Materia en Particular usando funciones de usuario y lambda.\n"
      ],
      "metadata": {
        "id": "UVA1yx1lP5zn"
      },
      "execution_count": null,
      "outputs": []
    },
    {
      "cell_type": "code",
      "source": [
        "# * Hacer un algoritmo en python que convierta de grados Celsius a Kelvin y viceversa, usando funciones de usuario y lambda.\n",
        "\n",
        "# Celsius a Kelvin\n",
        "c = 29\n",
        "def ConvertirCaK(c):\n",
        "  return c + 273.15\n",
        "  "
      ],
      "metadata": {
        "id": "OGlkcyVzQGT5"
      },
      "execution_count": null,
      "outputs": []
    },
    {
      "cell_type": "code",
      "source": [
        "print(\"Celsius a K: \", ConvertirCaK(c))"
      ],
      "metadata": {
        "colab": {
          "base_uri": "https://localhost:8080/"
        },
        "id": "9v11PPTXaYQB",
        "outputId": "fb4dfdc3-59bc-4e0e-c027-3fd498af78cc"
      },
      "execution_count": null,
      "outputs": [
        {
          "output_type": "stream",
          "name": "stdout",
          "text": [
            "Celsius a K:  302.15\n"
          ]
        }
      ]
    },
    {
      "cell_type": "code",
      "source": [
        "gradosCiudades2 = [29, 58, 36, 39, 50, 44]"
      ],
      "metadata": {
        "id": "W3H8IsREanlK"
      },
      "execution_count": null,
      "outputs": []
    },
    {
      "cell_type": "code",
      "source": [
        "print(gradosCiudades2, \"Respuesta: \", list(map(ConvertirCaK, gradosCiudades2)))"
      ],
      "metadata": {
        "colab": {
          "base_uri": "https://localhost:8080/"
        },
        "id": "raRgbOW9a0hT",
        "outputId": "7cdf49b8-632c-44dd-8dc3-572735e6f934"
      },
      "execution_count": null,
      "outputs": [
        {
          "output_type": "stream",
          "name": "stdout",
          "text": [
            "[29, 58, 36, 39, 50, 44] Respuesta:  [302.15, 331.15, 309.15, 312.15, 323.15, 317.15]\n"
          ]
        }
      ]
    },
    {
      "cell_type": "code",
      "source": [
        "print(gradosCiudades2, \"Respuesta: \", list(map(lambda c: c + 273.15, gradosCiudades2)))"
      ],
      "metadata": {
        "id": "aO-UI0FbNPpR",
        "outputId": "ed69099b-0c27-471a-e6b3-b4c007c26bec",
        "colab": {
          "base_uri": "https://localhost:8080/"
        }
      },
      "execution_count": null,
      "outputs": [
        {
          "output_type": "stream",
          "name": "stdout",
          "text": [
            "[29, 58, 36, 39, 50, 44] Respuesta:  [302.15, 331.15, 309.15, 312.15, 323.15, 317.15]\n"
          ]
        }
      ]
    },
    {
      "cell_type": "code",
      "source": [
        "gradosC = lambda C:C + 273.15\n",
        "grados = float(input(\"Ingrese un numero\"))\n",
        "print(\"Grados: \", gradosC(grados))"
      ],
      "metadata": {
        "colab": {
          "base_uri": "https://localhost:8080/"
        },
        "id": "wg04oajA4qwv",
        "outputId": "c4f4e98a-d3a5-4535-a20d-0dcd208d3a58"
      },
      "execution_count": null,
      "outputs": [
        {
          "output_type": "stream",
          "name": "stdout",
          "text": [
            "Ingrese un numero29\n",
            "Grados:  302.15\n"
          ]
        }
      ]
    },
    {
      "cell_type": "code",
      "source": [
        "# Kelvin a Celsius\n",
        "c = 302.15\n",
        "def ConvertirKaC(c):\n",
        "  return c - 273.15"
      ],
      "metadata": {
        "id": "gijdT4497pxo"
      },
      "execution_count": null,
      "outputs": []
    },
    {
      "cell_type": "code",
      "source": [
        "print(\"Kelvin a C: \", ConvertirKaC(c))"
      ],
      "metadata": {
        "colab": {
          "base_uri": "https://localhost:8080/"
        },
        "id": "S3d8Uc-28KK0",
        "outputId": "4b780fee-6764-4c1c-d80c-684307ca50f6"
      },
      "execution_count": null,
      "outputs": [
        {
          "output_type": "stream",
          "name": "stdout",
          "text": [
            "Kelvin a C:  29.0\n"
          ]
        }
      ]
    },
    {
      "cell_type": "code",
      "source": [
        "gradosCiudades2 = [302.15, 331.15, 309.15, 312.15, 323.15, 317.15]\n",
        "print(gradosCiudades2, \"Respuesta: \", list(map(ConvertirKaC, gradosCiudades2)))"
      ],
      "metadata": {
        "colab": {
          "base_uri": "https://localhost:8080/"
        },
        "id": "2WOKH4mU8Wf9",
        "outputId": "b5d5ddde-a03e-4925-d9a0-bd29533c2ef3"
      },
      "execution_count": null,
      "outputs": [
        {
          "output_type": "stream",
          "name": "stdout",
          "text": [
            "[302.15, 331.15, 309.15, 312.15, 323.15, 317.15] Respuesta:  [29.0, 58.0, 36.0, 39.0, 50.0, 44.0]\n"
          ]
        }
      ]
    },
    {
      "cell_type": "code",
      "source": [
        "print(gradosCiudades2, \"Respuesta: \", list(map(lambda c: c - 273.15, gradosCiudades2)))"
      ],
      "metadata": {
        "colab": {
          "base_uri": "https://localhost:8080/"
        },
        "id": "YG6j4gsu8_Fl",
        "outputId": "ea019ad4-2642-42be-aea3-d2bf2607d09e"
      },
      "execution_count": null,
      "outputs": [
        {
          "output_type": "stream",
          "name": "stdout",
          "text": [
            "[302.15, 331.15, 309.15, 312.15, 323.15, 317.15] Respuesta:  [29.0, 58.0, 36.0, 39.0, 50.0, 44.0]\n"
          ]
        }
      ]
    },
    {
      "cell_type": "code",
      "source": [
        "gradosK = lambda K:K - 273.15\n",
        "grados = float(input(\"Ingrese un numero\"))\n",
        "print(\"Grados: \", gradosK(grados))"
      ],
      "metadata": {
        "colab": {
          "base_uri": "https://localhost:8080/"
        },
        "id": "6uvRgPIg9GHD",
        "outputId": "58c40189-7b21-4ba8-bd1d-56820dd1c549"
      },
      "execution_count": null,
      "outputs": [
        {
          "output_type": "stream",
          "name": "stdout",
          "text": [
            "Ingrese un numero302.15\n",
            "Grados:  29.0\n"
          ]
        }
      ]
    },
    {
      "cell_type": "code",
      "source": [
        "# * Hacer un algoritmo en python que encuentre la Nota Final de Ciclo de una Materia en Particular usando funciones de usuario y lambda."
      ],
      "metadata": {
        "id": "3_xPUTbC92vD"
      },
      "execution_count": null,
      "outputs": []
    },
    {
      "cell_type": "code",
      "source": [
        "notasElectronica = [\n",
        "    [9, 7, 10], #C1\n",
        "    [10, 8, 9], #C2\n",
        "    [7, 9, 9], #C3\n",
        "]\n",
        "print(notasElectronica)"
      ],
      "metadata": {
        "colab": {
          "base_uri": "https://localhost:8080/"
        },
        "id": "dHKP0TDX_K7p",
        "outputId": "c7aa9cd9-deb5-453c-e018-7b5aca8f3ed7"
      },
      "execution_count": null,
      "outputs": [
        {
          "output_type": "stream",
          "name": "stdout",
          "text": [
            "[[9, 7, 10], [10, 8, 9], [7, 9, 9]]\n"
          ]
        }
      ]
    },
    {
      "cell_type": "markdown",
      "source": [],
      "metadata": {
        "id": "EL1xgjHovpJm"
      }
    },
    {
      "cell_type": "code",
      "source": [
        "# Notas C1\n",
        "Lab1 = float(input(\"Ingrese la primer nota\"))\n",
        "Lab2 = float(input(\"Ingrese la segunda nota\"))\n",
        "parcial = float(input(\"Ingrese nota Parcial\"))\n",
        "C1 = (Lab1 + Lab2 + parcial)/3\n",
        "print(\"Su nota final es: \", C1)"
      ],
      "metadata": {
        "colab": {
          "base_uri": "https://localhost:8080/"
        },
        "id": "ANOMfjJOO3oI",
        "outputId": "1bf74cf6-5210-4fd1-9a5a-3022efd06716"
      },
      "execution_count": null,
      "outputs": [
        {
          "output_type": "stream",
          "name": "stdout",
          "text": [
            "Ingrese la primer nota9\n",
            "Ingrese la segunda nota7\n",
            "Ingrese nota Parcial10\n",
            "Su nota final es:  8.666666666666666\n"
          ]
        }
      ]
    },
    {
      "cell_type": "code",
      "source": [
        "# Notas C2\n",
        "Lab1 = float(input(\"Ingrese la primer nota\"))\n",
        "Lab2 = float(input(\"Ingrese la segunda nota\"))\n",
        "parcial = float(input(\"Ingrese nota Parcial\"))\n",
        "C2 = (Lab1 + Lab2 + parcial)/3\n",
        "print(\"Su nota final es: \", C2)"
      ],
      "metadata": {
        "colab": {
          "base_uri": "https://localhost:8080/"
        },
        "id": "cwsn61MjQjg0",
        "outputId": "bc98f2b2-1bf5-4e84-e7ff-1f6fdb295d69"
      },
      "execution_count": null,
      "outputs": [
        {
          "output_type": "stream",
          "name": "stdout",
          "text": [
            "Ingrese la primer nota10\n",
            "Ingrese la segunda nota8\n",
            "Ingrese nota Parcial9\n",
            "Su nota final es:  9.0\n"
          ]
        }
      ]
    },
    {
      "cell_type": "code",
      "source": [
        "11# Notas C3\n",
        "Lab1 = float(input(\"Ingrese la primer nota\"))\n",
        "Lab2 = float(input(\"Ingrese la segunda nota\"))\n",
        "parcial = float(input(\"Ingrese nota Parcial\"))\n",
        "C3 = (Lab1 + Lab2 + parcial)/3\n",
        "print(\"Su nota final es: \", C3)"
      ],
      "metadata": {
        "colab": {
          "base_uri": "https://localhost:8080/"
        },
        "id": "ZyzhtT-jULKz",
        "outputId": "5adb759e-9828-4754-8120-eda2a25a7e0f"
      },
      "execution_count": null,
      "outputs": [
        {
          "output_type": "stream",
          "name": "stdout",
          "text": [
            "Ingrese la primer nota7\n",
            "Ingrese la segunda nota9\n",
            "Ingrese nota Parcial9\n",
            "Su nota final es:  8.333333333333334\n"
          ]
        }
      ]
    },
    {
      "cell_type": "code",
      "source": [
        "PromFinal = (C1+C2+C3)/3\n",
        "\n",
        "print(\"Su nota final del Ciclo 1 en Electronica es: \", PromFinal)"
      ],
      "metadata": {
        "colab": {
          "base_uri": "https://localhost:8080/"
        },
        "id": "mEZBlw6nUYSj",
        "outputId": "705dd0b1-84ca-4a5c-e5f9-3862a3fc1d87"
      },
      "execution_count": null,
      "outputs": [
        {
          "output_type": "stream",
          "name": "stdout",
          "text": [
            "Su nota final del Ciclo 1 en Electronica es:  8.666666666666666\n"
          ]
        }
      ]
    },
    {
      "cell_type": "code",
      "source": [
        "# Tarea 2. Semana 4"
      ],
      "metadata": {
        "id": "2Gn0ZJlYQIZV"
      },
      "execution_count": 50,
      "outputs": []
    },
    {
      "cell_type": "code",
      "source": [
        "# Ejercicio 1: Calcular sobre el sueldo las deducciones por ley ISSS (3%), AFP (6.25%), ISR (segun tabla) e imprima el total de deduccines y sueldo neto. (20%)"
      ],
      "metadata": {
        "id": "wKL6WFCMkKm0"
      },
      "execution_count": null,
      "outputs": []
    },
    {
      "cell_type": "code",
      "source": [
        "sueldo = float(input(\"Ingrese su sueldo\"))\n",
        "descuentoISSS = float(input(\"Ingrese descuento ISSS: \"))\n",
        "descuentoAFP = float(input(\"Ingrese descuento AFP: \"))\n",
        "descuentoISR = float(input(\"Ingrese descuento ISR: \"))\n",
        "SueldoNeto = (sueldo - descuentoISSS - descuentoAFP - descuentoISR)\n",
        "print(\"Su sueldo final es: \", SueldoNeto)"
      ],
      "metadata": {
        "colab": {
          "base_uri": "https://localhost:8080/"
        },
        "id": "2zGVj6AwwHbr",
        "outputId": "9ce2731f-d06c-4461-9979-9e1c06b1a0be"
      },
      "execution_count": 161,
      "outputs": [
        {
          "output_type": "stream",
          "name": "stdout",
          "text": [
            "Ingrese su sueldo450\n",
            "Ingrese descuento ISSS: 32.50\n",
            "Ingrese descuento AFP: 12.50\n",
            "Ingrese descuento ISR: 0.00\n",
            "Su sueldo final es:  405.0\n"
          ]
        }
      ]
    },
    {
      "cell_type": "code",
      "source": [
        "def impuestos(salario):\n",
        "  return (salario) * 0.03 + (salario) * 0.0625"
      ],
      "metadata": {
        "id": "4Sj4H2VG7Mf6"
      },
      "execution_count": 111,
      "outputs": []
    },
    {
      "cell_type": "code",
      "source": [
        "def calculosalario(salario):\n",
        "  return (salario) - impuestos(salario)"
      ],
      "metadata": {
        "id": "gK9ROvkJ7Q7O"
      },
      "execution_count": 112,
      "outputs": []
    },
    {
      "cell_type": "code",
      "source": [
        "def impuestos1 (salario):\n",
        "  return (calculosalario (salario) - 472.00) * 0.10 + 17.67"
      ],
      "metadata": {
        "id": "iSe1QMyf7V0j"
      },
      "execution_count": 113,
      "outputs": []
    },
    {
      "cell_type": "code",
      "source": [
        "def impuestos2 (salario):\n",
        "  return (calculosalario (salario) - 895.24) * 0.20 + 60"
      ],
      "metadata": {
        "id": "9AHSz7Re7Z2r"
      },
      "execution_count": 114,
      "outputs": []
    },
    {
      "cell_type": "code",
      "source": [
        "def impuestos3 (salario):\n",
        "  return (calculosalario (salario) - 2038.10) * 0.30 + 288.57"
      ],
      "metadata": {
        "id": "aZ4XwUD57dHi"
      },
      "execution_count": 115,
      "outputs": []
    },
    {
      "cell_type": "code",
      "source": [
        "salario = float(input(\"Ingrese la cantidad de su salario: \"))"
      ],
      "metadata": {
        "colab": {
          "base_uri": "https://localhost:8080/"
        },
        "id": "bVM7Nqv_7dhC",
        "outputId": "f843c5d1-3046-426d-c47a-1b5dfa23b0a7"
      },
      "execution_count": 124,
      "outputs": [
        {
          "name": "stdout",
          "output_type": "stream",
          "text": [
            "Ingrese la cantidad de su salario: 630\n"
          ]
        }
      ]
    },
    {
      "cell_type": "code",
      "source": [
        "print(\"Su salario es de: \", calculosalario(salario))"
      ],
      "metadata": {
        "colab": {
          "base_uri": "https://localhost:8080/"
        },
        "id": "vtzCtLxJ7d9G",
        "outputId": "731f97a6-3456-4b3a-d8c7-a4216a45c9b9"
      },
      "execution_count": 125,
      "outputs": [
        {
          "output_type": "stream",
          "name": "stdout",
          "text": [
            "Su salario es de:  571.725\n"
          ]
        }
      ]
    },
    {
      "cell_type": "code",
      "source": [
        "if salario <= 472 :\n",
        "  print(\"Lamentablemente usted no aplica a ISR \")"
      ],
      "metadata": {
        "id": "vM73zIPL7jaa"
      },
      "execution_count": 126,
      "outputs": []
    },
    {
      "cell_type": "code",
      "source": [
        "if salario >= 472.01  and salario <= 895.24: \n",
        "   print(\"Su retencion de impuesto sobre la renta en su salario: \",calculosalario(salario),\"es de :\",impuestos1(salario))"
      ],
      "metadata": {
        "colab": {
          "base_uri": "https://localhost:8080/"
        },
        "id": "frlFPbGc7j1S",
        "outputId": "cc272ba8-e986-4316-da2e-6cd48cbeef43"
      },
      "execution_count": 127,
      "outputs": [
        {
          "output_type": "stream",
          "name": "stdout",
          "text": [
            "Su retencion de impuesto sobre la renta en su salario:  571.725 es de : 27.642500000000005\n"
          ]
        }
      ]
    },
    {
      "cell_type": "code",
      "source": [
        "if salario >= 895.25 and salario <= 2038.10:\n",
        "  print(\"Su retención de impuesto sobre la renta en su salario de: \", calculosalario(salario), \"es de: \", impuestos2(salario))"
      ],
      "metadata": {
        "id": "NgGU7f1b7kLD"
      },
      "execution_count": 120,
      "outputs": []
    },
    {
      "cell_type": "code",
      "source": [
        "if salario >= 2038.10:\n",
        "  print(\"Su retención de impuesto sobre la renta en su salario de: \", calculosalario(salario), \"es de: \", impuestos3(salario))"
      ],
      "metadata": {
        "id": "gx930nmH7wQ5"
      },
      "execution_count": 121,
      "outputs": []
    },
    {
      "cell_type": "code",
      "source": [
        "# Ejercicio 2: Calcular el  valor a pagar segun el numero de metros consumidos de agua potable"
      ],
      "metadata": {
        "id": "aCdO7antyh5k"
      },
      "execution_count": 122,
      "outputs": []
    },
    {
      "cell_type": "code",
      "source": [
        "# Ejercicio 3: Desarrolle la tabla de meses acumulados a n meses. Si puede encontrar la formula matematica para evitar ciclos (10%)."
      ],
      "metadata": {
        "id": "aK7tJTLTyh3K"
      },
      "execution_count": 123,
      "outputs": []
    },
    {
      "cell_type": "code",
      "source": [
        "print(\"Ingrese cantidad que desea imprimir para lo acumulado\")\n",
        "a = int(input())\n",
        "b = 0"
      ],
      "metadata": {
        "colab": {
          "base_uri": "https://localhost:8080/"
        },
        "id": "Wup2bPYd29t9",
        "outputId": "c9b985cc-c37d-4141-b4bb-79dfce034010"
      },
      "execution_count": 128,
      "outputs": [
        {
          "name": "stdout",
          "output_type": "stream",
          "text": [
            "Ingrese cantidad que desea imprimir para lo acumulado\n",
            "10\n"
          ]
        }
      ]
    },
    {
      "cell_type": "code",
      "source": [
        "for i in range(1, a + 1):\n",
        "  print(i)\n",
        "  b = b + 1\n",
        "  print(\"La lista de valores acumulados que solicita es: \", b)"
      ],
      "metadata": {
        "colab": {
          "base_uri": "https://localhost:8080/"
        },
        "id": "AXBPJPOx-4uh",
        "outputId": "79114c52-e392-4f94-a320-4eaf0cee1b99"
      },
      "execution_count": 129,
      "outputs": [
        {
          "output_type": "stream",
          "name": "stdout",
          "text": [
            "1\n",
            "La lista de valores acumulados que solicita es:  1\n",
            "2\n",
            "La lista de valores acumulados que solicita es:  2\n",
            "3\n",
            "La lista de valores acumulados que solicita es:  3\n",
            "4\n",
            "La lista de valores acumulados que solicita es:  4\n",
            "5\n",
            "La lista de valores acumulados que solicita es:  5\n",
            "6\n",
            "La lista de valores acumulados que solicita es:  6\n",
            "7\n",
            "La lista de valores acumulados que solicita es:  7\n",
            "8\n",
            "La lista de valores acumulados que solicita es:  8\n",
            "9\n",
            "La lista de valores acumulados que solicita es:  9\n",
            "10\n",
            "La lista de valores acumulados que solicita es:  10\n"
          ]
        }
      ]
    },
    {
      "cell_type": "code",
      "source": [
        "# Ejercicio 4: Conversores: (40%) (10 ítems como mínimo por cada uno) • Monedas (Resuelto en clases) • Longitud • Masa • Almacenamiento • Tiempo • Volumen • Área"
      ],
      "metadata": {
        "id": "nZJcgOdsBfHj"
      },
      "execution_count": null,
      "outputs": []
    },
    {
      "cell_type": "code",
      "source": [
        "# Monedas"
      ],
      "metadata": {
        "id": "xXUz6RftBfwS"
      },
      "execution_count": null,
      "outputs": []
    },
    {
      "cell_type": "code",
      "source": [
        "divisas = [\"Seleccione una divisa\", \"Dolares\", \n",
        "           \"Quetzalez\", \"Lempiras\", \"Cordobas\", \n",
        "           \"Pesos CR\", \"Euros\", \"Colon SV\", \n",
        "           \"Yenes\", \"Soles Peruanos\"\n",
        "]\n",
        "valores = [0,1, 7.71, 24.51, 35.77, 664.64, 0.98, 8.75, 134.13, 3.84]"
      ],
      "metadata": {
        "id": "nLy2PSE4U3ds"
      },
      "execution_count": 144,
      "outputs": []
    },
    {
      "cell_type": "code",
      "source": [
        "def convertir(de, a, cantidad):\n",
        "  return valores [a] / valores [de] * cantidad"
      ],
      "metadata": {
        "id": "wCcDY2I4U9d8"
      },
      "execution_count": 131,
      "outputs": []
    },
    {
      "cell_type": "code",
      "source": [
        "print(\"*** MENU ***\")\n",
        "print(\"SELECCIONE UNA DIVISA\")\n",
        "print(\"1. Dolares\")\n",
        "print(\"2. Quetzalez\")\n",
        "print(\"3. Lempiras\")\n",
        "print(\"4. Cordobas\")\n",
        "print(\"5. Pesos CR\")\n",
        "print(\"6. Euros\")\n",
        "print(\"7. Colon SV\")\n",
        "print(\"8. Yenes\")\n",
        "print(\"9. Soles Peruanos\")"
      ],
      "metadata": {
        "colab": {
          "base_uri": "https://localhost:8080/"
        },
        "id": "x0m0DzfxU-h6",
        "outputId": "f909f24b-2b94-43e1-afa9-944896c3125f"
      },
      "execution_count": 132,
      "outputs": [
        {
          "output_type": "stream",
          "name": "stdout",
          "text": [
            "*** MENU ***\n",
            "SELECCIONE UNA DIVISA\n",
            "1. Dolares\n",
            "2. Quetzalez\n",
            "3. Lempiras\n",
            "4. Cordobas\n",
            "5. Pesos CR\n",
            "6. Euros\n",
            "7. Colon SV\n",
            "8. Yenes\n",
            "9. Soles Peruanos\n"
          ]
        }
      ]
    },
    {
      "cell_type": "code",
      "source": [
        "de = int(input(\"DE: \"))\n",
        "a = int(input(\"A: \"))\n",
        "cantidad = float(input(\"Cantidad: \"))\n",
        "\n",
        "print( divisas[de],  \" a \", divisas[a], \" es: \", convertir(de, a, cantidad) )"
      ],
      "metadata": {
        "colab": {
          "base_uri": "https://localhost:8080/"
        },
        "id": "cNAkKQGl_4uT",
        "outputId": "5b103ff3-455a-42e5-a038-ea621e2edbc4"
      },
      "execution_count": 133,
      "outputs": [
        {
          "output_type": "stream",
          "name": "stdout",
          "text": [
            "DE: 3\n",
            "A: 8\n",
            "Cantidad: 25\n",
            "Lempiras  a  Yenes  es:  136.81150550795593\n"
          ]
        }
      ]
    },
    {
      "cell_type": "code",
      "source": [
        "# Longitud"
      ],
      "metadata": {
        "id": "apVF4CmDBW7L"
      },
      "execution_count": null,
      "outputs": []
    },
    {
      "cell_type": "code",
      "source": [
        "divisas = [\"Seleccione una divisa\", \"metro\", \n",
        "           \"kilometro\", \"centimetros\", \"milimetro\", \n",
        "           \"yarda\", \"pie\", \"pulgadas\", \n",
        "           \"milla\", \"Milla nautica\", 'nanometro',\n",
        "]\n",
        "valores = [0,1, 0.001, 100, 1000, 1.09361, 3.28084, 39.3701, 0.000621371,0.000539957,1e+9 ]"
      ],
      "metadata": {
        "id": "CH92lpB6__Q7"
      },
      "execution_count": 134,
      "outputs": []
    },
    {
      "cell_type": "code",
      "source": [
        "def convertir(de, a, cantidad):\n",
        "  return valores [de] / valores [a] * cantidad"
      ],
      "metadata": {
        "id": "-IU7l2mgAV3M"
      },
      "execution_count": 135,
      "outputs": []
    },
    {
      "cell_type": "code",
      "source": [
        "print(\"*** MENU ***\")\n",
        "print(\"SELECCIONE UNA DIVISA\")\n",
        "print(\"1. metro\")\n",
        "print(\"2. Kilometro\")\n",
        "print(\"3. centimetros\")\n",
        "print(\"4. Milimetro\")\n",
        "print(\"5. Yarda\")\n",
        "print(\"6. Pie\")\n",
        "print(\"7. pulgada\")\n",
        "print(\"8. Milla\")\n",
        "print(\"9. Milla nautica\")\n",
        "print(\"10. Nanometro\")"
      ],
      "metadata": {
        "colab": {
          "base_uri": "https://localhost:8080/"
        },
        "id": "JSv8OiHPAbZC",
        "outputId": "2cb33b09-d045-4252-84b0-5d14f68799cd"
      },
      "execution_count": 136,
      "outputs": [
        {
          "output_type": "stream",
          "name": "stdout",
          "text": [
            "*** MENU ***\n",
            "SELECCIONE UNA DIVISA\n",
            "1. metro\n",
            "2. Kilometro\n",
            "3. centimetros\n",
            "4. Milimetro\n",
            "5. Yarda\n",
            "6. Pie\n",
            "7. pulgada\n",
            "8. Milla\n",
            "9. Milla nautica\n",
            "10. Nanometro\n"
          ]
        }
      ]
    },
    {
      "cell_type": "code",
      "source": [
        "a = int(input(\"DE: \"))\n",
        "de = int(input(\"A: \"))\n",
        "cantidad = float(input(\"Cantidad: \"))\n",
        "\n",
        "print( divisas[a],  \" a \", divisas[de], \" es: \", convertir(de, a, cantidad) )\n"
      ],
      "metadata": {
        "colab": {
          "base_uri": "https://localhost:8080/"
        },
        "id": "bi0ZdXzBAiO6",
        "outputId": "ddfb62e3-c346-438f-8045-0b6f1024f903"
      },
      "execution_count": 137,
      "outputs": [
        {
          "output_type": "stream",
          "name": "stdout",
          "text": [
            "DE: 5\n",
            "A: 1\n",
            "Cantidad: 10\n",
            "yarda  a  metro  es:  9.144027578387178\n"
          ]
        }
      ]
    },
    {
      "cell_type": "code",
      "source": [
        "# Masa"
      ],
      "metadata": {
        "id": "Cyh75VybBQMa"
      },
      "execution_count": null,
      "outputs": []
    },
    {
      "cell_type": "code",
      "source": [
        "divisas = [\"Seleccione una divisa\", \"Tonelada\", \n",
        "           \"Kilogramo\", \"Gramo\", \"Miligramo\", \n",
        "           \"Microgramo\", \"Tonelada larga\", \"Tonela corta\", \n",
        "           \"Stone\", \"Libra\", 'Onza',\n",
        "\n",
        "]\n",
        "valores = [0,1, 1000, 1e+6, 1e+9, 1e+12, 0.984207, 1.10231, 157.473, 2204.62, 35274 ]"
      ],
      "metadata": {
        "id": "Qo4aW-bZAtDN"
      },
      "execution_count": 143,
      "outputs": []
    },
    {
      "cell_type": "code",
      "source": [
        "def convertir(de, a, cantidad):\n",
        "  return valores [de] / valores [a] * cantidad"
      ],
      "metadata": {
        "id": "-d5mVj4lA1uZ"
      },
      "execution_count": 139,
      "outputs": []
    },
    {
      "cell_type": "code",
      "source": [
        "print(\"*** MENU ***\")\n",
        "print(\"SELECCIONE UNA DIVISA\")\n",
        "print(\"1. Tonelada\")\n",
        "print(\"2. Kilogramo\")\n",
        "print(\"3. Gramo\")\n",
        "print(\"4. Miligramo\")\n",
        "print(\"5. Micrograma\")\n",
        "print(\"6. Tonelada larga\")\n",
        "print(\"7. Tonelada corta\")\n",
        "print(\"8. Stone\")\n",
        "print(\"9. Libra\")\n",
        "print(\"10. Onza\")"
      ],
      "metadata": {
        "colab": {
          "base_uri": "https://localhost:8080/"
        },
        "id": "liu3UI9YA4Fu",
        "outputId": "f6ae4190-b04a-4ca3-fe22-35a74a3277d2"
      },
      "execution_count": 140,
      "outputs": [
        {
          "output_type": "stream",
          "name": "stdout",
          "text": [
            "*** MENU ***\n",
            "SELECCIONE UNA DIVISA\n",
            "1. Tonelada\n",
            "2. Kilogramo\n",
            "3. Gramo\n",
            "4. Miligramo\n",
            "5. Micrograma\n",
            "6. Tonelada larga\n",
            "7. Tonelada corta\n",
            "8. Stone\n",
            "9. Libra\n",
            "10. Onza\n"
          ]
        }
      ]
    },
    {
      "cell_type": "code",
      "source": [
        "a = int(input(\"DE: \"))\n",
        "de = int(input(\"A: \"))\n",
        "cantidad = float(input(\"Cantidad: \"))\n",
        "print( divisas[a],  \" a \", divisas[de], \" es: \", convertir(de, a, cantidad) )"
      ],
      "metadata": {
        "colab": {
          "base_uri": "https://localhost:8080/"
        },
        "id": "hbtki6gbBBz6",
        "outputId": "1bb0e19b-0f46-41f7-a14b-e804ec98cb56"
      },
      "execution_count": 141,
      "outputs": [
        {
          "output_type": "stream",
          "name": "stdout",
          "text": [
            "DE: 8\n",
            "A: 3\n",
            "Cantidad: 25\n",
            "Stone  a  Gramo  es:  158757.3742800353\n"
          ]
        }
      ]
    },
    {
      "cell_type": "code",
      "source": [
        "# Almacenamiento"
      ],
      "metadata": {
        "id": "nwEQCfQlBI65"
      },
      "execution_count": null,
      "outputs": []
    },
    {
      "cell_type": "code",
      "source": [
        "divisas = [\"Seleccione una divisa\", \" Terabit\", \n",
        "           \"Mebibit\", \"Gibibit\", \"Gigabit\", \n",
        "           \"tebibit\", \"Petabyte\", \"Mebibyte\", \n",
        "           \"Megabyte\", \"Gigabyte\", 'Terabyte',\n",
        "]\n",
        "valores = [0,1, 953700, 931.3, 1000, 1.1, 8000, 119200, 125000,125,0.125 ]"
      ],
      "metadata": {
        "id": "-il6FpA5BLKB"
      },
      "execution_count": 142,
      "outputs": []
    },
    {
      "cell_type": "code",
      "source": [
        "def convertir(de, a, cantidad):\n",
        "  return valores [de] / valores [a] * cantidad"
      ],
      "metadata": {
        "id": "GOpBeoWVBrlp"
      },
      "execution_count": 145,
      "outputs": []
    },
    {
      "cell_type": "code",
      "source": [
        "print(\"*** MENU ***\")\n",
        "print(\"SELECCIONE UNA DIVISA\")\n",
        "print(\"1. Terabit\")\n",
        "print(\"2. Mebibit\")\n",
        "print(\"3. Gibibit\")\n",
        "print(\"4. Gigabit\")\n",
        "print(\"5. Tebibit\")\n",
        "print(\"6. Petabyte\")\n",
        "print(\"7. Mebibyte\")\n",
        "print(\"8. Megabyte\")\n",
        "print(\"9. Gygabyte\")\n",
        "print(\"10.Terabyte\")"
      ],
      "metadata": {
        "colab": {
          "base_uri": "https://localhost:8080/"
        },
        "id": "YNoU77pABumS",
        "outputId": "bf671c98-58f1-4620-f627-b8a78e5d70bd"
      },
      "execution_count": 146,
      "outputs": [
        {
          "output_type": "stream",
          "name": "stdout",
          "text": [
            "*** MENU ***\n",
            "SELECCIONE UNA DIVISA\n",
            "1. Terabit\n",
            "2. Mebibit\n",
            "3. Gibibit\n",
            "4. Gigabit\n",
            "5. Tebibit\n",
            "6. Petabyte\n",
            "7. Mebibyte\n",
            "8. Megabyte\n",
            "9. Gygabyte\n",
            "10.Terabyte\n"
          ]
        }
      ]
    },
    {
      "cell_type": "code",
      "source": [
        "a = int(input(\"DE: \"))\n",
        "de = int(input(\"A: \"))\n",
        "cantidad = float(input(\"Cantidad: \"))\n",
        "\n",
        "print( divisas[a],  \" a \", divisas[de], \" es: \", convertir(de, a, cantidad) )"
      ],
      "metadata": {
        "colab": {
          "base_uri": "https://localhost:8080/"
        },
        "id": "Xf6uvEd-B2LJ",
        "outputId": "3f98f69f-befc-41ef-d82d-fa60279988a7"
      },
      "execution_count": 147,
      "outputs": [
        {
          "output_type": "stream",
          "name": "stdout",
          "text": [
            "DE: 4\n",
            "A: 1\n",
            "Cantidad: 20\n",
            "Cordobas  a  Dolares  es:  0.5591277606933184\n"
          ]
        }
      ]
    },
    {
      "cell_type": "code",
      "source": [
        "# Tiempo"
      ],
      "metadata": {
        "id": "SPXUg2hfB6cT"
      },
      "execution_count": null,
      "outputs": []
    },
    {
      "cell_type": "code",
      "source": [
        "divisas = [\"Seleccione una divisa\", \" Segundo\", \n",
        "           \"Milisegundo\", \"Minuto\", \"Hora\", \n",
        "           \"Dia\", \"Semana\", \"Mes\", \n",
        "           \"Año\", \"Decada\", 'Siglo',\n",
        "]\n",
        "valores = [0,1, 1000, 0.0166667, 0.000277778,1.1574e-5, 1.6534e-6, 3.8052e-7, 3.171e-8,3.171e-9,3.171e-10 ]"
      ],
      "metadata": {
        "id": "LWav08KXB83k"
      },
      "execution_count": 148,
      "outputs": []
    },
    {
      "cell_type": "code",
      "source": [
        "def convertir(de, a, cantidad):\n",
        "  return valores [de] / valores [a] * cantidad"
      ],
      "metadata": {
        "id": "qJzy4QT6B_wI"
      },
      "execution_count": 149,
      "outputs": []
    },
    {
      "cell_type": "code",
      "source": [],
      "metadata": {
        "id": "Rr2Ni_RJCCgo"
      },
      "execution_count": null,
      "outputs": []
    },
    {
      "cell_type": "code",
      "source": [
        "print(\"*** MENU ***\")\n",
        "print(\"SELECCIONE UNA DIVISA\")\n",
        "print(\"1. Segundo\")\n",
        "print(\"2. Milesegundo\")\n",
        "print(\"3. Minuto\")\n",
        "print(\"4. Hora\")\n",
        "print(\"5. Dia\")\n",
        "print(\"6. Semana\")\n",
        "print(\"7. Mes\")\n",
        "print(\"8. Año\")\n",
        "print(\"9. Decada\")\n",
        "print(\"10.Siglo\")"
      ],
      "metadata": {
        "colab": {
          "base_uri": "https://localhost:8080/"
        },
        "id": "Jt1TqIidCC3I",
        "outputId": "46bafb1e-fab2-4c22-efb7-db748d5e6af6"
      },
      "execution_count": 150,
      "outputs": [
        {
          "output_type": "stream",
          "name": "stdout",
          "text": [
            "*** MENU ***\n",
            "SELECCIONE UNA DIVISA\n",
            "1. Segundo\n",
            "2. Milesegundo\n",
            "3. Minuto\n",
            "4. Hora\n",
            "5. Dia\n",
            "6. Semana\n",
            "7. Mes\n",
            "8. Año\n",
            "9. Decada\n",
            "10.Siglo\n"
          ]
        }
      ]
    },
    {
      "cell_type": "code",
      "source": [
        "a = int(input(\"DE: \"))\n",
        "de = int(input(\"A: \"))\n",
        "cantidad = float(input(\"Cantidad: \"))\n",
        "\n",
        "print( divisas[a],  \" a \", divisas[de], \" es: \", convertir(de, a, cantidad) )"
      ],
      "metadata": {
        "colab": {
          "base_uri": "https://localhost:8080/"
        },
        "id": "znREnTx7CFgw",
        "outputId": "87079d45-c401-4040-eca3-578891082b4c"
      },
      "execution_count": 151,
      "outputs": [
        {
          "output_type": "stream",
          "name": "stdout",
          "text": [
            "DE: 4\n",
            "A: 6\n",
            "Cantidad: 3500\n",
            "Hora  a  Semana  es:  20.83282333374133\n"
          ]
        }
      ]
    },
    {
      "cell_type": "code",
      "source": [
        "# Volumen"
      ],
      "metadata": {
        "id": "bi6PiDfjCg9r"
      },
      "execution_count": null,
      "outputs": []
    },
    {
      "cell_type": "code",
      "source": [
        "divisas = [\"Seleccione una divisa\", \"Litro\", \n",
        "           \"Mililitro\", \"Galón\", \"Cuarto\", \n",
        "           \"Pinta\", \"Taza\", \"Onza líquida\", \n",
        "           \"Cucharada\", \"Cucharadita\", 'Pie cúbico',\n",
        "]\n",
        "valores = [0,1, 1000, 0.219969, 0.879877, 1.75975, 3.51951, 35.1951, 56.3121, 168.936, 0.0353147 ]"
      ],
      "metadata": {
        "id": "2TFgPE46CstA"
      },
      "execution_count": 153,
      "outputs": []
    },
    {
      "cell_type": "code",
      "source": [
        "def convertir(de, a, cantidad):\n",
        "  return valores [de] / valores [a] * cantidad"
      ],
      "metadata": {
        "id": "QQORMjsTCt2f"
      },
      "execution_count": 154,
      "outputs": []
    },
    {
      "cell_type": "code",
      "source": [
        "print(\"*** MENU ***\")\n",
        "print(\"SELECCIONE UNA DIVISA\")\n",
        "print(\"1. Litro\")\n",
        "print(\"2. Mililitro\")\n",
        "print(\"3. Galón\")\n",
        "print(\"4. Cuarto\")\n",
        "print(\"5. Pinta\")\n",
        "print(\"6. Taza\")\n",
        "print(\"7. Onza liquida\")\n",
        "print(\"8. Cucharada\")\n",
        "print(\"9. Cucharadita\")\n",
        "print(\"10. Pie cúbico\")"
      ],
      "metadata": {
        "colab": {
          "base_uri": "https://localhost:8080/"
        },
        "id": "YbxL2dV-CwVn",
        "outputId": "755396dd-af66-4158-edd7-446bb60ebc0e"
      },
      "execution_count": 155,
      "outputs": [
        {
          "output_type": "stream",
          "name": "stdout",
          "text": [
            "*** MENU ***\n",
            "SELECCIONE UNA DIVISA\n",
            "1. Litro\n",
            "2. Mililitro\n",
            "3. Galón\n",
            "4. Cuarto\n",
            "5. Pinta\n",
            "6. Taza\n",
            "7. Onza liquida\n",
            "8. Cucharada\n",
            "9. Cucharadita\n",
            "10. Pie cúbico\n"
          ]
        }
      ]
    },
    {
      "cell_type": "code",
      "source": [
        "a = int(input(\"DE: \"))\n",
        "de = int(input(\"A: \"))\n",
        "cantidad = float(input(\"Cantidad: \"))\n",
        "print( divisas[a],  \" a \", divisas[de], \" es: \", convertir(de, a, cantidad) )"
      ],
      "metadata": {
        "colab": {
          "base_uri": "https://localhost:8080/"
        },
        "id": "cdmc--JzCy6A",
        "outputId": "9b4d420f-fa42-4e65-b529-1e78e7be28f3"
      },
      "execution_count": 156,
      "outputs": [
        {
          "output_type": "stream",
          "name": "stdout",
          "text": [
            "DE: 3\n",
            "A: 7\n",
            "Cantidad: 30\n",
            "Galón  a  Onza líquida  es:  4800.008182971236\n"
          ]
        }
      ]
    },
    {
      "cell_type": "code",
      "source": [
        "# Area"
      ],
      "metadata": {
        "id": "GF6SySBGC7qH"
      },
      "execution_count": null,
      "outputs": []
    },
    {
      "cell_type": "code",
      "source": [
        "divisas = [\"Seleccione una divisa\", \"Hectarea\", \n",
        "           \"Kilometro cuadrado\", \"Metro Cuadrado\", \"Milla cuadrada\", \n",
        "           \"Yarda cuadrada\", \"Pie cuadrado\", \"Pulgada cuadrada\", \n",
        "           \"Acre\",\n",
        "]\n",
        "valores = [0,1, 0.01, 10000, 0.00386102, 11959.9, 107639, 1.55e+7, 2.47105 ]"
      ],
      "metadata": {
        "id": "v8fiGZYgC7_X"
      },
      "execution_count": 157,
      "outputs": []
    },
    {
      "cell_type": "code",
      "source": [
        "def convertir(de, a, cantidad):\n",
        "  return valores [de] / valores [a] * cantidad"
      ],
      "metadata": {
        "id": "qDw5-Q19C99X"
      },
      "execution_count": 158,
      "outputs": []
    },
    {
      "cell_type": "code",
      "source": [
        "print(\"*** MENU ***\")\n",
        "print(\"SELECCIONE UNA DIVISA\")\n",
        "print(\"1. Hectarea\")\n",
        "print(\"2. Kilometro cuadrado\")\n",
        "print(\"3. Metro cuadrado\")\n",
        "print(\"4. Milla cuadrada\")\n",
        "print(\"5. Yarda cuadrada\")\n",
        "print(\"6. Pie cuadrado\")\n",
        "print(\"7. Pulgada cuadrada\")\n",
        "print(\"8. Acre\")"
      ],
      "metadata": {
        "colab": {
          "base_uri": "https://localhost:8080/"
        },
        "id": "oXlDeCTVDAk-",
        "outputId": "7481b89b-95ab-4e14-e898-fc0dde8e8f22"
      },
      "execution_count": 159,
      "outputs": [
        {
          "output_type": "stream",
          "name": "stdout",
          "text": [
            "*** MENU ***\n",
            "SELECCIONE UNA DIVISA\n",
            "1. Hectarea\n",
            "2. Kilometro cuadrado\n",
            "3. Metro cuadrado\n",
            "4. Milla cuadrada\n",
            "5. Yarda cuadrada\n",
            "6. Pie cuadrado\n",
            "7. Pulgada cuadrada\n",
            "8. Acre\n"
          ]
        }
      ]
    },
    {
      "cell_type": "code",
      "source": [
        "a = int(input(\"DE: \"))\n",
        "de = int(input(\"A: \"))\n",
        "cantidad = float(input(\"Cantidad: \"))\n",
        "print( divisas[a],  \" a \", divisas[de], \" es: \", convertir(de, a, cantidad) )"
      ],
      "metadata": {
        "colab": {
          "base_uri": "https://localhost:8080/"
        },
        "id": "d6DeIBRhDC7P",
        "outputId": "df1e3554-e211-4446-b762-e4540f5a6424"
      },
      "execution_count": 160,
      "outputs": [
        {
          "output_type": "stream",
          "name": "stdout",
          "text": [
            "DE: 2\n",
            "A: 3\n",
            "Cantidad: 15\n",
            "Kilometro cuadrado  a  Metro Cuadrado  es:  15000000.0\n"
          ]
        }
      ]
    }
  ]
}